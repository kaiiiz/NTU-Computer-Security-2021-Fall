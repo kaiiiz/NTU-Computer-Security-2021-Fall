{
 "cells": [
  {
   "cell_type": "code",
   "execution_count": null,
   "id": "d0339e6e-9f80-419a-b246-3a1a95e3adf4",
   "metadata": {},
   "outputs": [],
   "source": [
    "# NotFLAG{XXXXXXX_15_S0_GREAT_15NT_IT?} => FLAG{xxxx}"
   ]
  },
  {
   "cell_type": "code",
   "execution_count": 8,
   "id": "9986ed65-6d4a-43c0-ad26-22caa7ea2fb8",
   "metadata": {},
   "outputs": [
    {
     "data": {
      "text/plain": [
       "675767058"
      ]
     },
     "execution_count": 8,
     "metadata": {},
     "output_type": "execute_result"
    }
   ],
   "source": [
    "675767066 - ord('N') + ord('F')"
   ]
  }
 ],
 "metadata": {
  "kernelspec": {
   "display_name": "Python 3 (ipykernel)",
   "language": "python",
   "name": "python3"
  },
  "language_info": {
   "codemirror_mode": {
    "name": "ipython",
    "version": 3
   },
   "file_extension": ".py",
   "mimetype": "text/x-python",
   "name": "python",
   "nbconvert_exporter": "python",
   "pygments_lexer": "ipython3",
   "version": "3.9.9"
  }
 },
 "nbformat": 4,
 "nbformat_minor": 5
}
