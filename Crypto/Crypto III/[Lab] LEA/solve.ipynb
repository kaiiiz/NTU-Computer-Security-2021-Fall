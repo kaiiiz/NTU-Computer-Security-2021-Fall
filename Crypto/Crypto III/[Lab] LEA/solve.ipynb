{
 "cells": [
  {
   "cell_type": "code",
   "execution_count": 12,
   "id": "7dcb1879-beec-4e7b-987c-eca514d2a142",
   "metadata": {},
   "outputs": [],
   "source": [
    "# original: username,password,session\n",
    "# strategy, treat username,password as salt, and crack password length\n",
    "# hash(username,password,session) is known => generate hash(username,password,session,flag)"
   ]
  },
  {
   "cell_type": "code",
   "execution_count": 197,
   "id": "1b7b8bdf-6cac-44fd-910e-cce7c035e356",
   "metadata": {},
   "outputs": [
    {
     "name": "stdout",
     "output_type": "stream",
     "text": [
      "[x] Opening connection to edu-ctf.csie.org on port 42073\n",
      "[x] Opening connection to edu-ctf.csie.org on port 42073: Trying 140.112.31.97\n",
      "[+] Opening connection to edu-ctf.csie.org on port 42073: Done\n",
      "ec705328f770c1643725 0a418f4ed1f95bef1cc9123205fe81932dfad891ee93fedf\n",
      "128 36 92\n",
      "b'ec705328f770c1643725\\x80\\x00\\x00\\x00\\x00\\x00\\x00\\x00\\x00\\x00\\x00\\x00\\x00\\x00\\x00\\x00\\x00\\x00\\x00\\x00\\x00\\x00\\x00\\x00\\x00\\x00\\x00\\x00\\x00\\x00\\x00\\x00\\x00\\x00\\x00\\x00\\x00\\x00\\x00\\x00\\x00\\x00\\x00\\x00\\x00\\x00\\x00\\x00\\x00\\x00\\x00\\x00\\x00\\x00\\x00\\x00\\x00\\x00\\x00\\x00\\x00\\x00\\x00\\x00\\x00\\x00\\x00\\x00\\x00\\x00\\x00\\x00\\x00\\x00\\x00\\x00\\x00\\x00\\x00\\x00\\x00\\x00\\x00\\x00\\x00\\x00\\x00\\x00\\x00\\x00\\x01 '\n",
      "b'2e543eb2f91663eda3a6e5ba51d3a13cceb695f6369b894d'\n"
     ]
    },
    {
     "data": {
      "text/plain": [
       "b'Permission denied\\n'"
      ]
     },
     "execution_count": 197,
     "metadata": {},
     "output_type": "execute_result"
    }
   ],
   "source": [
    "from math import sin\n",
    "\n",
    "def get_origin_len(session_id, pw_len):\n",
    "    origin_seq_len = 7 + pw_len + 2 + len(session_id)\n",
    "    origin_len = origin_seq_len + 1 # 0x80\n",
    "    if origin_len % 128 > 120: # pad to next block\n",
    "        while origin_len % 128 != 0: origin_len += 1\n",
    "    while origin_len % 128 < 120: origin_len += 1\n",
    "    origin_len += 8 # sequence length\n",
    "    return origin_len, origin_seq_len, origin_len - origin_seq_len\n",
    "\n",
    "def pad_session(session_id, origin_seq_len, origin_pad_len):\n",
    "    origin_session_id = session_id.encode()\n",
    "    origin_session_id += bytes([0x80])\n",
    "    for _ in range(origin_pad_len - 8 - 1):\n",
    "        origin_session_id += bytes(1)\n",
    "    origin_session_id += bytes.fromhex(hex(origin_seq_len * 8)[2:].rjust(16, '0'))\n",
    "    return origin_session_id\n",
    "\n",
    "def hash_new_seq(known_hash, new_len):\n",
    "    A = int(known_hash[0:8], 16)\n",
    "    F = int(known_hash[8:16], 16)\n",
    "    C = int(known_hash[16:24], 16)\n",
    "    B = int(known_hash[24:32], 16)\n",
    "    D = int(known_hash[32:40], 16)\n",
    "    E = int(known_hash[40:48], 16)\n",
    "    def G(X,Y,Z):\n",
    "        return (X ^ (~Z | ~Y) ^ Z) & 0xFFFFFFFF\n",
    "    def H(X,Y):\n",
    "        return (X << Y | X >> (32 - Y)) & 0xFFFFFFFF\n",
    "    X = [int((0xFFFFFFFE) * sin(i)) & 0xFFFFFFFF for i in range(256)]\n",
    "    \n",
    "    # hash with new sequence\n",
    "    s = b\"&&flag\"\n",
    "    s += bytes([0x80])\n",
    "    if len(s) % 128 > 120:\n",
    "        while len(s) % 128 != 0: s += bytes(1)\n",
    "    while len(s) % 128 < 120: s += bytes(1)\n",
    "    s += bytes.fromhex(hex(new_len * 8)[2:].rjust(16, '0'))\n",
    "    \n",
    "\n",
    "    for i, b in enumerate(s):\n",
    "        k, l = int(b), i & 0x1f\n",
    "        A = (B + H(A + G(B,C,D) + X[k], l)) & 0xFFFFFFFF\n",
    "        B = (C + H(B + G(C,D,E) + X[k], l)) & 0xFFFFFFFF\n",
    "        C = (D + H(C + G(D,E,F) + X[k], l)) & 0xFFFFFFFF\n",
    "        D = (E + H(D + G(E,F,A) + X[k], l)) & 0xFFFFFFFF\n",
    "        E = (F + H(E + G(F,A,B) + X[k], l)) & 0xFFFFFFFF\n",
    "        F = (A + H(F + G(A,B,C) + X[k], l)) & 0xFFFFFFFF\n",
    "    return ''.join(map(lambda x : hex(x)[2:].rjust(8, '0'), [A, F, C, B, D, E]))\n",
    "\n",
    "\n",
    "r = remote('edu-ctf.csie.org', 42073)\n",
    "r.sendlineafter(\"Please Input your username:\", b\"Guest\")\n",
    "r.recvline() # Hello\n",
    "session_id = r.recvline().decode().split(\"Here is your session ID: \")[1].strip()\n",
    "mac = r.recvline().decode().split(\"and your MAC(username&&password&&sessionID): \")[1].strip()\n",
    "print(session_id, mac)\n",
    "\n",
    "# test_string: Guest&&No FLAG&&session_id{origin padding}&&flag{new padding}\n",
    "pw_len = 7\n",
    "origin_len, origin_seq_len, origin_pad_len = get_origin_len(session_id, pw_len)\n",
    "print(origin_len, origin_seq_len, origin_pad_len)\n",
    "\n",
    "padded_session_id = pad_session(session_id, origin_seq_len, origin_pad_len)\n",
    "print(padded_session_id)\n",
    "\n",
    "new_mac = hash_new_seq(mac, origin_len + 6).encode()\n",
    "print(new_mac)\n",
    "\n",
    "payload = bytes.hex(new_mac + b\"&&\" + padded_session_id + b\"&&flag\")\n",
    "r.sendlineafter(\"What do you want to do? \", payload.encode())\n",
    "r.recvline()"
   ]
  },
  {
   "cell_type": "code",
   "execution_count": 198,
   "id": "4d0c9de5-b3d1-460f-bd2a-ae81e2bfc174",
   "metadata": {
    "scrolled": true,
    "tags": []
   },
   "outputs": [
    {
     "name": "stdout",
     "output_type": "stream",
     "text": [
      "[x] Opening connection to edu-ctf.csie.org on port 42073\n",
      "[x] Opening connection to edu-ctf.csie.org on port 42073: Trying 140.112.31.97\n",
      "[+] Opening connection to edu-ctf.csie.org on port 42073: Done\n",
      "1 b'Refused!\\n'\n",
      "2 b'Refused!\\n'\n",
      "3 b'Refused!\\n'\n",
      "4 b'Refused!\\n'\n",
      "5 b'Refused!\\n'\n",
      "6 b'Refused!\\n'\n",
      "7 b'Refused!\\n'\n",
      "8 b'Refused!\\n'\n",
      "9 b'Refused!\\n'\n",
      "10 b'FLAG{c2adf08fdd2baa1e0b0b0caacdcda65c8f5bad36}\\n'\n"
     ]
    },
    {
     "ename": "EOFError",
     "evalue": "",
     "output_type": "error",
     "traceback": [
      "\u001b[0;31m---------------------------------------------------------------------------\u001b[0m",
      "\u001b[0;31mEOFError\u001b[0m                                  Traceback (most recent call last)",
      "\u001b[0;32m/tmp/ipykernel_130476/1202672231.py\u001b[0m in \u001b[0;36m<module>\u001b[0;34m\u001b[0m\n\u001b[1;32m     15\u001b[0m \u001b[0;34m\u001b[0m\u001b[0m\n\u001b[1;32m     16\u001b[0m     \u001b[0mpayload\u001b[0m \u001b[0;34m=\u001b[0m \u001b[0mbytes\u001b[0m\u001b[0;34m.\u001b[0m\u001b[0mhex\u001b[0m\u001b[0;34m(\u001b[0m\u001b[0mnew_mac\u001b[0m \u001b[0;34m+\u001b[0m \u001b[0;34mb\"&&\"\u001b[0m \u001b[0;34m+\u001b[0m \u001b[0mpadded_session_id\u001b[0m \u001b[0;34m+\u001b[0m \u001b[0;34mb\"&&flag\"\u001b[0m\u001b[0;34m)\u001b[0m\u001b[0;34m\u001b[0m\u001b[0;34m\u001b[0m\u001b[0m\n\u001b[0;32m---> 17\u001b[0;31m     \u001b[0mr\u001b[0m\u001b[0;34m.\u001b[0m\u001b[0msendlineafter\u001b[0m\u001b[0;34m(\u001b[0m\u001b[0;34m\"What do you want to do? \"\u001b[0m\u001b[0;34m,\u001b[0m \u001b[0mpayload\u001b[0m\u001b[0;34m.\u001b[0m\u001b[0mencode\u001b[0m\u001b[0;34m(\u001b[0m\u001b[0;34m)\u001b[0m\u001b[0;34m)\u001b[0m\u001b[0;34m\u001b[0m\u001b[0;34m\u001b[0m\u001b[0m\n\u001b[0m\u001b[1;32m     18\u001b[0m     \u001b[0mret\u001b[0m \u001b[0;34m=\u001b[0m \u001b[0mr\u001b[0m\u001b[0;34m.\u001b[0m\u001b[0mrecvline\u001b[0m\u001b[0;34m(\u001b[0m\u001b[0;34m)\u001b[0m\u001b[0;34m\u001b[0m\u001b[0;34m\u001b[0m\u001b[0m\n\u001b[1;32m     19\u001b[0m     \u001b[0mprint\u001b[0m\u001b[0;34m(\u001b[0m\u001b[0mi\u001b[0m\u001b[0;34m,\u001b[0m \u001b[0mret\u001b[0m\u001b[0;34m)\u001b[0m\u001b[0;34m\u001b[0m\u001b[0;34m\u001b[0m\u001b[0m\n",
      "\u001b[0;32m~/.local/lib/python3.9/site-packages/pwnlib/tubes/tube.py\u001b[0m in \u001b[0;36msendlineafter\u001b[0;34m(self, delim, data, timeout)\u001b[0m\n\u001b[1;32m    820\u001b[0m \u001b[0;34m\u001b[0m\u001b[0m\n\u001b[1;32m    821\u001b[0m         \u001b[0mdata\u001b[0m \u001b[0;34m=\u001b[0m \u001b[0mpacking\u001b[0m\u001b[0;34m.\u001b[0m\u001b[0m_need_bytes\u001b[0m\u001b[0;34m(\u001b[0m\u001b[0mdata\u001b[0m\u001b[0;34m)\u001b[0m\u001b[0;34m\u001b[0m\u001b[0;34m\u001b[0m\u001b[0m\n\u001b[0;32m--> 822\u001b[0;31m         \u001b[0mres\u001b[0m \u001b[0;34m=\u001b[0m \u001b[0mself\u001b[0m\u001b[0;34m.\u001b[0m\u001b[0mrecvuntil\u001b[0m\u001b[0;34m(\u001b[0m\u001b[0mdelim\u001b[0m\u001b[0;34m,\u001b[0m \u001b[0mtimeout\u001b[0m\u001b[0;34m=\u001b[0m\u001b[0mtimeout\u001b[0m\u001b[0;34m)\u001b[0m\u001b[0;34m\u001b[0m\u001b[0;34m\u001b[0m\u001b[0m\n\u001b[0m\u001b[1;32m    823\u001b[0m         \u001b[0mself\u001b[0m\u001b[0;34m.\u001b[0m\u001b[0msendline\u001b[0m\u001b[0;34m(\u001b[0m\u001b[0mdata\u001b[0m\u001b[0;34m)\u001b[0m\u001b[0;34m\u001b[0m\u001b[0;34m\u001b[0m\u001b[0m\n\u001b[1;32m    824\u001b[0m         \u001b[0;32mreturn\u001b[0m \u001b[0mres\u001b[0m\u001b[0;34m\u001b[0m\u001b[0;34m\u001b[0m\u001b[0m\n",
      "\u001b[0;32m~/.local/lib/python3.9/site-packages/pwnlib/tubes/tube.py\u001b[0m in \u001b[0;36mrecvuntil\u001b[0;34m(self, delims, drop, timeout)\u001b[0m\n\u001b[1;32m    331\u001b[0m             \u001b[0;32mwhile\u001b[0m \u001b[0mself\u001b[0m\u001b[0;34m.\u001b[0m\u001b[0mcountdown_active\u001b[0m\u001b[0;34m(\u001b[0m\u001b[0;34m)\u001b[0m\u001b[0;34m:\u001b[0m\u001b[0;34m\u001b[0m\u001b[0;34m\u001b[0m\u001b[0m\n\u001b[1;32m    332\u001b[0m                 \u001b[0;32mtry\u001b[0m\u001b[0;34m:\u001b[0m\u001b[0;34m\u001b[0m\u001b[0;34m\u001b[0m\u001b[0m\n\u001b[0;32m--> 333\u001b[0;31m                     \u001b[0mres\u001b[0m \u001b[0;34m=\u001b[0m \u001b[0mself\u001b[0m\u001b[0;34m.\u001b[0m\u001b[0mrecv\u001b[0m\u001b[0;34m(\u001b[0m\u001b[0mtimeout\u001b[0m\u001b[0;34m=\u001b[0m\u001b[0mself\u001b[0m\u001b[0;34m.\u001b[0m\u001b[0mtimeout\u001b[0m\u001b[0;34m)\u001b[0m\u001b[0;34m\u001b[0m\u001b[0;34m\u001b[0m\u001b[0m\n\u001b[0m\u001b[1;32m    334\u001b[0m                 \u001b[0;32mexcept\u001b[0m \u001b[0mException\u001b[0m\u001b[0;34m:\u001b[0m\u001b[0;34m\u001b[0m\u001b[0;34m\u001b[0m\u001b[0m\n\u001b[1;32m    335\u001b[0m                     \u001b[0mself\u001b[0m\u001b[0;34m.\u001b[0m\u001b[0munrecv\u001b[0m\u001b[0;34m(\u001b[0m\u001b[0;34mb''\u001b[0m\u001b[0;34m.\u001b[0m\u001b[0mjoin\u001b[0m\u001b[0;34m(\u001b[0m\u001b[0mdata\u001b[0m\u001b[0;34m)\u001b[0m \u001b[0;34m+\u001b[0m \u001b[0mtop\u001b[0m\u001b[0;34m)\u001b[0m\u001b[0;34m\u001b[0m\u001b[0;34m\u001b[0m\u001b[0m\n",
      "\u001b[0;32m~/.local/lib/python3.9/site-packages/pwnlib/tubes/tube.py\u001b[0m in \u001b[0;36mrecv\u001b[0;34m(self, numb, timeout)\u001b[0m\n\u001b[1;32m    103\u001b[0m         \"\"\"\n\u001b[1;32m    104\u001b[0m         \u001b[0mnumb\u001b[0m \u001b[0;34m=\u001b[0m \u001b[0mself\u001b[0m\u001b[0;34m.\u001b[0m\u001b[0mbuffer\u001b[0m\u001b[0;34m.\u001b[0m\u001b[0mget_fill_size\u001b[0m\u001b[0;34m(\u001b[0m\u001b[0mnumb\u001b[0m\u001b[0;34m)\u001b[0m\u001b[0;34m\u001b[0m\u001b[0;34m\u001b[0m\u001b[0m\n\u001b[0;32m--> 105\u001b[0;31m         \u001b[0;32mreturn\u001b[0m \u001b[0mself\u001b[0m\u001b[0;34m.\u001b[0m\u001b[0m_recv\u001b[0m\u001b[0;34m(\u001b[0m\u001b[0mnumb\u001b[0m\u001b[0;34m,\u001b[0m \u001b[0mtimeout\u001b[0m\u001b[0;34m)\u001b[0m \u001b[0;32mor\u001b[0m \u001b[0;34mb''\u001b[0m\u001b[0;34m\u001b[0m\u001b[0;34m\u001b[0m\u001b[0m\n\u001b[0m\u001b[1;32m    106\u001b[0m \u001b[0;34m\u001b[0m\u001b[0m\n\u001b[1;32m    107\u001b[0m     \u001b[0;32mdef\u001b[0m \u001b[0munrecv\u001b[0m\u001b[0;34m(\u001b[0m\u001b[0mself\u001b[0m\u001b[0;34m,\u001b[0m \u001b[0mdata\u001b[0m\u001b[0;34m)\u001b[0m\u001b[0;34m:\u001b[0m\u001b[0;34m\u001b[0m\u001b[0;34m\u001b[0m\u001b[0m\n",
      "\u001b[0;32m~/.local/lib/python3.9/site-packages/pwnlib/tubes/tube.py\u001b[0m in \u001b[0;36m_recv\u001b[0;34m(self, numb, timeout)\u001b[0m\n\u001b[1;32m    181\u001b[0m         \u001b[0;31m# No buffered data, could not put anything in the buffer\u001b[0m\u001b[0;34m\u001b[0m\u001b[0;34m\u001b[0m\u001b[0;34m\u001b[0m\u001b[0m\n\u001b[1;32m    182\u001b[0m         \u001b[0;31m# before timeout.\u001b[0m\u001b[0;34m\u001b[0m\u001b[0;34m\u001b[0m\u001b[0;34m\u001b[0m\u001b[0m\n\u001b[0;32m--> 183\u001b[0;31m         \u001b[0;32mif\u001b[0m \u001b[0;32mnot\u001b[0m \u001b[0mself\u001b[0m\u001b[0;34m.\u001b[0m\u001b[0mbuffer\u001b[0m \u001b[0;32mand\u001b[0m \u001b[0;32mnot\u001b[0m \u001b[0mself\u001b[0m\u001b[0;34m.\u001b[0m\u001b[0m_fillbuffer\u001b[0m\u001b[0;34m(\u001b[0m\u001b[0mtimeout\u001b[0m\u001b[0;34m)\u001b[0m\u001b[0;34m:\u001b[0m\u001b[0;34m\u001b[0m\u001b[0;34m\u001b[0m\u001b[0m\n\u001b[0m\u001b[1;32m    184\u001b[0m             \u001b[0;32mreturn\u001b[0m \u001b[0;34mb''\u001b[0m\u001b[0;34m\u001b[0m\u001b[0;34m\u001b[0m\u001b[0m\n\u001b[1;32m    185\u001b[0m \u001b[0;34m\u001b[0m\u001b[0m\n",
      "\u001b[0;32m~/.local/lib/python3.9/site-packages/pwnlib/tubes/tube.py\u001b[0m in \u001b[0;36m_fillbuffer\u001b[0;34m(self, timeout)\u001b[0m\n\u001b[1;32m    152\u001b[0m \u001b[0;34m\u001b[0m\u001b[0m\n\u001b[1;32m    153\u001b[0m         \u001b[0;32mwith\u001b[0m \u001b[0mself\u001b[0m\u001b[0;34m.\u001b[0m\u001b[0mlocal\u001b[0m\u001b[0;34m(\u001b[0m\u001b[0mtimeout\u001b[0m\u001b[0;34m)\u001b[0m\u001b[0;34m:\u001b[0m\u001b[0;34m\u001b[0m\u001b[0;34m\u001b[0m\u001b[0m\n\u001b[0;32m--> 154\u001b[0;31m             \u001b[0mdata\u001b[0m \u001b[0;34m=\u001b[0m \u001b[0mself\u001b[0m\u001b[0;34m.\u001b[0m\u001b[0mrecv_raw\u001b[0m\u001b[0;34m(\u001b[0m\u001b[0mself\u001b[0m\u001b[0;34m.\u001b[0m\u001b[0mbuffer\u001b[0m\u001b[0;34m.\u001b[0m\u001b[0mget_fill_size\u001b[0m\u001b[0;34m(\u001b[0m\u001b[0;34m)\u001b[0m\u001b[0;34m)\u001b[0m\u001b[0;34m\u001b[0m\u001b[0;34m\u001b[0m\u001b[0m\n\u001b[0m\u001b[1;32m    155\u001b[0m \u001b[0;34m\u001b[0m\u001b[0m\n\u001b[1;32m    156\u001b[0m         \u001b[0;32mif\u001b[0m \u001b[0mdata\u001b[0m \u001b[0;32mand\u001b[0m \u001b[0mself\u001b[0m\u001b[0;34m.\u001b[0m\u001b[0misEnabledFor\u001b[0m\u001b[0;34m(\u001b[0m\u001b[0mlogging\u001b[0m\u001b[0;34m.\u001b[0m\u001b[0mDEBUG\u001b[0m\u001b[0;34m)\u001b[0m\u001b[0;34m:\u001b[0m\u001b[0;34m\u001b[0m\u001b[0;34m\u001b[0m\u001b[0m\n",
      "\u001b[0;32m~/.local/lib/python3.9/site-packages/pwnlib/tubes/sock.py\u001b[0m in \u001b[0;36mrecv_raw\u001b[0;34m(self, numb, *a)\u001b[0m\n\u001b[1;32m     54\u001b[0m         \u001b[0;32mif\u001b[0m \u001b[0;32mnot\u001b[0m \u001b[0mdata\u001b[0m\u001b[0;34m:\u001b[0m\u001b[0;34m\u001b[0m\u001b[0;34m\u001b[0m\u001b[0m\n\u001b[1;32m     55\u001b[0m             \u001b[0mself\u001b[0m\u001b[0;34m.\u001b[0m\u001b[0mshutdown\u001b[0m\u001b[0;34m(\u001b[0m\u001b[0;34m\"recv\"\u001b[0m\u001b[0;34m)\u001b[0m\u001b[0;34m\u001b[0m\u001b[0;34m\u001b[0m\u001b[0m\n\u001b[0;32m---> 56\u001b[0;31m             \u001b[0;32mraise\u001b[0m \u001b[0mEOFError\u001b[0m\u001b[0;34m\u001b[0m\u001b[0;34m\u001b[0m\u001b[0m\n\u001b[0m\u001b[1;32m     57\u001b[0m \u001b[0;34m\u001b[0m\u001b[0m\n\u001b[1;32m     58\u001b[0m         \u001b[0;32mreturn\u001b[0m \u001b[0mdata\u001b[0m\u001b[0;34m\u001b[0m\u001b[0;34m\u001b[0m\u001b[0m\n",
      "\u001b[0;31mEOFError\u001b[0m: "
     ]
    }
   ],
   "source": [
    "from pwn import *\n",
    "\n",
    "r = remote('edu-ctf.csie.org', 42073)\n",
    "r.sendlineafter(\"Please Input your username:\", b\"Admin\")\n",
    "r.recvline() # Hello\n",
    "session_id = r.recvline().decode().split(\"Here is your session ID: \")[1].strip()\n",
    "mac = r.recvline().decode().split(\"and your MAC(username&&password&&sessionID): \")[1].strip()\n",
    "\n",
    "# target_string: Admin&&pw&&session_id{origin padding}&&flag{new padding}\n",
    "for i in range(1, 1024):\n",
    "    pw_len = i\n",
    "    origin_len, origin_seq_len, origin_pad_len = get_origin_len(session_id, pw_len)\n",
    "    padded_session_id = pad_session(session_id, origin_seq_len, origin_pad_len)\n",
    "    new_mac = hash_new_seq(mac, origin_len + 6).encode()\n",
    "\n",
    "    payload = bytes.hex(new_mac + b\"&&\" + padded_session_id + b\"&&flag\")\n",
    "    r.sendlineafter(\"What do you want to do? \", payload.encode())\n",
    "    ret = r.recvline()\n",
    "    print(i, ret)"
   ]
  }
 ],
 "metadata": {
  "kernelspec": {
   "display_name": "Python 3 (ipykernel)",
   "language": "python",
   "name": "python3"
  },
  "language_info": {
   "codemirror_mode": {
    "name": "ipython",
    "version": 3
   },
   "file_extension": ".py",
   "mimetype": "text/x-python",
   "name": "python",
   "nbconvert_exporter": "python",
   "pygments_lexer": "ipython3",
   "version": "3.9.2"
  }
 },
 "nbformat": 4,
 "nbformat_minor": 5
}
