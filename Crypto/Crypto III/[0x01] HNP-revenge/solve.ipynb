{
 "cells": [
  {
   "cell_type": "code",
   "execution_count": 1,
   "metadata": {},
   "outputs": [],
   "source": [
    "from pwn import *\n",
    "from random import randint\n",
    "from Crypto.Util.number import *\n",
    "from hashlib import sha256, md5\n",
    "from ecdsa import SECP256k1, ellipticcurve\n",
    "from ecdsa.ecdsa import Public_key, Private_key, Signature"
   ]
  },
  {
   "cell_type": "code",
   "execution_count": 2,
   "metadata": {},
   "outputs": [
    {
     "name": "stdout",
     "output_type": "stream",
     "text": [
      "[x] Opening connection to edu-ctf.csie.org on port 42074\n",
      "[x] Opening connection to edu-ctf.csie.org on port 42074: Trying 140.112.31.97\n",
      "[+] Opening connection to edu-ctf.csie.org on port 42074: Done\n"
     ]
    },
    {
     "data": {
      "text/plain": [
       "('110613415434285746854800759106628092763103984268296123978313631775625444543337',\n",
       " '60436750702644426603616607917008832405567229460175623988101441730027255235819')"
      ]
     },
     "execution_count": 2,
     "metadata": {},
     "output_type": "execute_result"
    }
   ],
   "source": [
    "r = remote('edu-ctf.csie.org', 42074)\n",
    "Px, Py = r.recvline().decode()[5:-2].split(', ')\n",
    "Px, Py"
   ]
  },
  {
   "cell_type": "code",
   "execution_count": 3,
   "metadata": {
    "tags": []
   },
   "outputs": [],
   "source": [
    "E = SECP256k1\n",
    "G, n = E.generator, E.order\n",
    "pubkey = Public_key(G, ellipticcurve.PointJacobi(E, int(Px), int(Py), 1, n))"
   ]
  },
  {
   "cell_type": "code",
   "execution_count": 4,
   "metadata": {},
   "outputs": [],
   "source": [
    "def send_opt_1(msg):\n",
    "    r.sendlineafter(b\"3) exit\", b\"1\")\n",
    "    r.sendlineafter(b\"Who are you?\\n\", msg.encode())\n",
    "    sig = r.recvline()\n",
    "    sig_r, sig_s = sig.decode()[1:-2].split(', ')\n",
    "    return int(sig_r), int(sig_s)\n",
    "\n",
    "m1 = '123'\n",
    "m2 = '456'\n",
    "h1 = bytes_to_long(sha256(m1.encode()).digest())\n",
    "h2 = bytes_to_long(sha256(m2.encode()).digest())\n",
    "r1, s1 = send_opt_1(m1)\n",
    "r2, s2 = send_opt_1(m2)"
   ]
  },
  {
   "cell_type": "code",
   "execution_count": 5,
   "metadata": {},
   "outputs": [
    {
     "data": {
      "text/plain": [
       "((76104366731769884912801315634034084475581661285531342661037251339642986025199,\n",
       "  54625830653790066737752033335115527110759924817380399010411985342297687449875),\n",
       " (38077548986453210565369732624785292742482739347403805131922304838452132673045,\n",
       "  50412711934388443891513804082940881989105236253252304547294127908043637094829))"
      ]
     },
     "execution_count": 5,
     "metadata": {},
     "output_type": "execute_result"
    }
   ],
   "source": [
    "(r1, s1), (r2, s2)"
   ]
  },
  {
   "cell_type": "markdown",
   "metadata": {},
   "source": [
    "$s_1 k_1 - h_1 = d * r_1$ and $s_2 k_2 - h_2 = d * r_2$\n",
    "\n",
    "$(s_1 k_1 - h_1) / (s_2 k_2 - h_2) = r_1/r_2$\n",
    "\n",
    "$\\to (s_1 k_1 - h_1) *r_2 = (s_2 k_2 - h_2) * r_1$\n",
    "\n",
    "$\\to s_1 k_1 r_2 - h_1 r_2 = s_2 k_2 r_1 - h_2 r_1$\n",
    "\n",
    "$\\to s_1 k_1 r_2 - s_2 k_2 r_1 - h_1 r_2 + h_2 r_1 = 0$\n",
    "\n",
    "$\\to k_1 - s_1^{-1} r_2^{-1} s_2 r_1 k_2 - s_1^{-1} h_1 + s_1^{-1} r_2^{-1} h_2 r_1 = 0$\n",
    "\n",
    "let $t = - s_1^{-1} r_2^{-1} s_2 r_1$ and $u = s_1^{-1} r_2^{-1} h_2 r_1 - s_1^{-1} h_1$\n",
    "\n",
    "$\\to k_1 + t k_2 + u = 0 \\ (mod \\ n)$"
   ]
  },
  {
   "cell_type": "code",
   "execution_count": 6,
   "metadata": {},
   "outputs": [],
   "source": [
    "F = Zmod(n)\n",
    "r1 = F(r1)\n",
    "r2 = F(r2)\n",
    "s1 = F(s1)\n",
    "s2 = F(s2)\n",
    "h1 = F(h1)\n",
    "h2 = F(h2)"
   ]
  },
  {
   "cell_type": "code",
   "execution_count": 7,
   "metadata": {},
   "outputs": [
    {
     "data": {
      "text/plain": [
       "(65839551039578071340397891083328114150545277278059909275001940272965409625847,\n",
       " 24129554824045479208839478339046885994509458016088937297262570827145713314682)"
      ]
     },
     "execution_count": 7,
     "metadata": {},
     "output_type": "execute_result"
    }
   ],
   "source": [
    "t = - (s1^(-1) * s2 * r1 * r2^(-1))\n",
    "u = s1^(-1) * r1 * h2 * r2^(-1)  - s1^(-1) * h1\n",
    "\n",
    "t, u"
   ]
  },
  {
   "cell_type": "markdown",
   "metadata": {},
   "source": [
    "$k_1 + t k_2 + u = 0 \\ (mod \\ n)$\n",
    "\n",
    "$\\to (a + p_1) + t (a + p_2) + u = 0 \\ (mod \\ n)$\n",
    "\n",
    "$\\to p_1 + t p_2 + (1 + t) a + u = 0 \\ (mod \\ n)$\n",
    "\n",
    "$|p_1|, [p_2| < 128$"
   ]
  },
  {
   "cell_type": "code",
   "execution_count": 8,
   "metadata": {},
   "outputs": [],
   "source": [
    "a = int(md5(b'secret').hexdigest(), 16) << 128"
   ]
  },
  {
   "cell_type": "code",
   "execution_count": 9,
   "metadata": {},
   "outputs": [
    {
     "data": {
      "text/plain": [
       "[  76471733322146002620591661556694044428  219508879203509815593130736679952412755                                        0]\n",
       "[-192563951626219072812945599161785337807   99283121899864318870601879397862120809  340282366920938463463374607431768211456]\n",
       "[-252486732441295225072784602475137637428  137399265207205741079310258132953826845 -340282366920938463463374607431768211456]"
      ]
     },
     "execution_count": 9,
     "metadata": {},
     "output_type": "execute_result"
    }
   ],
   "source": [
    "L = matrix(ZZ, [[n, 0, 0], [t, 1, 0], [a * (1+t) + u, 0, 2^128]])\n",
    "L.LLL()"
   ]
  },
  {
   "cell_type": "code",
   "execution_count": 10,
   "metadata": {},
   "outputs": [
    {
     "data": {
      "text/plain": [
       "(42853347383522459682061542032602724326739336933179068932737599642860595922895,\n",
       " 42853347383522459682061542032602724326646056103452714178795255923096672705897)"
      ]
     },
     "execution_count": 10,
     "metadata": {},
     "output_type": "execute_result"
    }
   ],
   "source": [
    "v = L.LLL()[1]\n",
    "p1 = -v[0]\n",
    "p2 = v[1]\n",
    "k1 = a + p1\n",
    "k2 = a + p2\n",
    "k1, k2"
   ]
  },
  {
   "cell_type": "code",
   "execution_count": 11,
   "metadata": {},
   "outputs": [
    {
     "data": {
      "text/plain": [
       "(107575800520486819172436853943000078822336268123816236810840778807410422737996,\n",
       " 107575800520486819172436853943000078822336268123816236810840778807410422737996)"
      ]
     },
     "execution_count": 11,
     "metadata": {},
     "output_type": "execute_result"
    }
   ],
   "source": [
    "(s1 * k1 - h1) * r1^(-1), (s2 * k2 - h2) * r2^(-1)"
   ]
  },
  {
   "cell_type": "code",
   "execution_count": 12,
   "metadata": {},
   "outputs": [
    {
     "data": {
      "text/plain": [
       "(mpz(110613415434285746854800759106628092763103984268296123978313631775625444543337),\n",
       " '110613415434285746854800759106628092763103984268296123978313631775625444543337')"
      ]
     },
     "execution_count": 12,
     "metadata": {},
     "output_type": "execute_result"
    }
   ],
   "source": [
    "d = (s2 * k2 - h2) * r2^(-1)\n",
    "(int(d)*G).x(), Px"
   ]
  },
  {
   "cell_type": "code",
   "execution_count": 13,
   "metadata": {},
   "outputs": [
    {
     "data": {
      "text/plain": [
       "('97097959111620046439076063203082801860561839384098038984919233803050084119603',\n",
       " '83836516513594297438732866678665960865359738843161939861646074939337667967460')"
      ]
     },
     "execution_count": 13,
     "metadata": {},
     "output_type": "execute_result"
    }
   ],
   "source": [
    "h = sha256('Kuruwa'.encode()).digest()\n",
    "k = int(md5(b'secret').hexdigest() + md5(long_to_bytes(int(d)) + h).hexdigest(), 16)\n",
    "prikey = Private_key(pubkey, d)\n",
    "sig = prikey.sign(bytes_to_long(h), k)\n",
    "str(sig.r), str(sig.s)"
   ]
  },
  {
   "cell_type": "code",
   "execution_count": 14,
   "metadata": {},
   "outputs": [
    {
     "data": {
      "text/plain": [
       "b'3) exit\\n'"
      ]
     },
     "execution_count": 14,
     "metadata": {},
     "output_type": "execute_result"
    }
   ],
   "source": [
    "r.recvline()\n",
    "r.recvline()\n",
    "r.recvline()\n",
    "r.recvline()"
   ]
  },
  {
   "cell_type": "code",
   "execution_count": 15,
   "metadata": {},
   "outputs": [
    {
     "data": {
      "text/plain": [
       "b's: '"
      ]
     },
     "execution_count": 15,
     "metadata": {},
     "output_type": "execute_result"
    }
   ],
   "source": [
    "r.sendline(b\"2\")\n",
    "r.sendlineafter(b'username: ', b\"Kuruwa\")\n",
    "r.sendlineafter(b'r: ', str(sig.r).encode())\n",
    "r.sendlineafter(b's: ', str(sig.s).encode())"
   ]
  },
  {
   "cell_type": "code",
   "execution_count": 16,
   "metadata": {},
   "outputs": [
    {
     "data": {
      "text/plain": [
       "b'FLAG{adfc9b68bd6ec6dbf6b3c9ddd46aafaea06a97ee}\\n'"
      ]
     },
     "execution_count": 16,
     "metadata": {},
     "output_type": "execute_result"
    }
   ],
   "source": [
    "r.recvline()"
   ]
  }
 ],
 "metadata": {
  "kernelspec": {
   "display_name": "SageMath 9.2",
   "language": "sage",
   "name": "sagemath"
  },
  "language_info": {
   "codemirror_mode": {
    "name": "ipython",
    "version": 3
   },
   "file_extension": ".py",
   "mimetype": "text/x-python",
   "name": "python",
   "nbconvert_exporter": "python",
   "pygments_lexer": "ipython3",
   "version": "3.9.9"
  }
 },
 "nbformat": 4,
 "nbformat_minor": 4
}
