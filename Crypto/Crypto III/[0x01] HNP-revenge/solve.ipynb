{
 "cells": [
  {
   "cell_type": "code",
   "execution_count": 2,
   "metadata": {},
   "outputs": [],
   "source": [
    "from pwn import *\n",
    "from random import randint\n",
    "from Crypto.Util.number import *\n",
    "from hashlib import sha256, md5\n",
    "from ecdsa import SECP256k1, ellipticcurve\n",
    "from ecdsa.ecdsa import Public_key, Private_key, Signature"
   ]
  },
  {
   "cell_type": "code",
   "execution_count": 26,
   "metadata": {},
   "outputs": [
    {
     "name": "stdout",
     "output_type": "stream",
     "text": [
      "[x] Opening connection to edu-ctf.csie.org on port 42074\n",
      "[x] Opening connection to edu-ctf.csie.org on port 42074: Trying 140.112.31.97\n",
      "[+] Opening connection to edu-ctf.csie.org on port 42074: Done\n"
     ]
    },
    {
     "data": {
      "text/plain": [
       "('11355180168742017688982524058427774693828732603029202752270459130329695603577',\n",
       " '63514070290159100640982136941659289533654882097601939291308482440070636236749')"
      ]
     },
     "execution_count": 26,
     "metadata": {},
     "output_type": "execute_result"
    }
   ],
   "source": [
    "r = remote('edu-ctf.csie.org', 42074)\n",
    "Px, Py = r.recvline().decode()[5:-2].split(', ')\n",
    "Px, Py"
   ]
  },
  {
   "cell_type": "code",
   "execution_count": 27,
   "metadata": {
    "tags": []
   },
   "outputs": [],
   "source": [
    "E = SECP256k1\n",
    "G, n = E.generator, E.order\n",
    "pubkey = Public_key(G, ellipticcurve.PointJacobi(E, int(Px), int(Py), 1, n))"
   ]
  },
  {
   "cell_type": "code",
   "execution_count": 28,
   "metadata": {},
   "outputs": [
    {
     "name": "stdout",
     "output_type": "stream",
     "text": [
      "b'(36627077418143416215002081252753048039097746978375100127966087866791169324362, 87532789933868186749570805667085591927291470753494541697474771725139779944055)\\n'\n",
      "b'(4453469421302686120308134350445995419560882000108123272936402662738152502028, 64000197955216668037634786675103484823041512861594482527708367044957296000472)\\n'\n"
     ]
    }
   ],
   "source": [
    "def send_opt_1(msg):\n",
    "    r.sendlineafter(b\"3) exit\", b\"1\")\n",
    "    r.sendlineafter(b\"Who are you?\\n\", msg.encode())\n",
    "    sig = r.recvline()\n",
    "    sig_r, sig_s = sig.decode()[1:-2].split(', ')\n",
    "    return int(sig_r), int(sig_s)\n",
    "\n",
    "m1 = '123'\n",
    "m2 = '456'\n",
    "h1 = bytes_to_long(sha256(m1.encode()).digest())\n",
    "h2 = bytes_to_long(sha256(m2.encode()).digest())\n",
    "r1, s1 = send_opt_1(m1)\n",
    "r2, s2 = send_opt_1(m2)"
   ]
  },
  {
   "cell_type": "code",
   "execution_count": 29,
   "metadata": {},
   "outputs": [
    {
     "data": {
      "text/plain": [
       "((36627077418143416215002081252753048039097746978375100127966087866791169324362,\n",
       "  87532789933868186749570805667085591927291470753494541697474771725139779944055),\n",
       " (4453469421302686120308134350445995419560882000108123272936402662738152502028,\n",
       "  64000197955216668037634786675103484823041512861594482527708367044957296000472))"
      ]
     },
     "execution_count": 29,
     "metadata": {},
     "output_type": "execute_result"
    }
   ],
   "source": [
    "(r1, s1), (r2, s2)"
   ]
  },
  {
   "cell_type": "markdown",
   "metadata": {},
   "source": [
    "$s_1 k_1 - h_1 = d * r_1$ and $s_2 k_2 - h_2 = d * r_2$\n",
    "\n",
    "$(s_1 k_1 - h_1) / (s_2 k_2 - h_2) = r_1/r_2$\n",
    "\n",
    "$\\to (s_1 k_1 - h_1) *r_2 = (s_2 k_2 - h_2) * r_1$\n",
    "\n",
    "$\\to s_1 k_1 r_2 - h_1 r_2 = s_2 k_2 r_1 - h_2 r_1$\n",
    "\n",
    "$\\to s_1 k_1 r_2 - s_2 k_2 r_1 - h_1 r_2 + h_2 r_1 = 0$\n",
    "\n",
    "$\\to k_1 - s_1^{-1} r_2^{-1} s_2 r_1 k_2 - s_1^{-1} h_1 + s_1^{-1} r_2^{-1} h_2 r_1 = 0$\n",
    "\n",
    "let $t = - s_1^{-1} r_2^{-1} s_2 r_1$ and $u = s_1^{-1} r_2^{-1} h_2 r_1 - s_1^{-1} h_1$\n",
    "\n",
    "$\\to k_1 + t k_2 + u = 0 \\ (mod \\ n)$"
   ]
  },
  {
   "cell_type": "code",
   "execution_count": 30,
   "metadata": {},
   "outputs": [],
   "source": [
    "F = Zmod(n)\n",
    "r1 = F(r1)\n",
    "r2 = F(r2)\n",
    "s1 = F(s1)\n",
    "s2 = F(s2)\n",
    "h1 = F(h1)\n",
    "h2 = F(h2)"
   ]
  },
  {
   "cell_type": "code",
   "execution_count": 31,
   "metadata": {},
   "outputs": [
    {
     "data": {
      "text/plain": [
       "(87575850598287155698864998687778268789448367850777566220582845610534308901569,\n",
       " 86768715067076168970831900382500140925837559481630216440922267711181563281830)"
      ]
     },
     "execution_count": 31,
     "metadata": {},
     "output_type": "execute_result"
    }
   ],
   "source": [
    "t = - (s1^(-1) * s2 * r1 * r2^(-1))\n",
    "u = s1^(-1) * r1 * h2 * r2^(-1)  - s1^(-1) * h1\n",
    "\n",
    "t, u"
   ]
  },
  {
   "cell_type": "markdown",
   "metadata": {},
   "source": [
    "$k_1 + t k_2 + u = 0 \\ (mod \\ n)$\n",
    "\n",
    "$\\to (a + p_1) + t (a + p_2) + u = 0 \\ (mod \\ n)$\n",
    "\n",
    "$\\to p_1 + t p_2 + (1 + t) a + u = 0 \\ (mod \\ n)$\n",
    "\n",
    "$|p_1|, [p_2| < 128$"
   ]
  },
  {
   "cell_type": "code",
   "execution_count": 32,
   "metadata": {},
   "outputs": [],
   "source": [
    "a = int(md5(b'secret').hexdigest(), 16) << 128"
   ]
  },
  {
   "cell_type": "code",
   "execution_count": 42,
   "metadata": {},
   "outputs": [
    {
     "data": {
      "text/plain": [
       "[-159821575041606419486715044730765694571   38471066189327077375200861893040212482                                        0]\n",
       "[  -2857886673820326394879990107096782912  263224668561855954544352848747787348104  340282366920938463463374607431768211456]\n",
       "[  34690908382911168791836238971999550053  453621219875384669069022410590153941021 -340282366920938463463374607431768211456]"
      ]
     },
     "execution_count": 42,
     "metadata": {},
     "output_type": "execute_result"
    }
   ],
   "source": [
    "L = matrix(ZZ, [[n, 0, 0], [t, 1, 0], [a * (1+t) + u, 0, 2^128]])\n",
    "L.LLL()"
   ]
  },
  {
   "cell_type": "code",
   "execution_count": 34,
   "metadata": {},
   "outputs": [
    {
     "data": {
      "text/plain": [
       "(42853347383522459682061542032602724326549630868226670186319534033805907368000,\n",
       " 42853347383522459682061542032602724326809997650114705814469006892446597933192)"
      ]
     },
     "execution_count": 34,
     "metadata": {},
     "output_type": "execute_result"
    }
   ],
   "source": [
    "v = L.LLL()[1]\n",
    "p1 = -v[0]\n",
    "p2 = v[1]\n",
    "k1 = a + p1\n",
    "k2 = a + p2\n",
    "k1, k2"
   ]
  },
  {
   "cell_type": "code",
   "execution_count": 35,
   "metadata": {},
   "outputs": [
    {
     "data": {
      "text/plain": [
       "(107969767335906210582810195697128791765421522667432316637444869637942061281090,\n",
       " 107969767335906210582810195697128791765421522667432316637444869637942061281090)"
      ]
     },
     "execution_count": 35,
     "metadata": {},
     "output_type": "execute_result"
    }
   ],
   "source": [
    "(s1 * k1 - h1) * r1^(-1), (s2 * k2 - h2) * r2^(-1)"
   ]
  },
  {
   "cell_type": "code",
   "execution_count": 36,
   "metadata": {},
   "outputs": [
    {
     "data": {
      "text/plain": [
       "(mpz(11355180168742017688982524058427774693828732603029202752270459130329695603577),\n",
       " '11355180168742017688982524058427774693828732603029202752270459130329695603577')"
      ]
     },
     "execution_count": 36,
     "metadata": {},
     "output_type": "execute_result"
    }
   ],
   "source": [
    "d = (s2 * k2 - h2) * r2^(-1)\n",
    "(int(d)*G).x(), Px"
   ]
  },
  {
   "cell_type": "code",
   "execution_count": 38,
   "metadata": {},
   "outputs": [
    {
     "data": {
      "text/plain": [
       "('63825320594311623643769791740580330406314025161475446258801230035581964411195',\n",
       " '113387105831969992999296008760571004273107175410665454360839926815706465618861')"
      ]
     },
     "execution_count": 38,
     "metadata": {},
     "output_type": "execute_result"
    }
   ],
   "source": [
    "h = sha256('Kuruwa'.encode()).digest()\n",
    "k = int(md5(b'secret').hexdigest() + md5(long_to_bytes(int(d)) + h).hexdigest(), 16)\n",
    "prikey = Private_key(pubkey, d)\n",
    "sig = prikey.sign(bytes_to_long(h), k)\n",
    "str(sig.r), str(sig.s)"
   ]
  },
  {
   "cell_type": "code",
   "execution_count": 39,
   "metadata": {},
   "outputs": [
    {
     "data": {
      "text/plain": [
       "b'3) exit\\n'"
      ]
     },
     "execution_count": 39,
     "metadata": {},
     "output_type": "execute_result"
    }
   ],
   "source": [
    "r.recvline()\n",
    "r.recvline()\n",
    "r.recvline()\n",
    "r.recvline()"
   ]
  },
  {
   "cell_type": "code",
   "execution_count": 40,
   "metadata": {},
   "outputs": [
    {
     "data": {
      "text/plain": [
       "b's: '"
      ]
     },
     "execution_count": 40,
     "metadata": {},
     "output_type": "execute_result"
    }
   ],
   "source": [
    "r.sendline(b\"2\")\n",
    "r.sendlineafter(b'username: ', b\"Kuruwa\")\n",
    "r.sendlineafter(b'r: ', str(sig.r).encode())\n",
    "r.sendlineafter(b's: ', str(sig.s).encode())"
   ]
  },
  {
   "cell_type": "code",
   "execution_count": 41,
   "metadata": {},
   "outputs": [
    {
     "data": {
      "text/plain": [
       "b'FLAG{adfc9b68bd6ec6dbf6b3c9ddd46aafaea06a97ee}\\n'"
      ]
     },
     "execution_count": 41,
     "metadata": {},
     "output_type": "execute_result"
    }
   ],
   "source": [
    "r.recvline()"
   ]
  }
 ],
 "metadata": {
  "kernelspec": {
   "display_name": "SageMath 9.2",
   "language": "sage",
   "name": "sagemath"
  },
  "language_info": {
   "codemirror_mode": {
    "name": "ipython",
    "version": 3
   },
   "file_extension": ".py",
   "mimetype": "text/x-python",
   "name": "python",
   "nbconvert_exporter": "python",
   "pygments_lexer": "ipython3",
   "version": "3.9.7"
  }
 },
 "nbformat": 4,
 "nbformat_minor": 4
}
