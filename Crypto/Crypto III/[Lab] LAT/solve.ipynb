{
 "cells": [
  {
   "cell_type": "code",
   "execution_count": 15,
   "metadata": {},
   "outputs": [],
   "source": [
    "from Crypto.Util.number import inverse, long_to_bytes\n",
    "\n",
    "def decrypt(q, h, f, g, e):\n",
    "    a = (f*e) % q\n",
    "    m = (a*inverse(f, g)) % g\n",
    "    return m"
   ]
  },
  {
   "cell_type": "code",
   "execution_count": 16,
   "metadata": {},
   "outputs": [],
   "source": [
    "q = 13198797472876287864902532913662133207745076880722933181850739256048248640200371699901863528719230289037546070463557840514069399741170318469168055220829673\n",
    "h = 10087945478419986810683355485899283062694316065852893531674190136106148631015543635096193003039720583579764280499310840409413968369520060566979727182282589\n",
    "e = 8989708726503367404715754689730782388959095528339234074784589050444870239608140046626770182336762701788963731736424741343914003600890982230995409715448250"
   ]
  },
  {
   "cell_type": "code",
   "execution_count": 17,
   "metadata": {},
   "outputs": [],
   "source": [
    "v1 = vector((1, h))\n",
    "v2 = vector((0, q))"
   ]
  },
  {
   "cell_type": "code",
   "execution_count": 18,
   "metadata": {},
   "outputs": [
    {
     "data": {
      "text/plain": [
       "(30165472345377893199996073216882484865326100372385032912649079590116386983603,\n",
       " 76800238348919971880137962056366565547536930174141631382703859430357272008755)"
      ]
     },
     "execution_count": 18,
     "metadata": {},
     "output_type": "execute_result"
    }
   ],
   "source": [
    "while True:\n",
    "    if v2.norm() < v1.norm():\n",
    "        v1, v2 = v2, v1\n",
    "    m = round(v2 * v1 / (v1 * v1))\n",
    "    if m == 0:\n",
    "        break\n",
    "    v2 = v2 - m * v1\n",
    "    \n",
    "f, g = v1\n",
    "f, g"
   ]
  },
  {
   "cell_type": "code",
   "execution_count": 19,
   "metadata": {},
   "outputs": [
    {
     "data": {
      "text/plain": [
       "b'FLAG{4ac3d34ee99b3fbd5c0e}'"
      ]
     },
     "execution_count": 19,
     "metadata": {},
     "output_type": "execute_result"
    }
   ],
   "source": [
    "long_to_bytes(decrypt(q, h, f, g, e))"
   ]
  }
 ],
 "metadata": {
  "kernelspec": {
   "display_name": "SageMath 9.2",
   "language": "sage",
   "name": "sagemath"
  },
  "language_info": {
   "codemirror_mode": {
    "name": "ipython",
    "version": 3
   },
   "file_extension": ".py",
   "mimetype": "text/x-python",
   "name": "python",
   "nbconvert_exporter": "python",
   "pygments_lexer": "ipython3",
   "version": "3.9.7"
  }
 },
 "nbformat": 4,
 "nbformat_minor": 4
}
