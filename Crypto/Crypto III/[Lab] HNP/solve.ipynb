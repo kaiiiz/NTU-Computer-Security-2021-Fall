{
 "cells": [
  {
   "cell_type": "code",
   "execution_count": 1,
   "id": "5fcd4ddf",
   "metadata": {},
   "outputs": [
    {
     "name": "stdout",
     "output_type": "stream",
     "text": [
      "[x] Opening connection to edu-ctf.csie.org on port 42072\n",
      "[x] Opening connection to edu-ctf.csie.org on port 42072: Trying 140.112.31.97\n",
      "[+] Opening connection to edu-ctf.csie.org on port 42072: Done\n"
     ]
    }
   ],
   "source": [
    "from pwn import *\n",
    "\n",
    "def recv_options():\n",
    "    for _ in range(4):\n",
    "        r.recvline()\n",
    "\n",
    "def send_opt_1(msg):\n",
    "    r.sendline(b\"1\")\n",
    "    r.recvline() # Who are you?\n",
    "    r.sendline(msg.encode())\n",
    "    sig_r, sig_s = r.recvline().decode()[7:-2].split(', ')\n",
    "    return int(sig_r), int(sig_s)\n",
    "        \n",
    "r = remote('edu-ctf.csie.org', 42072)\n",
    "Px, Py = r.recvline().decode()[5:-2].split(', ')"
   ]
  },
  {
   "cell_type": "code",
   "execution_count": 2,
   "id": "1625b64b",
   "metadata": {},
   "outputs": [
    {
     "data": {
      "text/plain": [
       "('3694690606271234648335516341082180735031998971265994520783787436972077020228',\n",
       " '76640663065541347363104690365211313286912450815730095582626100408054127519743')"
      ]
     },
     "execution_count": 2,
     "metadata": {},
     "output_type": "execute_result"
    }
   ],
   "source": [
    "Px, Py"
   ]
  },
  {
   "cell_type": "code",
   "execution_count": 3,
   "id": "f1cb38f5",
   "metadata": {},
   "outputs": [],
   "source": [
    "from ecdsa import SECP256k1\n",
    "from ecdsa import ellipticcurve\n",
    "from ecdsa.ecdsa import Public_key, Private_key, Signature\n",
    "\n",
    "E = SECP256k1\n",
    "G, n = E.generator, E.order\n",
    "pubkey = Public_key(G, ellipticcurve.PointJacobi(E, Px, Py, 1, n))"
   ]
  },
  {
   "cell_type": "code",
   "execution_count": 4,
   "id": "459f8a73",
   "metadata": {},
   "outputs": [],
   "source": [
    "recv_options()\n",
    "r1, s1 = send_opt_1('123')\n",
    "recv_options()\n",
    "r2, s2 = send_opt_1('456')"
   ]
  },
  {
   "cell_type": "code",
   "execution_count": 5,
   "id": "c2149516",
   "metadata": {},
   "outputs": [
    {
     "data": {
      "text/plain": [
       "((106879156232169727648503995456118462580761150081527133498521700041243658767836,\n",
       "  56080650897323811098342833033881064544021776789463765070122748273786405080312),\n",
       " (64608266994908543902845096126557474547352467783521818985433303673236778580963,\n",
       "  37285931420404017498940420911505557984411336833474505159827745752595961430283))"
      ]
     },
     "execution_count": 5,
     "metadata": {},
     "output_type": "execute_result"
    }
   ],
   "source": [
    "(r1, s1), (r2, s2)"
   ]
  },
  {
   "cell_type": "code",
   "execution_count": 6,
   "id": "87384677",
   "metadata": {},
   "outputs": [
    {
     "data": {
      "text/plain": [
       "9061930293378756934095533209556921287471686011294488665800952940561490711740"
      ]
     },
     "execution_count": 6,
     "metadata": {},
     "output_type": "execute_result"
    }
   ],
   "source": [
    "#s1k = h1 + dr1\n",
    "#s2k*1337 = h2 + dr2\n",
    "#s1/(s2*1337) = (h1+dr1)/(h2+dr2)\n",
    "#s1h2 + d(s1r2) = s2h1*1337 + d(s2r1*1337)\n",
    "\n",
    "from hashlib import sha256\n",
    "from Crypto.Util.number import *\n",
    "\n",
    "h1 = bytes_to_long(sha256('123'.encode()).digest())\n",
    "h2 = bytes_to_long(sha256('456'.encode()).digest())\n",
    "\n",
    "d = (s1*h2 - (s2*h1*1337)%n) * inverse_mod((s2*r1*1337)%n - s1*r2, n) % n\n",
    "d"
   ]
  },
  {
   "cell_type": "code",
   "execution_count": 7,
   "id": "8f9f270e",
   "metadata": {},
   "outputs": [
    {
     "data": {
      "text/plain": [
       "True"
      ]
     },
     "execution_count": 7,
     "metadata": {},
     "output_type": "execute_result"
    }
   ],
   "source": [
    "k = ((h1 + d * r1) % n * inverse_mod(s1, n)) % n\n",
    "(k * s1) % n == (h1 + d * r1) % n"
   ]
  },
  {
   "cell_type": "code",
   "execution_count": 8,
   "id": "015481ec",
   "metadata": {},
   "outputs": [
    {
     "data": {
      "text/plain": [
       "(mpz(3694690606271234648335516341082180735031998971265994520783787436972077020228),\n",
       " '3694690606271234648335516341082180735031998971265994520783787436972077020228')"
      ]
     },
     "execution_count": 8,
     "metadata": {},
     "output_type": "execute_result"
    }
   ],
   "source": [
    "Public_key(G, d*G).point.x(), Px"
   ]
  },
  {
   "cell_type": "code",
   "execution_count": 9,
   "id": "eee1198c",
   "metadata": {},
   "outputs": [
    {
     "data": {
      "text/plain": [
       "('107916852895090971449850594212497868486077173959981228985777055085134873810534',\n",
       " '69532732906141280582255207042887723127073853570429222830937321134472249793400')"
      ]
     },
     "execution_count": 9,
     "metadata": {},
     "output_type": "execute_result"
    }
   ],
   "source": [
    "k = k * 1337 % n\n",
    "k = k * 1337 % n\n",
    "prikey = Private_key(pubkey, d)\n",
    "sig = prikey.sign(bytes_to_long(sha256('Kuruwa'.encode()).digest()), k)\n",
    "str(sig.r), str(sig.s)"
   ]
  },
  {
   "cell_type": "code",
   "execution_count": 10,
   "id": "8d01dbfb",
   "metadata": {},
   "outputs": [
    {
     "data": {
      "text/plain": [
       "b'3) exit\\n'"
      ]
     },
     "execution_count": 10,
     "metadata": {},
     "output_type": "execute_result"
    }
   ],
   "source": [
    "r.recvline()\n",
    "r.recvline()\n",
    "r.recvline()\n",
    "r.recvline()"
   ]
  },
  {
   "cell_type": "code",
   "execution_count": 11,
   "id": "9e1d53ec",
   "metadata": {},
   "outputs": [],
   "source": [
    "r.sendline(b\"2\")\n",
    "r.sendline(b\"Kuruwa\")\n",
    "r.sendline(str(sig.r).encode())\n",
    "r.sendline(str(sig.s).encode())"
   ]
  },
  {
   "cell_type": "code",
   "execution_count": 12,
   "id": "23d46d70",
   "metadata": {},
   "outputs": [
    {
     "data": {
      "text/plain": [
       "b'username: r: s: FLAG{fcf8ab2bc7b42bbd00e5be2b3d311ec6e8a89526}\\n'"
      ]
     },
     "execution_count": 12,
     "metadata": {},
     "output_type": "execute_result"
    }
   ],
   "source": [
    "r.recvline()"
   ]
  }
 ],
 "metadata": {
  "kernelspec": {
   "display_name": "SageMath 9.2",
   "language": "sage",
   "name": "sagemath"
  },
  "language_info": {
   "codemirror_mode": {
    "name": "ipython",
    "version": 3
   },
   "file_extension": ".py",
   "mimetype": "text/x-python",
   "name": "python",
   "nbconvert_exporter": "python",
   "pygments_lexer": "ipython3",
   "version": "3.9.9"
  }
 },
 "nbformat": 4,
 "nbformat_minor": 5
}
