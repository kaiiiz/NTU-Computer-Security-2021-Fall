{
 "cells": [
  {
   "cell_type": "code",
   "execution_count": 176,
   "id": "5fcd4ddf",
   "metadata": {},
   "outputs": [
    {
     "name": "stdout",
     "output_type": "stream",
     "text": [
      "[x] Opening connection to edu-ctf.csie.org on port 42072\n",
      "[x] Opening connection to edu-ctf.csie.org on port 42072: Trying 140.112.31.97\n",
      "[+] Opening connection to edu-ctf.csie.org on port 42072: Done\n"
     ]
    }
   ],
   "source": [
    "from pwn import *\n",
    "\n",
    "def recv_options():\n",
    "    for _ in range(4):\n",
    "        r.recvline()\n",
    "\n",
    "def send_opt_1(msg):\n",
    "    r.sendline(b\"1\")\n",
    "    r.recvline() # Who are you?\n",
    "    r.sendline(msg.encode())\n",
    "    sig_r, sig_s = r.recvline().decode()[7:-2].split(', ')\n",
    "    return int(sig_r), int(sig_s)\n",
    "        \n",
    "r = remote('edu-ctf.csie.org', 42072)\n",
    "Px, Py = r.recvline().decode()[5:-2].split(', ')"
   ]
  },
  {
   "cell_type": "code",
   "execution_count": 177,
   "id": "1625b64b",
   "metadata": {},
   "outputs": [
    {
     "data": {
      "text/plain": [
       "('64392810160624940508847684630410816606406861610104484312427348073124019785884',\n",
       " '66338332133599813590038292287049972698784107746012848593058891691364696166039')"
      ]
     },
     "execution_count": 177,
     "metadata": {},
     "output_type": "execute_result"
    }
   ],
   "source": [
    "Px, Py"
   ]
  },
  {
   "cell_type": "code",
   "execution_count": 178,
   "id": "f1cb38f5",
   "metadata": {},
   "outputs": [],
   "source": [
    "from ecdsa import SECP256k1\n",
    "from ecdsa import ellipticcurve\n",
    "from ecdsa.ecdsa import Public_key, Private_key, Signature\n",
    "\n",
    "E = SECP256k1\n",
    "G, n = E.generator, E.order\n",
    "pubkey = Public_key(G, ellipticcurve.PointJacobi(E, Px, Py, 1, n))"
   ]
  },
  {
   "cell_type": "code",
   "execution_count": 179,
   "id": "459f8a73",
   "metadata": {},
   "outputs": [],
   "source": [
    "recv_options()\n",
    "r1, s1 = send_opt_1('123')\n",
    "recv_options()\n",
    "r2, s2 = send_opt_1('456')"
   ]
  },
  {
   "cell_type": "code",
   "execution_count": 180,
   "id": "c2149516",
   "metadata": {},
   "outputs": [
    {
     "data": {
      "text/plain": [
       "((112882173018052603293745941111953529824014906307946459772377713391922405655824,\n",
       "  99940072238367737792514479509760731582355159583249584125181258635240204782777),\n",
       " (95866935456207827771873264507777020462265354621865128404736076181932158933462,\n",
       "  61562504573408324317406178162427821826441489037492565713919037733468767084014))"
      ]
     },
     "execution_count": 180,
     "metadata": {},
     "output_type": "execute_result"
    }
   ],
   "source": [
    "(r1, s1), (r2, s2)"
   ]
  },
  {
   "cell_type": "code",
   "execution_count": 181,
   "id": "87384677",
   "metadata": {},
   "outputs": [
    {
     "data": {
      "text/plain": [
       "6970365145873492024248882479220790963874925614365751486748777127652387062245"
      ]
     },
     "execution_count": 181,
     "metadata": {},
     "output_type": "execute_result"
    }
   ],
   "source": [
    "#s1k = h1 + dr1\n",
    "#s2k*1337 = h2 + dr2\n",
    "#s1/(s2*1337) = (h1+dr1)/(h2+dr2)\n",
    "#s1h2 + d(s1r2) = s2h1*1337 + d(s2r1*1337)\n",
    "\n",
    "from hashlib import sha256\n",
    "from Crypto.Util.number import *\n",
    "\n",
    "h1 = bytes_to_long(sha256('123'.encode()).digest())\n",
    "h2 = bytes_to_long(sha256('456'.encode()).digest())\n",
    "\n",
    "d = (s1*h2 - (s2*h1*1337)%n) * inverse_mod((s2*r1*1337)%n - s1*r2, n) % n\n",
    "d"
   ]
  },
  {
   "cell_type": "code",
   "execution_count": 182,
   "id": "8f9f270e",
   "metadata": {},
   "outputs": [
    {
     "data": {
      "text/plain": [
       "True"
      ]
     },
     "execution_count": 182,
     "metadata": {},
     "output_type": "execute_result"
    }
   ],
   "source": [
    "k = ((h1 + d * r1) % n * inverse_mod(s1, n)) % n\n",
    "(k * s1) % n == (h1 + d * r1) % n"
   ]
  },
  {
   "cell_type": "code",
   "execution_count": 183,
   "id": "015481ec",
   "metadata": {},
   "outputs": [
    {
     "data": {
      "text/plain": [
       "(mpz(64392810160624940508847684630410816606406861610104484312427348073124019785884),\n",
       " '64392810160624940508847684630410816606406861610104484312427348073124019785884')"
      ]
     },
     "execution_count": 183,
     "metadata": {},
     "output_type": "execute_result"
    }
   ],
   "source": [
    "Public_key(G, d*G).point.x(), Px"
   ]
  },
  {
   "cell_type": "code",
   "execution_count": 184,
   "id": "eee1198c",
   "metadata": {},
   "outputs": [
    {
     "data": {
      "text/plain": [
       "('53334204283711536993134427079146434996152315415453964071687627791422886380164',\n",
       " '54269016164161175696975715796188342051628521190376357854373530355722884030645')"
      ]
     },
     "execution_count": 184,
     "metadata": {},
     "output_type": "execute_result"
    }
   ],
   "source": [
    "k = k * 1337 % n\n",
    "k = k * 1337 % n\n",
    "prikey = Private_key(pubkey, d)\n",
    "sig = prikey.sign(bytes_to_long(sha256('Kuruwa'.encode()).digest()), k)\n",
    "str(sig.r), str(sig.s)"
   ]
  },
  {
   "cell_type": "code",
   "execution_count": 185,
   "id": "8d01dbfb",
   "metadata": {},
   "outputs": [
    {
     "data": {
      "text/plain": [
       "b'3) exit\\n'"
      ]
     },
     "execution_count": 185,
     "metadata": {},
     "output_type": "execute_result"
    }
   ],
   "source": [
    "r.recvline()\n",
    "r.recvline()\n",
    "r.recvline()\n",
    "r.recvline()"
   ]
  },
  {
   "cell_type": "code",
   "execution_count": 186,
   "id": "9e1d53ec",
   "metadata": {},
   "outputs": [],
   "source": [
    "r.sendline(b\"2\")\n",
    "r.sendline(b\"Kuruwa\")\n",
    "r.sendline(str(sig.r).encode())\n",
    "r.sendline(str(sig.s).encode())"
   ]
  },
  {
   "cell_type": "code",
   "execution_count": 187,
   "id": "23d46d70",
   "metadata": {},
   "outputs": [
    {
     "data": {
      "text/plain": [
       "b'username: r: s: FLAG{fcf8ab2bc7b42bbd00e5be2b3d311ec6e8a89526}\\n'"
      ]
     },
     "execution_count": 187,
     "metadata": {},
     "output_type": "execute_result"
    }
   ],
   "source": [
    "r.recvline()"
   ]
  }
 ],
 "metadata": {
  "kernelspec": {
   "display_name": "SageMath 9.2",
   "language": "sage",
   "name": "sagemath"
  },
  "language_info": {
   "codemirror_mode": {
    "name": "ipython",
    "version": 3
   },
   "file_extension": ".py",
   "mimetype": "text/x-python",
   "name": "python",
   "nbconvert_exporter": "python",
   "pygments_lexer": "ipython3",
   "version": "3.9.7"
  }
 },
 "nbformat": 4,
 "nbformat_minor": 5
}
