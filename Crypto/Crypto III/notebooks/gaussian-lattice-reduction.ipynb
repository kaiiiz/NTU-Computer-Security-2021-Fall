{
 "cells": [
  {
   "cell_type": "code",
   "execution_count": 1,
   "id": "673b355a",
   "metadata": {},
   "outputs": [
    {
     "name": "stdout",
     "output_type": "stream",
     "text": [
      "Public key: (11469088048244529403697013151718624197557539621974025864978214731872768320099657172504178507936580463366012699958135482325900841899317871496781387241080901, 6198463480721205346018569405192818760966401594213620010795522316993233917865461104537289735549234713946343752832377630478987077890905238539559354544449144)\n",
      "Encrypted Flag: 10438690704931446210906083591349043947957184516484140115179477140521546819557119038623209997780545748104602695104182042704535329837697833304878757561332758\n"
     ]
    }
   ],
   "source": [
    "from Crypto.Util.number import getPrime, inverse, bytes_to_long\n",
    "import random\n",
    "import math\n",
    "\n",
    "FLAG = b'FLAG{????????????????????}'\n",
    "\n",
    "\n",
    "def gen_key():\n",
    "    q = getPrime(512)\n",
    "    upper_bound = int(math.sqrt(q // 2))\n",
    "    lower_bound = int(math.sqrt(q // 4))\n",
    "    f = random.randint(2, upper_bound)\n",
    "    while True:\n",
    "        g = random.randint(lower_bound, upper_bound)\n",
    "        if math.gcd(f, g) == 1:\n",
    "            break\n",
    "    h = (inverse(f, q)*g) % q\n",
    "    return (q, h), (f, g)\n",
    "\n",
    "\n",
    "def encrypt(q, h, m):\n",
    "    assert m < int(math.sqrt(q // 2))\n",
    "    r = random.randint(2, int(math.sqrt(q // 2)))\n",
    "    e = (r*h + m) % q\n",
    "    return e\n",
    "\n",
    "\n",
    "def decrypt(q, h, f, g, e):\n",
    "    a = (f*e) % q\n",
    "    m = (a*inverse(f, g)) % g\n",
    "    return m\n",
    "\n",
    "\n",
    "public, private = gen_key()\n",
    "q, h = public\n",
    "f, g = private\n",
    "\n",
    "m = bytes_to_long(FLAG)\n",
    "e = encrypt(q, h, m)\n",
    "\n",
    "print(f'Public key: {(q,h)}')\n",
    "print(f'Encrypted Flag: {e}')"
   ]
  },
  {
   "cell_type": "code",
   "execution_count": 2,
   "id": "67da647b",
   "metadata": {},
   "outputs": [],
   "source": [
    "v1 = vector((1, h))\n",
    "v2 = vector((0, q))"
   ]
  },
  {
   "cell_type": "code",
   "execution_count": 6,
   "id": "d90594cb",
   "metadata": {},
   "outputs": [
    {
     "data": {
      "text/plain": [
       "(-11380841371098129552737330746153789635617872477237432420507013910557903229773, -74052952071267549330462807242582045401214457836236793202827542136505635769877)"
      ]
     },
     "execution_count": 6,
     "metadata": {},
     "output_type": "execute_result"
    }
   ],
   "source": [
    "while True:\n",
    "    if v2.norm() < v1.norm():\n",
    "        v1, v2 = v2, v1\n",
    "    m = round(v2 * v1 / (v1 * v1))\n",
    "    if m == 0:\n",
    "        break\n",
    "    v2 = v2 - m * v1\n",
    "    \n",
    "v1"
   ]
  },
  {
   "cell_type": "code",
   "execution_count": 7,
   "id": "67ab109b",
   "metadata": {},
   "outputs": [
    {
     "data": {
      "text/plain": [
       "(11380841371098129552737330746153789635617872477237432420507013910557903229773,\n",
       " 74052952071267549330462807242582045401214457836236793202827542136505635769877)"
      ]
     },
     "execution_count": 7,
     "metadata": {},
     "output_type": "execute_result"
    }
   ],
   "source": [
    "f, g"
   ]
  }
 ],
 "metadata": {
  "kernelspec": {
   "display_name": "SageMath 9.2",
   "language": "sage",
   "name": "sagemath"
  },
  "language_info": {
   "codemirror_mode": {
    "name": "ipython",
    "version": 3
   },
   "file_extension": ".py",
   "mimetype": "text/x-python",
   "name": "python",
   "nbconvert_exporter": "python",
   "pygments_lexer": "ipython3",
   "version": "3.9.7"
  }
 },
 "nbformat": 4,
 "nbformat_minor": 5
}
