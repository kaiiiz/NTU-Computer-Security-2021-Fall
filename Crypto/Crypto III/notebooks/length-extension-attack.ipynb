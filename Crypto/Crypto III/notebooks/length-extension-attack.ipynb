{
 "cells": [
  {
   "cell_type": "code",
   "execution_count": 2,
   "id": "8aa2f558-e589-4f85-80ed-88c4f8ef0c22",
   "metadata": {},
   "outputs": [
    {
     "data": {
      "text/plain": [
       "(b'salt&Admin',\n",
       " 'bb38717c8a5163aa20517e376a265fbc84f69f5982caab0e5f720525e314f258')"
      ]
     },
     "execution_count": 2,
     "metadata": {},
     "output_type": "execute_result"
    }
   ],
   "source": [
    "import hashlib\n",
    "\n",
    "salt = b'salt'\n",
    "data = b'Admin'\n",
    "mes = b'&'.join([salt, data])\n",
    "\n",
    "mes, hashlib.sha256(mes).hexdigest()"
   ]
  },
  {
   "cell_type": "code",
   "execution_count": 12,
   "id": "e3f2977e-34a2-4b94-bfba-44fb561752df",
   "metadata": {},
   "outputs": [
    {
     "name": "stderr",
     "output_type": "stream",
     "text": [
      "/tmp/ipykernel_130098/2352850553.py:3: DeprecationWarning: PY_SSIZE_T_CLEAN will be required for '#' formats\n",
      "  digest, new_msg = hashpumpy.hashpump('bb38717c8a5163aa20517e376a265fbc84f69f5982caab0e5f720525e314f258', '&Admin', '&flag', 4)\n"
     ]
    },
    {
     "data": {
      "text/plain": [
       "('3fef70c0b7df47603961a6e79c9908a628bc2622569227be75d607aa0ff60a73',\n",
       " b'&Admin\\x80\\x00\\x00\\x00\\x00\\x00\\x00\\x00\\x00\\x00\\x00\\x00\\x00\\x00\\x00\\x00\\x00\\x00\\x00\\x00\\x00\\x00\\x00\\x00\\x00\\x00\\x00\\x00\\x00\\x00\\x00\\x00\\x00\\x00\\x00\\x00\\x00\\x00\\x00\\x00\\x00\\x00\\x00\\x00\\x00\\x00\\x00\\x00\\x00\\x00\\x00\\x00\\x00P&flag')"
      ]
     },
     "execution_count": 12,
     "metadata": {},
     "output_type": "execute_result"
    }
   ],
   "source": [
    "import hashpumpy\n",
    "\n",
    "digest, new_msg = hashpumpy.hashpump('bb38717c8a5163aa20517e376a265fbc84f69f5982caab0e5f720525e314f258', '&Admin', '&flag', 4)\n",
    "digest, new_msg"
   ]
  },
  {
   "cell_type": "code",
   "execution_count": 18,
   "id": "d8c135ec-3d73-43c1-ae1b-0a31ca5eb7ba",
   "metadata": {},
   "outputs": [
    {
     "data": {
      "text/plain": [
       "[b'',\n",
       " b'Admin\\x80\\x00\\x00\\x00\\x00\\x00\\x00\\x00\\x00\\x00\\x00\\x00\\x00\\x00\\x00\\x00\\x00\\x00\\x00\\x00\\x00\\x00\\x00\\x00\\x00\\x00\\x00\\x00\\x00\\x00\\x00\\x00\\x00\\x00\\x00\\x00\\x00\\x00\\x00\\x00\\x00\\x00\\x00\\x00\\x00\\x00\\x00\\x00\\x00\\x00\\x00\\x00\\x00P',\n",
       " b'flag']"
      ]
     },
     "execution_count": 18,
     "metadata": {},
     "output_type": "execute_result"
    }
   ],
   "source": [
    "new_msg.split(b\"&\")"
   ]
  },
  {
   "cell_type": "code",
   "execution_count": 13,
   "id": "79322036-dc70-4ad4-871f-eac173978903",
   "metadata": {},
   "outputs": [
    {
     "data": {
      "text/plain": [
       "('3fef70c0b7df47603961a6e79c9908a628bc2622569227be75d607aa0ff60a73',\n",
       " '3fef70c0b7df47603961a6e79c9908a628bc2622569227be75d607aa0ff60a73')"
      ]
     },
     "execution_count": 13,
     "metadata": {},
     "output_type": "execute_result"
    }
   ],
   "source": [
    "hashlib.sha256(salt + new_msg).hexdigest(), digest"
   ]
  }
 ],
 "metadata": {
  "kernelspec": {
   "display_name": "Python 3 (ipykernel)",
   "language": "python",
   "name": "python3"
  },
  "language_info": {
   "codemirror_mode": {
    "name": "ipython",
    "version": 3
   },
   "file_extension": ".py",
   "mimetype": "text/x-python",
   "name": "python",
   "nbconvert_exporter": "python",
   "pygments_lexer": "ipython3",
   "version": "3.9.2"
  }
 },
 "nbformat": 4,
 "nbformat_minor": 5
}
