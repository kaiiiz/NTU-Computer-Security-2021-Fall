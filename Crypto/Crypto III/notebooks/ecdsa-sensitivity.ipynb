{
 "cells": [
  {
   "cell_type": "code",
   "execution_count": 2,
   "id": "781b7a14-a2f6-41c5-9930-c893933dc38b",
   "metadata": {},
   "outputs": [
    {
     "data": {
      "text/plain": [
       "((mpz(83354815958215482941432245025089024538403607812885805397435520072705763499615),\n",
       "  mpz(56703261959989896834594710205835937135892034940971072845187265687891174034520)),\n",
       " (mpz(83354815958215482941432245025089024538403607812885805397435520072705763499615),\n",
       "  mpz(93428026723034654494284629360206628480079280251004278327340540397069039364965)))"
      ]
     },
     "execution_count": 2,
     "metadata": {},
     "output_type": "execute_result"
    }
   ],
   "source": [
    "from ecdsa import SECP256k1\n",
    "from ecdsa.ecdsa import *\n",
    "\n",
    "E = SECP256k1\n",
    "G, n = E.generator, E.order\n",
    "d = randrange(1, n)\n",
    "\n",
    "pubkey = Public_key(G, d*G)\n",
    "prikey = Private_key(pubkey, d)\n",
    "\n",
    "h1 = 1\n",
    "h2 = 2\n",
    "k = randrange(1, n)\n",
    "sig1 = prikey.sign(h1, k)\n",
    "sig2 = prikey.sign(h2, k)\n",
    "r1, s1 = sig1.r, sig1.s\n",
    "r2, s2 = sig2.r, sig2.s\n",
    "(r1,s1), (r2,s2)"
   ]
  },
  {
   "cell_type": "code",
   "execution_count": 3,
   "id": "919e573f-fc57-4894-b082-829c9de3c428",
   "metadata": {},
   "outputs": [
    {
     "data": {
      "text/plain": [
       "(mpz(78960607751909587239527423758469496805380225354473341211196474250857690067149),\n",
       " 78960607751909587239527423758469496805380225354473341211196474250857690067149)"
      ]
     },
     "execution_count": 3,
     "metadata": {},
     "output_type": "execute_result"
    }
   ],
   "source": [
    "#s1k = h1 + dr1\n",
    "#s2k = h2 + dr2\n",
    "#s1/s2 = (h1+dr1)/(h2+dr2)\n",
    "#s1h2 + d(s1r2) = s2h1 + d(s2r1)\n",
    "\n",
    "d_ans = (s1*h2 - s2*h1) * inverse_mod(s2*r1-s1*r2, n) % n\n",
    "d_ans, d"
   ]
  }
 ],
 "metadata": {
  "kernelspec": {
   "display_name": "SageMath 9.2",
   "language": "sage",
   "name": "sagemath"
  },
  "language_info": {
   "codemirror_mode": {
    "name": "ipython",
    "version": 3
   },
   "file_extension": ".py",
   "mimetype": "text/x-python",
   "name": "python",
   "nbconvert_exporter": "python",
   "pygments_lexer": "ipython3",
   "version": "3.9.2"
  }
 },
 "nbformat": 4,
 "nbformat_minor": 5
}
