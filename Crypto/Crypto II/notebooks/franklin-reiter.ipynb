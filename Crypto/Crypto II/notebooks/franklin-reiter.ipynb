{
 "cells": [
  {
   "cell_type": "code",
   "execution_count": 26,
   "id": "99ad2bde-162d-4cac-9336-7eef54da54b2",
   "metadata": {},
   "outputs": [
    {
     "name": "stdout",
     "output_type": "stream",
     "text": [
      "13 3817009464881967241976430370002721499966164148222004957237760227355545940211515763891204190784812225107055598795167023069089206576003715244811896243942533\n",
      "1174464450732912997531209344616221999989588968683693832996233916109398750834274518614864543913114251782725283273184545946172223874235185614080915794212661\n"
     ]
    }
   ],
   "source": [
    "from Crypto.Util.number import *\n",
    "\n",
    "p = getPrime(256)\n",
    "q = getPrime(256)\n",
    "n = p * q\n",
    "phi = (p-1) * (q-1)\n",
    "e = 13\n",
    "d = inverse(e, phi)\n",
    "print(e, n)\n",
    "print(d)"
   ]
  },
  {
   "cell_type": "code",
   "execution_count": 27,
   "id": "afc4cac5-88d3-4719-b922-391cfb162ca8",
   "metadata": {},
   "outputs": [
    {
     "data": {
      "text/plain": [
       "(869560735798840007132938266997424147744625730437120000000000000,\n",
       " 826188407595844056454289290171227894198426290180844402438658105494625217249911431777551216028462977891890383307252444538549222820735775001153864372684643,\n",
       " 297879657505186549714432417746768075835588411775998239302035966106138401715021451065957241241713017542199060493945244315890212674164116541716541270724740,\n",
       " 2794394008279294181429431625506979846975014224108974716471806637946760483664371712510661411087838128933599835370470700059160316490259826098184792967785935,\n",
       " 13,\n",
       " 3817009464881967241976430370002721499966164148222004957237760227355545940211515763891204190784812225107055598795167023069089206576003715244811896243942533)"
      ]
     },
     "execution_count": 27,
     "metadata": {},
     "output_type": "execute_result"
    }
   ],
   "source": [
    "m1 = 69420\n",
    "a = randrange(n)\n",
    "b = randrange(n)\n",
    "m2 = (a*m1 + b) % n\n",
    "\n",
    "c1 = pow(m1, e, n)\n",
    "c2 = pow(m2, e, n)\n",
    "\n",
    "c1, c2, a, b, e, n"
   ]
  },
  {
   "cell_type": "code",
   "execution_count": 35,
   "id": "26bf8962-8402-4ba4-bbcf-138d1f8f840b",
   "metadata": {},
   "outputs": [
    {
     "name": "stdout",
     "output_type": "stream",
     "text": [
      "0 0\n"
     ]
    },
    {
     "data": {
      "text/plain": [
       "2910614639903579514944135780894109233702266530909955710757594771657352784635839361426646470942806212063946619303590918875304601434405211143014888874538950*x + 2344730885327993842412156795002318597522774510928975545846346839749581616830007106987030535212706787920865765679944861660807730922912651268953898848017888"
      ]
     },
     "execution_count": 35,
     "metadata": {},
     "output_type": "execute_result"
    }
   ],
   "source": [
    "F.<x> = PolynomialRing(Zmod(n))\n",
    "\n",
    "g1 = x^e - c1\n",
    "g2 = (a*x+b)^e - c2\n",
    "\n",
    "print(g1(m1), g2(m1))\n",
    "\n",
    "while g2 != 0:\n",
    "    g1 -= (g1//g2) * g2\n",
    "    g1, g2 = g2, g1\n",
    "    \n",
    "g1"
   ]
  },
  {
   "cell_type": "code",
   "execution_count": 37,
   "id": "0ed4a6bb-b708-47eb-96e6-4be89779da0b",
   "metadata": {},
   "outputs": [
    {
     "data": {
      "text/plain": [
       "x + 3817009464881967241976430370002721499966164148222004957237760227355545940211515763891204190784812225107055598795167023069089206576003715244811896243873113"
      ]
     },
     "execution_count": 37,
     "metadata": {},
     "output_type": "execute_result"
    }
   ],
   "source": [
    "g1 = g1.monic()\n",
    "g1"
   ]
  },
  {
   "cell_type": "code",
   "execution_count": 39,
   "id": "6d163420-3244-4c08-acfa-1e425cd6ac30",
   "metadata": {},
   "outputs": [
    {
     "data": {
      "text/plain": [
       "69420"
      ]
     },
     "execution_count": 39,
     "metadata": {},
     "output_type": "execute_result"
    }
   ],
   "source": [
    "-g1[0] % n"
   ]
  }
 ],
 "metadata": {
  "kernelspec": {
   "display_name": "SageMath 9.2",
   "language": "sage",
   "name": "sagemath"
  },
  "language_info": {
   "codemirror_mode": {
    "name": "ipython",
    "version": 3
   },
   "file_extension": ".py",
   "mimetype": "text/x-python",
   "name": "python",
   "nbconvert_exporter": "python",
   "pygments_lexer": "ipython3",
   "version": "3.9.2"
  }
 },
 "nbformat": 4,
 "nbformat_minor": 5
}
