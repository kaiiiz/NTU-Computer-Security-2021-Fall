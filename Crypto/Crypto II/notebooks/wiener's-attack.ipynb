{
 "cells": [
  {
   "cell_type": "code",
   "execution_count": 68,
   "id": "32b45ea9-7e22-4293-8fac-cd9f287efd21",
   "metadata": {},
   "outputs": [
    {
     "name": "stdout",
     "output_type": "stream",
     "text": [
      "72015775686412300251949791915655882012688477845419656758827076143658814516041 68157806726803050289389120733367007659597076496911365928796758521754839830283\n",
      "4908437320515291834427030424582764626660231483512973723173370914362156538684045536050168401253953423384477608802839866978848701451886695611306365221069603 4908437320515291834427030424582764626660231483512973723173370914362156538683905362467755185903412084471828585913167581424506370429199071776640951566723280\n"
     ]
    }
   ],
   "source": [
    "from Crypto.Util.number import *\n",
    "\n",
    "p = getPrime(256)\n",
    "q = getPrime(256)\n",
    "n = p * q\n",
    "phi = (p-1) * (q-1)\n",
    "print(p, q)\n",
    "print(n, phi)"
   ]
  },
  {
   "cell_type": "code",
   "execution_count": 69,
   "id": "984d080e-1e6c-4f8f-8879-de4ea765734d",
   "metadata": {},
   "outputs": [
    {
     "data": {
      "text/plain": [
       "6102171370052145517699581885801378303"
      ]
     },
     "execution_count": 69,
     "metadata": {},
     "output_type": "execute_result"
    }
   ],
   "source": [
    "d = randrange(math.isqrt(math.isqrt(n))//3)\n",
    "d # small d"
   ]
  },
  {
   "cell_type": "code",
   "execution_count": 70,
   "id": "f5b9da1b-b8f4-49c3-897d-a748e8f85d9d",
   "metadata": {},
   "outputs": [
    {
     "data": {
      "text/plain": [
       "4880581077038047189676392592156827071678309297441258899818538651130885353881451411082562071093259794377685235299722061164429569166652032543085470862451741"
      ]
     },
     "execution_count": 70,
     "metadata": {},
     "output_type": "execute_result"
    }
   ],
   "source": [
    "e = inverse(d, phi)\n",
    "e # large e"
   ]
  },
  {
   "cell_type": "code",
   "execution_count": 71,
   "id": "8b600873-9a38-4e26-b394-be2eb153283d",
   "metadata": {},
   "outputs": [
    {
     "data": {
      "text/plain": [
       "[0; 1, 175, 4, 1, 5, 1, 6, 3, 7, 1, 5, 7, 1, 3, 1, 5, 1, 2, 1, 2, 15, 2, 2, 6, 2, 1, 1, 1, 1, 2, 1, 14, 1, 2, 2, 1, 6, 10, 1, 1982, 1, 1, 1, 6, 3, 1, 31, 1, 1, 9, 3, 11, 1, 2, 1, 14, 4, 2, 1, 26, 2, 10, 8, 1, 2, 6, 4, 945, 1, 1, 13, 1, 6, 45, 1, 3, 4, 1, 5, 44, 1, 1, 1, 2, 6, 9, 1, 3, 2, 1, 9, 2, 2, 1, 1, 7, 1, 11, 1, 2, 3, 1, 70, 28, 6, 1, 4, 10, 2, 71, 11, 121, 2, 1, 1, 1, 4, 1, 21, 1, 2, 8, 1, 1, 1, 1, 1, 4, 1, 8, 2, 1, 382, 2, 1, 2, 1, 1, 570, 1, 2, 2, 1, 1, 39, 3, 9, 1, 1, 11, 3, 2, 8, 1, 1, 1, 3, 10, 2, 2, 20, 2, 19, 30, 1, 5, 2, 7, 4, 4, 1, 2, 9, 1, 6, 1, 2, 10, 1, 5, 3, 1, 1, 5, 1, 1, 3, 39, 1, 18, 1, 1, 1, 3, 2, 7, 4, 8, 1, 2, 5, 31, 4, 2, 2, 4, 4, 1, 3, 2, 1, 3, 1, 2, 14, 7, 1, 1, 1, 2, 13, 3, 1, 1, 2, 1, 1, 2, 22, 13, 2, 4, 2, 7, 1, 3, 3, 1, 13, 3, 1, 4, 18, 3, 2, 1, 1, 2, 4, 56, 3, 2, 1, 1, 1, 12, 1, 8, 1, 1, 1, 1, 1, 27, 1, 34, 10, 2, 2, 3, 3, 8, 1, 4, 1, 4]"
      ]
     },
     "execution_count": 71,
     "metadata": {},
     "output_type": "execute_result"
    }
   ],
   "source": [
    "# we already known e and n (public key)\n",
    "f = continued_fraction(e/n)\n",
    "f"
   ]
  },
  {
   "cell_type": "code",
   "execution_count": 72,
   "id": "c3e62f3b-d809-488a-8760-28d4814d35e1",
   "metadata": {},
   "outputs": [
    {
     "data": {
      "text/plain": [
       "(6102171370052145517699581885801378303,\n",
       " 6102171370052145517699581885801378303,\n",
       " 6067540476282028253750941272674005334,\n",
       " 4908437320515291834427030424582764626660231483512973723173370914362156538683905362467755185903412084471828585913167581424506370429199071776640951566723280)"
      ]
     },
     "execution_count": 72,
     "metadata": {},
     "output_type": "execute_result"
    }
   ],
   "source": [
    "for i in range(len(f)):\n",
    "    k, d_prob = f.numerator(i+1), f.denominator(i+1)\n",
    "    phi_prob = (e*d_prob - 1)//k\n",
    "    # x ^ 2 - (n - phi + 1) x + n = 0\n",
    "    det = (n-phi_prob+1) ^ 2 - 4 * n\n",
    "    if math.isqrt(det) ** 2 == det:\n",
    "        break\n",
    "\n",
    "d, d_prob, k, phi_prob"
   ]
  },
  {
   "cell_type": "code",
   "execution_count": 73,
   "id": "a978865f-74b3-4b04-b1cd-42f20462d140",
   "metadata": {},
   "outputs": [
    {
     "name": "stdout",
     "output_type": "stream",
     "text": [
      "72015775686412300251949791915655882012688477845419656758827076143658814516041 68157806726803050289389120733367007659597076496911365928796758521754839830283\n"
     ]
    }
   ],
   "source": [
    "p = ((n - phi_prob + 1) + math.isqrt(det)) // 2\n",
    "q = n // p\n",
    "print(p, q)"
   ]
  }
 ],
 "metadata": {
  "kernelspec": {
   "display_name": "SageMath 9.2",
   "language": "sage",
   "name": "sagemath"
  },
  "language_info": {
   "codemirror_mode": {
    "name": "ipython",
    "version": 3
   },
   "file_extension": ".py",
   "mimetype": "text/x-python",
   "name": "python",
   "nbconvert_exporter": "python",
   "pygments_lexer": "ipython3",
   "version": "3.9.2"
  }
 },
 "nbformat": 4,
 "nbformat_minor": 5
}
