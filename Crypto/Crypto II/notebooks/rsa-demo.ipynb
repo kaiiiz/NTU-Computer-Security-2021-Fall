{
 "cells": [
  {
   "cell_type": "code",
   "execution_count": 6,
   "id": "e818ee03-c620-4089-83d5-103a7bf031cd",
   "metadata": {},
   "outputs": [
    {
     "name": "stdout",
     "output_type": "stream",
     "text": [
      "65537 8817345834258238998909461814627264883371136877575861655250724958363978790688339252477252346222502242444748232775850997386479679035759521879927777354181099\n",
      "6348133815152368111517830328842834830049952277820764703012805078588369550938091293641307600116714323099331555927666826719456113681461496504950835805201793\n"
     ]
    }
   ],
   "source": [
    "from Crypto.Util.number import *\n",
    "\n",
    "p = getPrime(256)\n",
    "q = getPrime(256)\n",
    "n = p * q\n",
    "phi = (p-1) * (q-1)\n",
    "e = 65537\n",
    "d = inverse(e, phi)\n",
    "print(e, n)\n",
    "print(d)"
   ]
  },
  {
   "cell_type": "code",
   "execution_count": 7,
   "id": "d36eb321-8b0f-4f47-a8df-04d1e56672fd",
   "metadata": {},
   "outputs": [
    {
     "data": {
      "text/plain": [
       "3695199879394672248780425883910910863687435058633212150234389471006779800142163507482276815014742197374125430155435124484782279393806597342747120566566432"
      ]
     },
     "execution_count": 7,
     "metadata": {},
     "output_type": "execute_result"
    }
   ],
   "source": [
    "m = 69420\n",
    "\n",
    "c = pow(m, e, n)\n",
    "c"
   ]
  },
  {
   "cell_type": "code",
   "execution_count": 8,
   "id": "02b91e1e-8e1f-4faf-ae26-1830ab5dc03c",
   "metadata": {},
   "outputs": [
    {
     "data": {
      "text/plain": [
       "69420"
      ]
     },
     "execution_count": 8,
     "metadata": {},
     "output_type": "execute_result"
    }
   ],
   "source": [
    "m = pow(c, d, n)\n",
    "m"
   ]
  }
 ],
 "metadata": {
  "kernelspec": {
   "display_name": "SageMath 9.2",
   "language": "sage",
   "name": "sagemath"
  },
  "language_info": {
   "codemirror_mode": {
    "name": "ipython",
    "version": 3
   },
   "file_extension": ".py",
   "mimetype": "text/x-python",
   "name": "python",
   "nbconvert_exporter": "python",
   "pygments_lexer": "ipython3",
   "version": "3.9.2"
  }
 },
 "nbformat": 4,
 "nbformat_minor": 5
}
