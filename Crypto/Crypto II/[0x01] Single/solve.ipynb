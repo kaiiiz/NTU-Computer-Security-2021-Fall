{
 "cells": [
  {
   "cell_type": "code",
   "execution_count": 1,
   "id": "1a777ac6-05d1-4279-bafa-31a8c47db7a4",
   "metadata": {},
   "outputs": [],
   "source": [
    "from collections import namedtuple\n",
    "from Crypto.Util.number import inverse, bytes_to_long"
   ]
  },
  {
   "cell_type": "code",
   "execution_count": 2,
   "id": "3d931ee9-030f-46da-9cc9-2038fa492279",
   "metadata": {},
   "outputs": [],
   "source": [
    "Point = namedtuple(\"Point\", \"x y\")\n",
    "O = 'INFINITY'\n",
    "\n",
    "p = 9631668579539701602760432524602953084395033948174466686285759025897298205383\n",
    "gx = 5664314881801362353989790109530444623032842167510027140490832957430741393367\n",
    "gy = 3735011281298930501441332016708219762942193860515094934964869027614672869355\n",
    "G = Point(gx, gy)\n",
    "A = Point(x=3829488417236560785272607696709023677752676859512573328792921651640651429215, y=7947434117984861166834877190207950006170738405923358235762824894524937052000)\n",
    "B = Point(x=9587224500151531060103223864145463144550060225196219072827570145340119297428, y=2527809441042103520997737454058469252175392602635610992457770946515371529908)"
   ]
  },
  {
   "cell_type": "code",
   "execution_count": 3,
   "id": "76b60a4b-a4fb-48fb-bad6-73c97b02fef7",
   "metadata": {},
   "outputs": [
    {
     "name": "stdout",
     "output_type": "stream",
     "text": [
      "verbose 0 (3827: multi_polynomial_ideal.py, groebner_basis) Warning: falling back to very slow toy implementation.\n",
      "verbose 0 (1081: multi_polynomial_ideal.py, dimension) Warning: falling back to very slow toy implementation.\n",
      "verbose 0 (2264: multi_polynomial_ideal.py, variety) Warning: falling back to very slow toy implementation.\n"
     ]
    },
    {
     "data": {
      "text/plain": [
       "[{a: 9605275265879631008726467740646537125692167794341640822702313056611938432994, b: 7839838607707494463758049830515369383778931948114955676985180993569200375480}]"
      ]
     },
     "execution_count": 3,
     "metadata": {},
     "output_type": "execute_result"
    }
   ],
   "source": [
    "F.<a, b> = PolynomialRing(Zmod(p))\n",
    "I = ideal([G.x ** 3 + a * G.x + b - G.y ** 2, A.x ** 3 + a * A.x + b - A.y ** 2])\n",
    "I.variety()"
   ]
  },
  {
   "cell_type": "code",
   "execution_count": 14,
   "id": "1e8d2f81-25db-4a7d-868f-72293971e59b",
   "metadata": {},
   "outputs": [
    {
     "data": {
      "text/plain": [
       "0"
      ]
     },
     "execution_count": 14,
     "metadata": {},
     "output_type": "execute_result"
    }
   ],
   "source": [
    "a = 9605275265879631008726467740646537125692167794341640822702313056611938432994\n",
    "b = 7839838607707494463758049830515369383778931948114955676985180993569200375480\n",
    "(4*a^3 + 27*b^2)%p"
   ]
  },
  {
   "cell_type": "code",
   "execution_count": 15,
   "id": "76e0f26d-ab91-4ef0-9240-df910375348e",
   "metadata": {},
   "outputs": [
    {
     "data": {
      "text/plain": [
       "(True, True, True)"
      ]
     },
     "execution_count": 15,
     "metadata": {},
     "output_type": "execute_result"
    }
   ],
   "source": [
    "def is_on_curve(P):\n",
    "    if P == O:\n",
    "        return True\n",
    "    else:\n",
    "        return (P.y**2 - (P.x**3 + a*P.x + b)) % p == 0 and 0 <= P.x < p and 0 <= P.y < p\n",
    "\n",
    "is_on_curve(G), is_on_curve(A), is_on_curve(B)"
   ]
  },
  {
   "cell_type": "code",
   "execution_count": 16,
   "id": "c34a5daa-f29a-4622-8671-c4339210bd8e",
   "metadata": {},
   "outputs": [
    {
     "data": {
      "text/plain": [
       "[(7925182757193285961316626419940151258451119718064102936455321651294650340555,\n",
       "  1),\n",
       " (853242911173207820721903052331400912971957115055181874915218687301323932414,\n",
       "  2)]"
      ]
     },
     "execution_count": 16,
     "metadata": {},
     "output_type": "execute_result"
    }
   ],
   "source": [
    "F.<x> = PolynomialRing(Zmod(p))\n",
    "r = (x^3+a*x+b).roots()\n",
    "r"
   ]
  },
  {
   "cell_type": "code",
   "execution_count": 17,
   "id": "96650799-1a9b-4f70-999a-c417120b730e",
   "metadata": {},
   "outputs": [
    {
     "data": {
      "text/plain": [
       "(0, 0)"
      ]
     },
     "execution_count": 17,
     "metadata": {},
     "output_type": "execute_result"
    }
   ],
   "source": [
    "alpha = Zmod(p)(853242911173207820721903052331400912971957115055181874915218687301323932414)\n",
    "beta = Zmod(p)(7925182757193285961316626419940151258451119718064102936455321651294650340555)\n",
    "(alpha ^ 3 + a*alpha + b), (beta ^ 3 + a*beta + b)"
   ]
  },
  {
   "cell_type": "code",
   "execution_count": 18,
   "id": "7e4c0383-e7a8-488a-aed6-884dea4493f1",
   "metadata": {},
   "outputs": [],
   "source": [
    "def point_inverse(P):\n",
    "    if P == O:\n",
    "        return P\n",
    "    return Point(P.x, -P.y % p)\n",
    "\n",
    "def point_addition(P, Q):\n",
    "    if P == O:\n",
    "        return Q\n",
    "    elif Q == O:\n",
    "        return P\n",
    "    elif Q == point_inverse(P):\n",
    "        return O\n",
    "    else:\n",
    "        if P == Q:\n",
    "            s = (3*P.x**2 + a)*inverse(2*P.y, p) % p\n",
    "        else:\n",
    "            s = (Q.y - P.y) * inverse((Q.x - P.x), p) % p\n",
    "    Rx = (s**2 - P.x - Q.x) % p\n",
    "    Ry = (s*(P.x - Rx) - P.y) % p\n",
    "    R = Point(Rx, Ry)\n",
    "    assert is_on_curve(R)\n",
    "    return R\n",
    "\n",
    "def point_multiply(P, d):\n",
    "    bits = bin(d)[2:]\n",
    "    Q = O\n",
    "    for bit in bits:\n",
    "        Q = point_addition(Q, Q)\n",
    "        if bit == '1':\n",
    "            Q = point_addition(Q, P)\n",
    "    assert is_on_curve(Q)\n",
    "    return Q"
   ]
  },
  {
   "cell_type": "code",
   "execution_count": 19,
   "id": "8c78ca3e-c477-47b3-86d8-e9b8d5714073",
   "metadata": {},
   "outputs": [
    {
     "name": "stdout",
     "output_type": "stream",
     "text": [
      "True\n"
     ]
    }
   ],
   "source": [
    "def phi(P):\n",
    "    t = (alpha - beta).sqrt() * (P.x - alpha)\n",
    "    return (P.y + t) / (P.y - t)\n",
    "\n",
    "print(phi(point_addition(A,B)) == phi(A) * phi(B))"
   ]
  },
  {
   "cell_type": "code",
   "execution_count": 20,
   "id": "10be4d3a-056c-425a-8b09-93d36c46f436",
   "metadata": {},
   "outputs": [
    {
     "data": {
      "text/plain": [
       "1532487521612462894579517163606359285989568203515734083099567402780433190052"
      ]
     },
     "execution_count": 20,
     "metadata": {},
     "output_type": "execute_result"
    }
   ],
   "source": [
    "dA = discrete_log(phi(A), phi(G))\n",
    "dA"
   ]
  },
  {
   "cell_type": "code",
   "execution_count": 21,
   "id": "93c4733e-dd8c-4205-bcbb-6f2b379cd948",
   "metadata": {},
   "outputs": [
    {
     "data": {
      "text/plain": [
       "195244836939422730384635168512423975722005537834468919742841431561900513012"
      ]
     },
     "execution_count": 21,
     "metadata": {},
     "output_type": "execute_result"
    }
   ],
   "source": [
    "k = point_multiply(B, dA).x\n",
    "k"
   ]
  },
  {
   "cell_type": "code",
   "execution_count": 22,
   "id": "439b94b1-5970-4b7b-b36b-ad247fab78d6",
   "metadata": {},
   "outputs": [
    {
     "data": {
      "text/plain": [
       "b'FLAG{adbffefdb46a99fad0042dd3c10fdc414fadd25c}\\x00\\x00\\x00\\x00\\x00\\x00\\x00\\x00\\x00\\x00\\x00\\x00\\x00\\x00\\x00\\x00\\x00\\x00'"
      ]
     },
     "execution_count": 22,
     "metadata": {},
     "output_type": "execute_result"
    }
   ],
   "source": [
    "import hashlib\n",
    "\n",
    "k = hashlib.sha512(str(k).encode('ascii')).digest()\n",
    "flag = bytes.fromhex('1536c5b019bd24ddf9fc50de28828f727190ff121b709a6c63c4f823ec31780ad30d219f07a8c419c7afcdce900b6e89b37b18b6daede22e5445eb98f3ca2e40')\n",
    "bytes(ci ^^ ki for ci, ki in zip(flag, k))"
   ]
  }
 ],
 "metadata": {
  "kernelspec": {
   "display_name": "SageMath 9.2",
   "language": "sage",
   "name": "sagemath"
  },
  "language_info": {
   "codemirror_mode": {
    "name": "ipython",
    "version": 3
   },
   "file_extension": ".py",
   "mimetype": "text/x-python",
   "name": "python",
   "nbconvert_exporter": "python",
   "pygments_lexer": "ipython3",
   "version": "3.9.2"
  }
 },
 "nbformat": 4,
 "nbformat_minor": 5
}
