{
 "cells": [
  {
   "cell_type": "code",
   "execution_count": 1,
   "id": "4f6cad60-b66b-4501-b550-c3cb961ac5b6",
   "metadata": {},
   "outputs": [],
   "source": [
    "from sage.groups.generic import bsgs\n",
    "import random\n",
    "import hashlib"
   ]
  },
  {
   "cell_type": "code",
   "execution_count": 2,
   "id": "5ed273d3-756f-4ebc-9ecd-71e3411f6a2a",
   "metadata": {},
   "outputs": [],
   "source": [
    "g = 2\n",
    "n = 22975024372641088191783192950030840455936651367831116706532074148973552639475113523713622342956112126457710740633725263638116108451282253328304547\n",
    "c = 3391562491073162069780474526700107230909189849786338234577033763865425503028855096698198069367193995675035849507973902223745251492606324520756666\n",
    "flag_enc = bytes.fromhex('c401549a04656914f9288164f6298ccc09771d8805db7248e3162b86237cefd2621df96509d8d9f32dbd2f56c6c41414971b990f31f80ced0cfe4eac89f55a93')"
   ]
  },
  {
   "cell_type": "code",
   "execution_count": 3,
   "id": "6be5fdfa-1e28-4505-9828-d5f1df640f2b",
   "metadata": {},
   "outputs": [
    {
     "data": {
      "text/plain": [
       "2 * 40420777 * 69078979 * 189543349 * 446616229 * 561588961 * 1343925763 * 1945316203 * 2067671399 * 2865468883 * 2888438503 * 2899749631 * 2932105903 * 3274070801 * 4023368071 * 4041418553 * 4273228951"
      ]
     },
     "execution_count": 3,
     "metadata": {},
     "output_type": "execute_result"
    }
   ],
   "source": [
    "f = factor(n-1)\n",
    "f"
   ]
  },
  {
   "cell_type": "code",
   "execution_count": 4,
   "id": "49b9b531-e923-4f59-a0c9-7d4ccbcd2e71",
   "metadata": {},
   "outputs": [],
   "source": [
    "rem = []\n",
    "mod = []\n",
    "\n",
    "for i in range(len(f)):\n",
    "    p_i = f[i][0]\n",
    "    g_i = pow(g, (n-1)//p_i, n)\n",
    "    h_i = pow(c, (n-1)//p_i, n)\n",
    "    x_i = bsgs(g_i, h_i, (0, p_i))\n",
    "    rem.append(x_i)\n",
    "    mod.append(p_i)"
   ]
  },
  {
   "cell_type": "code",
   "execution_count": 5,
   "id": "4f2c3584-a062-42f1-9fca-297493953d66",
   "metadata": {},
   "outputs": [
    {
     "data": {
      "text/plain": [
       "5715730984776927122596830589662518107985433313538424944515197264212496003944524476815735435643637740104215871453370771557423444072451953725982027"
      ]
     },
     "execution_count": 5,
     "metadata": {},
     "output_type": "execute_result"
    }
   ],
   "source": [
    "k = crt(rem, mod)\n",
    "k"
   ]
  },
  {
   "cell_type": "code",
   "execution_count": 6,
   "id": "c64ea51f-c233-4bd6-a88f-2142e39ba267",
   "metadata": {},
   "outputs": [
    {
     "data": {
      "text/plain": [
       "True"
      ]
     },
     "execution_count": 6,
     "metadata": {},
     "output_type": "execute_result"
    }
   ],
   "source": [
    "pow(g, k, n) == c"
   ]
  },
  {
   "cell_type": "code",
   "execution_count": 7,
   "id": "9e23dfeb-82a1-4a99-a9ee-27294b7828e3",
   "metadata": {},
   "outputs": [
    {
     "data": {
      "text/plain": [
       "b'FLAG{0e8dc88cd3dc6717bf1e98126ccd295e559f9a03}\\n\\x00\\x00\\x00\\x00\\x00\\x00\\x00\\x00\\x00\\x00\\x00\\x00\\x00\\x00\\x00\\x00\\x00'"
      ]
     },
     "execution_count": 7,
     "metadata": {},
     "output_type": "execute_result"
    }
   ],
   "source": [
    "k_digest = hashlib.sha512(str(k).encode('ascii')).digest()\n",
    "bytes([ci ^^ xi for ci, xi in zip(flag_enc, k_digest)])"
   ]
  }
 ],
 "metadata": {
  "kernelspec": {
   "display_name": "SageMath 9.2",
   "language": "sage",
   "name": "sagemath"
  },
  "language_info": {
   "codemirror_mode": {
    "name": "ipython",
    "version": 3
   },
   "file_extension": ".py",
   "mimetype": "text/x-python",
   "name": "python",
   "nbconvert_exporter": "python",
   "pygments_lexer": "ipython3",
   "version": "3.9.9"
  }
 },
 "nbformat": 4,
 "nbformat_minor": 5
}
