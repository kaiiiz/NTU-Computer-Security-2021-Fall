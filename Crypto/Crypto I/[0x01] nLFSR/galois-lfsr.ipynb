{
 "cells": [
  {
   "cell_type": "markdown",
   "id": "64e5874b-8646-4c47-b937-69a866c9228c",
   "metadata": {},
   "source": [
    "# Galois LFSRs"
   ]
  },
  {
   "cell_type": "code",
   "execution_count": 1,
   "id": "f1266505-2ea2-4848-b4b7-1bf4e110eabe",
   "metadata": {},
   "outputs": [
    {
     "name": "stdout",
     "output_type": "stream",
     "text": [
      "00001 1\n",
      "11100 0\n",
      "01110 0\n",
      "00111 1\n",
      "11111 1\n",
      "10011 1\n",
      "10101 1\n",
      "10110 0\n",
      "01011 1\n",
      "11001 1\n",
      "10000 0\n",
      "01000 0\n",
      "00100 0\n",
      "00010 0\n"
     ]
    }
   ],
   "source": [
    "start_state = 0b00001\n",
    "lfsr = start_state\n",
    "period = 0\n",
    "\n",
    "while True:\n",
    "    out = lfsr & 0b1\n",
    "    print(f\"{lfsr:0>5b}\", out)\n",
    "    lfsr >>= 1\n",
    "    if out:\n",
    "        lfsr ^^= 0b11100\n",
    "    if lfsr == start_state:\n",
    "        break"
   ]
  },
  {
   "cell_type": "markdown",
   "id": "e687f74a-eaa9-47c6-b79d-bd4d8d3b5960",
   "metadata": {},
   "source": [
    "# Fibonacci LFSRs"
   ]
  },
  {
   "cell_type": "code",
   "execution_count": 2,
   "id": "2c787663-5d63-4e36-8173-3e864f63b30f",
   "metadata": {},
   "outputs": [
    {
     "name": "stdout",
     "output_type": "stream",
     "text": [
      "[1, 0, 0, 0, 0] [0, 1, 2]\n"
     ]
    }
   ],
   "source": [
    "class LFSR:\n",
    "    def __init__(self, key, taps):\n",
    "        d = max(taps)\n",
    "        assert len(key) == d, \"Error: key of wrong size.\"\n",
    "        self._s = key\n",
    "        self._t = [d - t for t in taps]\n",
    "\n",
    "    def _sum(self, L):\n",
    "        s = 0\n",
    "        for x in L:\n",
    "            s ^^= x\n",
    "        return s\n",
    "\n",
    "    def _clock(self):\n",
    "        b = self._s[0]\n",
    "        self._s = self._s[1:] + [self._sum(self._s[p] for p in self._t)]\n",
    "        return b\n",
    "\n",
    "    def getbit(self):\n",
    "        return self._clock()\n",
    "\n",
    "fibo_lfsr = LFSR([1, 0, 0, 0, 0], [5, 4, 3])\n",
    "print(fibo_lfsr._s, fibo_lfsr._t)"
   ]
  },
  {
   "cell_type": "code",
   "execution_count": 3,
   "id": "ebf870d3-4a2b-45b3-92a3-8e78349b6c0c",
   "metadata": {},
   "outputs": [
    {
     "name": "stdout",
     "output_type": "stream",
     "text": [
      "00001 1\n",
      "10000 0\n",
      "01000 0\n",
      "00100 0\n",
      "10010 0\n",
      "11001 1\n",
      "11100 0\n",
      "11110 0\n",
      "01111 1\n",
      "10111 1\n",
      "11011 1\n",
      "01101 1\n",
      "00110 0\n",
      "00011 1\n"
     ]
    }
   ],
   "source": [
    "exist_state = set()\n",
    "\n",
    "for _ in range(16):\n",
    "    stat = \"\".join([str(i) for i in fibo_lfsr._s])\n",
    "    if stat in exist_state:\n",
    "        break\n",
    "    exist_state.add(stat)\n",
    "    print(\"\".join(str(i) for i in reversed(fibo_lfsr._s)), fibo_lfsr.getbit())"
   ]
  },
  {
   "cell_type": "markdown",
   "id": "e3824c0e-51d6-4b9f-a99d-f3d603857f62",
   "metadata": {},
   "source": [
    "Fibonacci LFSR state `00001` is equivalent to Galois LFSR state `11001`!!!"
   ]
  },
  {
   "cell_type": "markdown",
   "id": "13e4363c-3361-4e85-aaea-e8ae8acb92a9",
   "metadata": {},
   "source": [
    "# Implement Galois LFSRs using companion matrix"
   ]
  },
  {
   "cell_type": "code",
   "execution_count": 4,
   "id": "bd16a8e2-50bd-4fc0-b407-203b604b88cb",
   "metadata": {},
   "outputs": [
    {
     "data": {
      "text/plain": [
       "[0 1 0 0 0]\n",
       "[0 0 1 0 0]\n",
       "[1 0 0 1 0]\n",
       "[1 0 0 0 1]\n",
       "[1 0 0 0 0]"
      ]
     },
     "execution_count": 4,
     "metadata": {},
     "output_type": "execute_result"
    }
   ],
   "source": [
    "P.<x> = PolynomialRing(GF(2))\n",
    "P = x^5 + x^2 + x + 1 # poly = 0b11100\n",
    "C = companion_matrix(P, format='left')\n",
    "C"
   ]
  },
  {
   "cell_type": "code",
   "execution_count": 5,
   "id": "6d35bab1-41e4-462b-9c20-cbefb729088f",
   "metadata": {},
   "outputs": [
    {
     "name": "stdout",
     "output_type": "stream",
     "text": [
      "00001\n",
      "11100\n",
      "01110\n",
      "00111\n",
      "11111\n",
      "10011\n",
      "10101\n",
      "10110\n",
      "01011\n",
      "11001\n",
      "10000\n",
      "01000\n",
      "00100\n",
      "00010\n"
     ]
    }
   ],
   "source": [
    "b = vector([1, 0, 0, 0, 0]) # start_state = 0b00001\n",
    "exist_state = set()\n",
    "\n",
    "while True:\n",
    "    state = \"\".join(reversed([str(i) for i in b]))\n",
    "    if state in exist_state:\n",
    "        break\n",
    "    print(state)\n",
    "    b = C * b\n",
    "    exist_state.add(state)"
   ]
  }
 ],
 "metadata": {
  "kernelspec": {
   "display_name": "SageMath 9.2",
   "language": "sage",
   "name": "sagemath"
  },
  "language_info": {
   "codemirror_mode": {
    "name": "ipython",
    "version": 3
   },
   "file_extension": ".py",
   "mimetype": "text/x-python",
   "name": "python",
   "nbconvert_exporter": "python",
   "pygments_lexer": "ipython3",
   "version": "3.9.2"
  }
 },
 "nbformat": 4,
 "nbformat_minor": 5
}
