{
 "cells": [
  {
   "cell_type": "code",
   "execution_count": 1,
   "id": "39f47884-0943-4001-bd32-172709a728d1",
   "metadata": {},
   "outputs": [],
   "source": [
    "class LFSR:\n",
    "    def __init__(self, key, taps):\n",
    "        d = max(taps)\n",
    "        assert len(key) == d, \"Error: key of wrong size.\"\n",
    "        self._s = key\n",
    "        self._t = [d - t for t in taps]\n",
    "\n",
    "    def _sum(self, L):\n",
    "        s = 0\n",
    "        for x in L:\n",
    "            s ^^= x\n",
    "        return s\n",
    "\n",
    "    def _clock(self):\n",
    "        b = self._s[0]\n",
    "        self._s = self._s[1:] + [self._sum(self._s[p] for p in self._t)]\n",
    "        return b\n",
    "\n",
    "    def getbit(self):\n",
    "        return self._clock()"
   ]
  },
  {
   "cell_type": "code",
   "execution_count": 2,
   "id": "e102011d-0037-469c-8808-e43d39c72fa2",
   "metadata": {},
   "outputs": [],
   "source": [
    "key = [1, 0, 1]\n",
    "taps = [3, 2]\n",
    "rng = LFSR(key, taps)"
   ]
  },
  {
   "cell_type": "code",
   "execution_count": 3,
   "id": "802cccd6-69e2-4593-bdbf-f398c7760da3",
   "metadata": {},
   "outputs": [
    {
     "name": "stdout",
     "output_type": "stream",
     "text": [
      "0 0\n",
      "1 1\n",
      "2 0\n"
     ]
    }
   ],
   "source": [
    "for i in range(20):\n",
    "    rng.getbit()\n",
    "    \n",
    "for i in range(3):\n",
    "    print(i, rng.getbit())"
   ]
  },
  {
   "cell_type": "code",
   "execution_count": 4,
   "id": "118225e3-700f-41f3-bc00-90a10b44b860",
   "metadata": {},
   "outputs": [],
   "source": [
    "P.<x> = PolynomialRing(GF(2))\n",
    "P = x^3 + x + 1\n",
    "C = companion_matrix(P, format='bottom')"
   ]
  },
  {
   "cell_type": "code",
   "execution_count": 6,
   "id": "c00a7263-d2fc-434f-a4db-444583295e6a",
   "metadata": {},
   "outputs": [
    {
     "data": {
      "text/plain": [
       "[0 1 0]\n",
       "[0 0 1]\n",
       "[1 1 0]"
      ]
     },
     "execution_count": 6,
     "metadata": {},
     "output_type": "execute_result"
    }
   ],
   "source": [
    "C"
   ]
  },
  {
   "cell_type": "code",
   "execution_count": 5,
   "id": "ea2a697d-f9f1-4d33-8c45-b0d0a27392ed",
   "metadata": {},
   "outputs": [
    {
     "data": {
      "text/plain": [
       "(1, 0, 1)"
      ]
     },
     "execution_count": 5,
     "metadata": {},
     "output_type": "execute_result"
    }
   ],
   "source": [
    "# C^20 * key = [1, 0, 1]\n",
    "b = vector([0, 1, 0])\n",
    "A = C ^ 20\n",
    "x = A ^ -1 * b\n",
    "x"
   ]
  }
 ],
 "metadata": {
  "kernelspec": {
   "display_name": "SageMath 9.2",
   "language": "sage",
   "name": "sagemath"
  },
  "language_info": {
   "codemirror_mode": {
    "name": "ipython",
    "version": 3
   },
   "file_extension": ".py",
   "mimetype": "text/x-python",
   "name": "python",
   "nbconvert_exporter": "python",
   "pygments_lexer": "ipython3",
   "version": "3.9.2"
  }
 },
 "nbformat": 4,
 "nbformat_minor": 5
}
