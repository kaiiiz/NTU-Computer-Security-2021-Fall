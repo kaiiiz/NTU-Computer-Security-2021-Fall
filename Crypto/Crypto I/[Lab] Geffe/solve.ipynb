{
 "cells": [
  {
   "cell_type": "code",
   "execution_count": 1,
   "id": "3877960c-2255-402f-b2fc-f301d18d80a5",
   "metadata": {},
   "outputs": [],
   "source": [
    "stream = [0, 1, 1, 0, 0, 0, 1, 1, 0, 1, 1, 0, 0, 0, 0, 0, 0, 1, 1, 1, 0, 0, 1, 1, 0, 0, 1, 0, 1, 1, 0, 0, 0, 1, 1, 1, 0, 1, 0, 0, 0, 0, 0, 0, 0, 1, 0, 0, 1, 1, 0, 1, 1, 0, 1, 1, 1, 0, 0, 1, 0, 0, 1, 0, 1, 1, 0, 0, 1, 1, 1, 1, 1, 1, 1, 1, 0, 1, 0, 1, 0, 0, 1, 1, 1, 0, 0, 1, 0, 0, 1, 1, 1, 1, 0, 1, 0, 1, 1, 1, 0, 0, 0, 0, 0, 0, 0, 0, 1, 0, 1, 0, 0, 1, 1, 0, 1, 1, 0, 1, 0, 0, 1, 1, 1, 0, 1, 0, 0, 0, 0, 0, 0, 0, 0, 0, 1, 1, 0, 0, 0, 0, 0, 1, 1, 1, 1, 1, 0, 1, 1, 0, 0, 0, 1, 0, 0, 0, 1, 1, 0, 0, 0, 1, 0, 0, 1, 0, 1, 1, 1, 1, 0, 0, 0, 0, 1, 1, 0, 0, 0, 1, 0, 0, 1, 0, 0, 1, 1, 0, 0, 1, 1, 1, 0, 0, 0, 0, 1, 0, 1, 0, 0, 0, 0, 1, 1, 1, 1, 1, 1, 0, 1, 1, 1, 1, 0, 0, 1, 1, 1, 1, 1, 0, 0, 1, 1, 0, 0, 1, 0, 1, 1, 0, 0, 0, 1, 0, 1, 1, 0, 0, 1, 1, 0, 0, 1, 0, 1, 0, 1, 1, 1, 1, 0, 1]"
   ]
  },
  {
   "cell_type": "code",
   "execution_count": 2,
   "id": "4dd30ac7-9e9f-446a-aa3b-0606623663df",
   "metadata": {},
   "outputs": [],
   "source": [
    "class LFSR:\n",
    "    def __init__(self, key, taps):\n",
    "        d = max(taps)\n",
    "        assert len(key) == d, \"Error: key of wrong size.\"\n",
    "        self._s = key\n",
    "        self._t = [d - t for t in taps]\n",
    "\n",
    "    def _sum(self, L):\n",
    "        s = 0\n",
    "        for x in L:\n",
    "            s ^^= x\n",
    "        return s\n",
    "\n",
    "    def _clock(self):\n",
    "        b = self._s[0]\n",
    "        self._s = self._s[1:] + [self._sum(self._s[p] for p in self._t)]\n",
    "        return b\n",
    "\n",
    "    def getbit(self):\n",
    "        return self._clock()\n"
   ]
  },
  {
   "cell_type": "markdown",
   "id": "3b397457-6fe2-4d58-b520-3a735e198aaa",
   "metadata": {},
   "source": [
    "# Crack second LFSR"
   ]
  },
  {
   "cell_type": "code",
   "execution_count": 3,
   "id": "5290a9a0-dbbe-408d-90f9-868baedf2247",
   "metadata": {},
   "outputs": [],
   "source": [
    "import itertools\n",
    "import copy"
   ]
  },
  {
   "cell_type": "code",
   "execution_count": 5,
   "id": "340be934-3ebb-4d31-907f-fc5448014b36",
   "metadata": {},
   "outputs": [
    {
     "name": "stdout",
     "output_type": "stream",
     "text": [
      "1\n",
      "2\n",
      "3\n",
      "4\n",
      "0.746093750000000 [0, 1, 1, 0, 0, 0, 1, 0, 0, 1, 1, 0, 0, 0, 0, 0, 0, 1, 0, 1, 0, 0, 0, 1, 1, 0, 1]\n"
     ]
    },
    {
     "ename": "KeyboardInterrupt",
     "evalue": "",
     "output_type": "error",
     "traceback": [
      "\u001b[0;31m---------------------------------------------------------------------------\u001b[0m",
      "\u001b[0;31mKeyboardInterrupt\u001b[0m                         Traceback (most recent call last)",
      "\u001b[0;32m/tmp/ipykernel_208773/808424513.py\u001b[0m in \u001b[0;36m<module>\u001b[0;34m\u001b[0m\n\u001b[1;32m      9\u001b[0m             \u001b[0mkey_candidate\u001b[0m\u001b[0;34m[\u001b[0m\u001b[0mflip_b\u001b[0m\u001b[0;34m]\u001b[0m \u001b[0;34m=\u001b[0m \u001b[0mInteger\u001b[0m\u001b[0;34m(\u001b[0m\u001b[0;36m1\u001b[0m\u001b[0;34m)\u001b[0m \u001b[0;34m-\u001b[0m \u001b[0mkey_candidate\u001b[0m\u001b[0;34m[\u001b[0m\u001b[0mflip_b\u001b[0m\u001b[0;34m]\u001b[0m\u001b[0;34m\u001b[0m\u001b[0;34m\u001b[0m\u001b[0m\n\u001b[1;32m     10\u001b[0m         \u001b[0mlfsr\u001b[0m \u001b[0;34m=\u001b[0m \u001b[0mLFSR\u001b[0m\u001b[0;34m(\u001b[0m\u001b[0mkey_candidate\u001b[0m\u001b[0;34m,\u001b[0m \u001b[0;34m[\u001b[0m\u001b[0mInteger\u001b[0m\u001b[0;34m(\u001b[0m\u001b[0;36m27\u001b[0m\u001b[0;34m)\u001b[0m\u001b[0;34m,\u001b[0m \u001b[0mInteger\u001b[0m\u001b[0;34m(\u001b[0m\u001b[0;36m26\u001b[0m\u001b[0;34m)\u001b[0m\u001b[0;34m,\u001b[0m \u001b[0mInteger\u001b[0m\u001b[0;34m(\u001b[0m\u001b[0;36m25\u001b[0m\u001b[0;34m)\u001b[0m\u001b[0;34m,\u001b[0m \u001b[0mInteger\u001b[0m\u001b[0;34m(\u001b[0m\u001b[0;36m22\u001b[0m\u001b[0;34m)\u001b[0m\u001b[0;34m]\u001b[0m\u001b[0;34m)\u001b[0m\u001b[0;34m\u001b[0m\u001b[0;34m\u001b[0m\u001b[0m\n\u001b[0;32m---> 11\u001b[0;31m         \u001b[0ms\u001b[0m \u001b[0;34m=\u001b[0m \u001b[0;34m[\u001b[0m\u001b[0mlfsr\u001b[0m\u001b[0;34m.\u001b[0m\u001b[0mgetbit\u001b[0m\u001b[0;34m(\u001b[0m\u001b[0;34m)\u001b[0m \u001b[0;32mfor\u001b[0m \u001b[0m_\u001b[0m \u001b[0;32min\u001b[0m \u001b[0mrange\u001b[0m\u001b[0;34m(\u001b[0m\u001b[0mInteger\u001b[0m\u001b[0;34m(\u001b[0m\u001b[0;36m256\u001b[0m\u001b[0;34m)\u001b[0m\u001b[0;34m)\u001b[0m\u001b[0;34m]\u001b[0m\u001b[0;34m\u001b[0m\u001b[0;34m\u001b[0m\u001b[0m\n\u001b[0m\u001b[1;32m     12\u001b[0m         \u001b[0mmatches\u001b[0m \u001b[0;34m=\u001b[0m \u001b[0msum\u001b[0m\u001b[0;34m(\u001b[0m\u001b[0ma\u001b[0m \u001b[0;34m==\u001b[0m \u001b[0mb\u001b[0m \u001b[0;32mfor\u001b[0m \u001b[0ma\u001b[0m\u001b[0;34m,\u001b[0m \u001b[0mb\u001b[0m \u001b[0;32min\u001b[0m \u001b[0mzip\u001b[0m\u001b[0;34m(\u001b[0m\u001b[0mstream\u001b[0m\u001b[0;34m[\u001b[0m\u001b[0;34m:\u001b[0m\u001b[0mInteger\u001b[0m\u001b[0;34m(\u001b[0m\u001b[0;36m256\u001b[0m\u001b[0;34m)\u001b[0m\u001b[0;34m]\u001b[0m\u001b[0;34m,\u001b[0m \u001b[0ms\u001b[0m\u001b[0;34m)\u001b[0m\u001b[0;34m)\u001b[0m\u001b[0;34m\u001b[0m\u001b[0;34m\u001b[0m\u001b[0m\n\u001b[1;32m     13\u001b[0m \u001b[0;34m\u001b[0m\u001b[0m\n",
      "\u001b[0;32m/tmp/ipykernel_208773/808424513.py\u001b[0m in \u001b[0;36m<listcomp>\u001b[0;34m(.0)\u001b[0m\n\u001b[1;32m      9\u001b[0m             \u001b[0mkey_candidate\u001b[0m\u001b[0;34m[\u001b[0m\u001b[0mflip_b\u001b[0m\u001b[0;34m]\u001b[0m \u001b[0;34m=\u001b[0m \u001b[0mInteger\u001b[0m\u001b[0;34m(\u001b[0m\u001b[0;36m1\u001b[0m\u001b[0;34m)\u001b[0m \u001b[0;34m-\u001b[0m \u001b[0mkey_candidate\u001b[0m\u001b[0;34m[\u001b[0m\u001b[0mflip_b\u001b[0m\u001b[0;34m]\u001b[0m\u001b[0;34m\u001b[0m\u001b[0;34m\u001b[0m\u001b[0m\n\u001b[1;32m     10\u001b[0m         \u001b[0mlfsr\u001b[0m \u001b[0;34m=\u001b[0m \u001b[0mLFSR\u001b[0m\u001b[0;34m(\u001b[0m\u001b[0mkey_candidate\u001b[0m\u001b[0;34m,\u001b[0m \u001b[0;34m[\u001b[0m\u001b[0mInteger\u001b[0m\u001b[0;34m(\u001b[0m\u001b[0;36m27\u001b[0m\u001b[0;34m)\u001b[0m\u001b[0;34m,\u001b[0m \u001b[0mInteger\u001b[0m\u001b[0;34m(\u001b[0m\u001b[0;36m26\u001b[0m\u001b[0;34m)\u001b[0m\u001b[0;34m,\u001b[0m \u001b[0mInteger\u001b[0m\u001b[0;34m(\u001b[0m\u001b[0;36m25\u001b[0m\u001b[0;34m)\u001b[0m\u001b[0;34m,\u001b[0m \u001b[0mInteger\u001b[0m\u001b[0;34m(\u001b[0m\u001b[0;36m22\u001b[0m\u001b[0;34m)\u001b[0m\u001b[0;34m]\u001b[0m\u001b[0;34m)\u001b[0m\u001b[0;34m\u001b[0m\u001b[0;34m\u001b[0m\u001b[0m\n\u001b[0;32m---> 11\u001b[0;31m         \u001b[0ms\u001b[0m \u001b[0;34m=\u001b[0m \u001b[0;34m[\u001b[0m\u001b[0mlfsr\u001b[0m\u001b[0;34m.\u001b[0m\u001b[0mgetbit\u001b[0m\u001b[0;34m(\u001b[0m\u001b[0;34m)\u001b[0m \u001b[0;32mfor\u001b[0m \u001b[0m_\u001b[0m \u001b[0;32min\u001b[0m \u001b[0mrange\u001b[0m\u001b[0;34m(\u001b[0m\u001b[0mInteger\u001b[0m\u001b[0;34m(\u001b[0m\u001b[0;36m256\u001b[0m\u001b[0;34m)\u001b[0m\u001b[0;34m)\u001b[0m\u001b[0;34m]\u001b[0m\u001b[0;34m\u001b[0m\u001b[0;34m\u001b[0m\u001b[0m\n\u001b[0m\u001b[1;32m     12\u001b[0m         \u001b[0mmatches\u001b[0m \u001b[0;34m=\u001b[0m \u001b[0msum\u001b[0m\u001b[0;34m(\u001b[0m\u001b[0ma\u001b[0m \u001b[0;34m==\u001b[0m \u001b[0mb\u001b[0m \u001b[0;32mfor\u001b[0m \u001b[0ma\u001b[0m\u001b[0;34m,\u001b[0m \u001b[0mb\u001b[0m \u001b[0;32min\u001b[0m \u001b[0mzip\u001b[0m\u001b[0;34m(\u001b[0m\u001b[0mstream\u001b[0m\u001b[0;34m[\u001b[0m\u001b[0;34m:\u001b[0m\u001b[0mInteger\u001b[0m\u001b[0;34m(\u001b[0m\u001b[0;36m256\u001b[0m\u001b[0;34m)\u001b[0m\u001b[0;34m]\u001b[0m\u001b[0;34m,\u001b[0m \u001b[0ms\u001b[0m\u001b[0;34m)\u001b[0m\u001b[0;34m)\u001b[0m\u001b[0;34m\u001b[0m\u001b[0;34m\u001b[0m\u001b[0m\n\u001b[1;32m     13\u001b[0m \u001b[0;34m\u001b[0m\u001b[0m\n",
      "\u001b[0;32m/tmp/ipykernel_208773/1529492507.py\u001b[0m in \u001b[0;36mgetbit\u001b[0;34m(self)\u001b[0m\n\u001b[1;32m     18\u001b[0m \u001b[0;34m\u001b[0m\u001b[0m\n\u001b[1;32m     19\u001b[0m     \u001b[0;32mdef\u001b[0m \u001b[0mgetbit\u001b[0m\u001b[0;34m(\u001b[0m\u001b[0mself\u001b[0m\u001b[0;34m)\u001b[0m\u001b[0;34m:\u001b[0m\u001b[0;34m\u001b[0m\u001b[0;34m\u001b[0m\u001b[0m\n\u001b[0;32m---> 20\u001b[0;31m         \u001b[0;32mreturn\u001b[0m \u001b[0mself\u001b[0m\u001b[0;34m.\u001b[0m\u001b[0m_clock\u001b[0m\u001b[0;34m(\u001b[0m\u001b[0;34m)\u001b[0m\u001b[0;34m\u001b[0m\u001b[0;34m\u001b[0m\u001b[0m\n\u001b[0m",
      "\u001b[0;32m/tmp/ipykernel_208773/1529492507.py\u001b[0m in \u001b[0;36m_clock\u001b[0;34m(self)\u001b[0m\n\u001b[1;32m     14\u001b[0m     \u001b[0;32mdef\u001b[0m \u001b[0m_clock\u001b[0m\u001b[0;34m(\u001b[0m\u001b[0mself\u001b[0m\u001b[0;34m)\u001b[0m\u001b[0;34m:\u001b[0m\u001b[0;34m\u001b[0m\u001b[0;34m\u001b[0m\u001b[0m\n\u001b[1;32m     15\u001b[0m         \u001b[0mb\u001b[0m \u001b[0;34m=\u001b[0m \u001b[0mself\u001b[0m\u001b[0;34m.\u001b[0m\u001b[0m_s\u001b[0m\u001b[0;34m[\u001b[0m\u001b[0mInteger\u001b[0m\u001b[0;34m(\u001b[0m\u001b[0;36m0\u001b[0m\u001b[0;34m)\u001b[0m\u001b[0;34m]\u001b[0m\u001b[0;34m\u001b[0m\u001b[0;34m\u001b[0m\u001b[0m\n\u001b[0;32m---> 16\u001b[0;31m         \u001b[0mself\u001b[0m\u001b[0;34m.\u001b[0m\u001b[0m_s\u001b[0m \u001b[0;34m=\u001b[0m \u001b[0mself\u001b[0m\u001b[0;34m.\u001b[0m\u001b[0m_s\u001b[0m\u001b[0;34m[\u001b[0m\u001b[0mInteger\u001b[0m\u001b[0;34m(\u001b[0m\u001b[0;36m1\u001b[0m\u001b[0;34m)\u001b[0m\u001b[0;34m:\u001b[0m\u001b[0;34m]\u001b[0m \u001b[0;34m+\u001b[0m \u001b[0;34m[\u001b[0m\u001b[0mself\u001b[0m\u001b[0;34m.\u001b[0m\u001b[0m_sum\u001b[0m\u001b[0;34m(\u001b[0m\u001b[0mself\u001b[0m\u001b[0;34m.\u001b[0m\u001b[0m_s\u001b[0m\u001b[0;34m[\u001b[0m\u001b[0mp\u001b[0m\u001b[0;34m]\u001b[0m \u001b[0;32mfor\u001b[0m \u001b[0mp\u001b[0m \u001b[0;32min\u001b[0m \u001b[0mself\u001b[0m\u001b[0;34m.\u001b[0m\u001b[0m_t\u001b[0m\u001b[0;34m)\u001b[0m\u001b[0;34m]\u001b[0m\u001b[0;34m\u001b[0m\u001b[0;34m\u001b[0m\u001b[0m\n\u001b[0m\u001b[1;32m     17\u001b[0m         \u001b[0;32mreturn\u001b[0m \u001b[0mb\u001b[0m\u001b[0;34m\u001b[0m\u001b[0;34m\u001b[0m\u001b[0m\n\u001b[1;32m     18\u001b[0m \u001b[0;34m\u001b[0m\u001b[0m\n",
      "\u001b[0;32msrc/cysignals/signals.pyx\u001b[0m in \u001b[0;36mcysignals.signals.python_check_interrupt\u001b[0;34m()\u001b[0m\n",
      "\u001b[0;31mKeyboardInterrupt\u001b[0m: "
     ]
    }
   ],
   "source": [
    "key_len = 27\n",
    "key = stream[:key_len]\n",
    "\n",
    "for b in range(1, key_len + 1): # 改幾個 bits\n",
    "    print(b)\n",
    "    for c in itertools.combinations(range(key_len), b):\n",
    "        key_candidate = copy.deepcopy(key)\n",
    "        for flip_b in c:\n",
    "            key_candidate[flip_b] = 1 - key_candidate[flip_b]\n",
    "        lfsr = LFSR(key_candidate, [27, 26, 25, 22])\n",
    "        s = [lfsr.getbit() for _ in range(256)]\n",
    "        matches = sum(a == b for a, b in zip(stream[:256], s))\n",
    "        \n",
    "        if matches > int(0.7 * 256):\n",
    "            print(matches / 256.0, key_candidate)"
   ]
  },
  {
   "cell_type": "markdown",
   "id": "3025c00a-c0b1-4da5-b775-4505136d4545",
   "metadata": {},
   "source": [
    "# Crack third LFSR"
   ]
  },
  {
   "cell_type": "code",
   "execution_count": 6,
   "id": "215f39f6-ed3a-40aa-9071-e471ba6d0a19",
   "metadata": {},
   "outputs": [
    {
     "name": "stdout",
     "output_type": "stream",
     "text": [
      "1\n",
      "2\n",
      "3\n",
      "4\n",
      "5\n",
      "6\n",
      "0.746093750000000 [0, 1, 1, 0, 1, 0, 1, 1, 0, 1, 1, 0, 1, 0, 1, 0, 0, 0, 1, 0, 1, 0, 1]\n"
     ]
    },
    {
     "ename": "KeyboardInterrupt",
     "evalue": "",
     "output_type": "error",
     "traceback": [
      "\u001b[0;31m---------------------------------------------------------------------------\u001b[0m",
      "\u001b[0;31mKeyboardInterrupt\u001b[0m                         Traceback (most recent call last)",
      "\u001b[0;32m/tmp/ipykernel_208773/2220739901.py\u001b[0m in \u001b[0;36m<module>\u001b[0;34m\u001b[0m\n\u001b[1;32m      9\u001b[0m             \u001b[0mkey_candidate\u001b[0m\u001b[0;34m[\u001b[0m\u001b[0mflip_b\u001b[0m\u001b[0;34m]\u001b[0m \u001b[0;34m=\u001b[0m \u001b[0mInteger\u001b[0m\u001b[0;34m(\u001b[0m\u001b[0;36m1\u001b[0m\u001b[0;34m)\u001b[0m \u001b[0;34m-\u001b[0m \u001b[0mkey_candidate\u001b[0m\u001b[0;34m[\u001b[0m\u001b[0mflip_b\u001b[0m\u001b[0;34m]\u001b[0m\u001b[0;34m\u001b[0m\u001b[0;34m\u001b[0m\u001b[0m\n\u001b[1;32m     10\u001b[0m         \u001b[0mlfsr\u001b[0m \u001b[0;34m=\u001b[0m \u001b[0mLFSR\u001b[0m\u001b[0;34m(\u001b[0m\u001b[0mkey_candidate\u001b[0m\u001b[0;34m,\u001b[0m \u001b[0;34m[\u001b[0m\u001b[0mInteger\u001b[0m\u001b[0;34m(\u001b[0m\u001b[0;36m23\u001b[0m\u001b[0;34m)\u001b[0m\u001b[0;34m,\u001b[0m \u001b[0mInteger\u001b[0m\u001b[0;34m(\u001b[0m\u001b[0;36m22\u001b[0m\u001b[0;34m)\u001b[0m\u001b[0;34m,\u001b[0m \u001b[0mInteger\u001b[0m\u001b[0;34m(\u001b[0m\u001b[0;36m20\u001b[0m\u001b[0;34m)\u001b[0m\u001b[0;34m,\u001b[0m \u001b[0mInteger\u001b[0m\u001b[0;34m(\u001b[0m\u001b[0;36m18\u001b[0m\u001b[0;34m)\u001b[0m\u001b[0;34m]\u001b[0m\u001b[0;34m)\u001b[0m\u001b[0;34m\u001b[0m\u001b[0;34m\u001b[0m\u001b[0m\n\u001b[0;32m---> 11\u001b[0;31m         \u001b[0ms\u001b[0m \u001b[0;34m=\u001b[0m \u001b[0;34m[\u001b[0m\u001b[0mlfsr\u001b[0m\u001b[0;34m.\u001b[0m\u001b[0mgetbit\u001b[0m\u001b[0;34m(\u001b[0m\u001b[0;34m)\u001b[0m \u001b[0;32mfor\u001b[0m \u001b[0m_\u001b[0m \u001b[0;32min\u001b[0m \u001b[0mrange\u001b[0m\u001b[0;34m(\u001b[0m\u001b[0mInteger\u001b[0m\u001b[0;34m(\u001b[0m\u001b[0;36m256\u001b[0m\u001b[0;34m)\u001b[0m\u001b[0;34m)\u001b[0m\u001b[0;34m]\u001b[0m\u001b[0;34m\u001b[0m\u001b[0;34m\u001b[0m\u001b[0m\n\u001b[0m\u001b[1;32m     12\u001b[0m         \u001b[0mmatches\u001b[0m \u001b[0;34m=\u001b[0m \u001b[0msum\u001b[0m\u001b[0;34m(\u001b[0m\u001b[0ma\u001b[0m \u001b[0;34m==\u001b[0m \u001b[0mb\u001b[0m \u001b[0;32mfor\u001b[0m \u001b[0ma\u001b[0m\u001b[0;34m,\u001b[0m \u001b[0mb\u001b[0m \u001b[0;32min\u001b[0m \u001b[0mzip\u001b[0m\u001b[0;34m(\u001b[0m\u001b[0mstream\u001b[0m\u001b[0;34m[\u001b[0m\u001b[0;34m:\u001b[0m\u001b[0mInteger\u001b[0m\u001b[0;34m(\u001b[0m\u001b[0;36m256\u001b[0m\u001b[0;34m)\u001b[0m\u001b[0;34m]\u001b[0m\u001b[0;34m,\u001b[0m \u001b[0ms\u001b[0m\u001b[0;34m)\u001b[0m\u001b[0;34m)\u001b[0m\u001b[0;34m\u001b[0m\u001b[0;34m\u001b[0m\u001b[0m\n\u001b[1;32m     13\u001b[0m \u001b[0;34m\u001b[0m\u001b[0m\n",
      "\u001b[0;32m/tmp/ipykernel_208773/2220739901.py\u001b[0m in \u001b[0;36m<listcomp>\u001b[0;34m(.0)\u001b[0m\n\u001b[1;32m      9\u001b[0m             \u001b[0mkey_candidate\u001b[0m\u001b[0;34m[\u001b[0m\u001b[0mflip_b\u001b[0m\u001b[0;34m]\u001b[0m \u001b[0;34m=\u001b[0m \u001b[0mInteger\u001b[0m\u001b[0;34m(\u001b[0m\u001b[0;36m1\u001b[0m\u001b[0;34m)\u001b[0m \u001b[0;34m-\u001b[0m \u001b[0mkey_candidate\u001b[0m\u001b[0;34m[\u001b[0m\u001b[0mflip_b\u001b[0m\u001b[0;34m]\u001b[0m\u001b[0;34m\u001b[0m\u001b[0;34m\u001b[0m\u001b[0m\n\u001b[1;32m     10\u001b[0m         \u001b[0mlfsr\u001b[0m \u001b[0;34m=\u001b[0m \u001b[0mLFSR\u001b[0m\u001b[0;34m(\u001b[0m\u001b[0mkey_candidate\u001b[0m\u001b[0;34m,\u001b[0m \u001b[0;34m[\u001b[0m\u001b[0mInteger\u001b[0m\u001b[0;34m(\u001b[0m\u001b[0;36m23\u001b[0m\u001b[0;34m)\u001b[0m\u001b[0;34m,\u001b[0m \u001b[0mInteger\u001b[0m\u001b[0;34m(\u001b[0m\u001b[0;36m22\u001b[0m\u001b[0;34m)\u001b[0m\u001b[0;34m,\u001b[0m \u001b[0mInteger\u001b[0m\u001b[0;34m(\u001b[0m\u001b[0;36m20\u001b[0m\u001b[0;34m)\u001b[0m\u001b[0;34m,\u001b[0m \u001b[0mInteger\u001b[0m\u001b[0;34m(\u001b[0m\u001b[0;36m18\u001b[0m\u001b[0;34m)\u001b[0m\u001b[0;34m]\u001b[0m\u001b[0;34m)\u001b[0m\u001b[0;34m\u001b[0m\u001b[0;34m\u001b[0m\u001b[0m\n\u001b[0;32m---> 11\u001b[0;31m         \u001b[0ms\u001b[0m \u001b[0;34m=\u001b[0m \u001b[0;34m[\u001b[0m\u001b[0mlfsr\u001b[0m\u001b[0;34m.\u001b[0m\u001b[0mgetbit\u001b[0m\u001b[0;34m(\u001b[0m\u001b[0;34m)\u001b[0m \u001b[0;32mfor\u001b[0m \u001b[0m_\u001b[0m \u001b[0;32min\u001b[0m \u001b[0mrange\u001b[0m\u001b[0;34m(\u001b[0m\u001b[0mInteger\u001b[0m\u001b[0;34m(\u001b[0m\u001b[0;36m256\u001b[0m\u001b[0;34m)\u001b[0m\u001b[0;34m)\u001b[0m\u001b[0;34m]\u001b[0m\u001b[0;34m\u001b[0m\u001b[0;34m\u001b[0m\u001b[0m\n\u001b[0m\u001b[1;32m     12\u001b[0m         \u001b[0mmatches\u001b[0m \u001b[0;34m=\u001b[0m \u001b[0msum\u001b[0m\u001b[0;34m(\u001b[0m\u001b[0ma\u001b[0m \u001b[0;34m==\u001b[0m \u001b[0mb\u001b[0m \u001b[0;32mfor\u001b[0m \u001b[0ma\u001b[0m\u001b[0;34m,\u001b[0m \u001b[0mb\u001b[0m \u001b[0;32min\u001b[0m \u001b[0mzip\u001b[0m\u001b[0;34m(\u001b[0m\u001b[0mstream\u001b[0m\u001b[0;34m[\u001b[0m\u001b[0;34m:\u001b[0m\u001b[0mInteger\u001b[0m\u001b[0;34m(\u001b[0m\u001b[0;36m256\u001b[0m\u001b[0;34m)\u001b[0m\u001b[0;34m]\u001b[0m\u001b[0;34m,\u001b[0m \u001b[0ms\u001b[0m\u001b[0;34m)\u001b[0m\u001b[0;34m)\u001b[0m\u001b[0;34m\u001b[0m\u001b[0;34m\u001b[0m\u001b[0m\n\u001b[1;32m     13\u001b[0m \u001b[0;34m\u001b[0m\u001b[0m\n",
      "\u001b[0;32m/tmp/ipykernel_208773/1529492507.py\u001b[0m in \u001b[0;36mgetbit\u001b[0;34m(self)\u001b[0m\n\u001b[1;32m     18\u001b[0m \u001b[0;34m\u001b[0m\u001b[0m\n\u001b[1;32m     19\u001b[0m     \u001b[0;32mdef\u001b[0m \u001b[0mgetbit\u001b[0m\u001b[0;34m(\u001b[0m\u001b[0mself\u001b[0m\u001b[0;34m)\u001b[0m\u001b[0;34m:\u001b[0m\u001b[0;34m\u001b[0m\u001b[0;34m\u001b[0m\u001b[0m\n\u001b[0;32m---> 20\u001b[0;31m         \u001b[0;32mreturn\u001b[0m \u001b[0mself\u001b[0m\u001b[0;34m.\u001b[0m\u001b[0m_clock\u001b[0m\u001b[0;34m(\u001b[0m\u001b[0;34m)\u001b[0m\u001b[0;34m\u001b[0m\u001b[0;34m\u001b[0m\u001b[0m\n\u001b[0m",
      "\u001b[0;32m/tmp/ipykernel_208773/1529492507.py\u001b[0m in \u001b[0;36m_clock\u001b[0;34m(self)\u001b[0m\n\u001b[1;32m     14\u001b[0m     \u001b[0;32mdef\u001b[0m \u001b[0m_clock\u001b[0m\u001b[0;34m(\u001b[0m\u001b[0mself\u001b[0m\u001b[0;34m)\u001b[0m\u001b[0;34m:\u001b[0m\u001b[0;34m\u001b[0m\u001b[0;34m\u001b[0m\u001b[0m\n\u001b[1;32m     15\u001b[0m         \u001b[0mb\u001b[0m \u001b[0;34m=\u001b[0m \u001b[0mself\u001b[0m\u001b[0;34m.\u001b[0m\u001b[0m_s\u001b[0m\u001b[0;34m[\u001b[0m\u001b[0mInteger\u001b[0m\u001b[0;34m(\u001b[0m\u001b[0;36m0\u001b[0m\u001b[0;34m)\u001b[0m\u001b[0;34m]\u001b[0m\u001b[0;34m\u001b[0m\u001b[0;34m\u001b[0m\u001b[0m\n\u001b[0;32m---> 16\u001b[0;31m         \u001b[0mself\u001b[0m\u001b[0;34m.\u001b[0m\u001b[0m_s\u001b[0m \u001b[0;34m=\u001b[0m \u001b[0mself\u001b[0m\u001b[0;34m.\u001b[0m\u001b[0m_s\u001b[0m\u001b[0;34m[\u001b[0m\u001b[0mInteger\u001b[0m\u001b[0;34m(\u001b[0m\u001b[0;36m1\u001b[0m\u001b[0;34m)\u001b[0m\u001b[0;34m:\u001b[0m\u001b[0;34m]\u001b[0m \u001b[0;34m+\u001b[0m \u001b[0;34m[\u001b[0m\u001b[0mself\u001b[0m\u001b[0;34m.\u001b[0m\u001b[0m_sum\u001b[0m\u001b[0;34m(\u001b[0m\u001b[0mself\u001b[0m\u001b[0;34m.\u001b[0m\u001b[0m_s\u001b[0m\u001b[0;34m[\u001b[0m\u001b[0mp\u001b[0m\u001b[0;34m]\u001b[0m \u001b[0;32mfor\u001b[0m \u001b[0mp\u001b[0m \u001b[0;32min\u001b[0m \u001b[0mself\u001b[0m\u001b[0;34m.\u001b[0m\u001b[0m_t\u001b[0m\u001b[0;34m)\u001b[0m\u001b[0;34m]\u001b[0m\u001b[0;34m\u001b[0m\u001b[0;34m\u001b[0m\u001b[0m\n\u001b[0m\u001b[1;32m     17\u001b[0m         \u001b[0;32mreturn\u001b[0m \u001b[0mb\u001b[0m\u001b[0;34m\u001b[0m\u001b[0;34m\u001b[0m\u001b[0m\n\u001b[1;32m     18\u001b[0m \u001b[0;34m\u001b[0m\u001b[0m\n",
      "\u001b[0;32m/tmp/ipykernel_208773/1529492507.py\u001b[0m in \u001b[0;36m_sum\u001b[0;34m(self, L)\u001b[0m\n\u001b[1;32m      8\u001b[0m     \u001b[0;32mdef\u001b[0m \u001b[0m_sum\u001b[0m\u001b[0;34m(\u001b[0m\u001b[0mself\u001b[0m\u001b[0;34m,\u001b[0m \u001b[0mL\u001b[0m\u001b[0;34m)\u001b[0m\u001b[0;34m:\u001b[0m\u001b[0;34m\u001b[0m\u001b[0;34m\u001b[0m\u001b[0m\n\u001b[1;32m      9\u001b[0m         \u001b[0ms\u001b[0m \u001b[0;34m=\u001b[0m \u001b[0mInteger\u001b[0m\u001b[0;34m(\u001b[0m\u001b[0;36m0\u001b[0m\u001b[0;34m)\u001b[0m\u001b[0;34m\u001b[0m\u001b[0;34m\u001b[0m\u001b[0m\n\u001b[0;32m---> 10\u001b[0;31m         \u001b[0;32mfor\u001b[0m \u001b[0mx\u001b[0m \u001b[0;32min\u001b[0m \u001b[0mL\u001b[0m\u001b[0;34m:\u001b[0m\u001b[0;34m\u001b[0m\u001b[0;34m\u001b[0m\u001b[0m\n\u001b[0m\u001b[1;32m     11\u001b[0m             \u001b[0ms\u001b[0m \u001b[0;34m^=\u001b[0m \u001b[0mx\u001b[0m\u001b[0;34m\u001b[0m\u001b[0;34m\u001b[0m\u001b[0m\n\u001b[1;32m     12\u001b[0m         \u001b[0;32mreturn\u001b[0m \u001b[0ms\u001b[0m\u001b[0;34m\u001b[0m\u001b[0;34m\u001b[0m\u001b[0m\n",
      "\u001b[0;32msrc/cysignals/signals.pyx\u001b[0m in \u001b[0;36mcysignals.signals.python_check_interrupt\u001b[0;34m()\u001b[0m\n",
      "\u001b[0;31mKeyboardInterrupt\u001b[0m: "
     ]
    }
   ],
   "source": [
    "key_len = 23\n",
    "key = stream[:key_len]\n",
    "\n",
    "for b in range(1, key_len + 1): # 改幾個 bits\n",
    "    print(b)\n",
    "    for c in itertools.combinations(range(key_len), b):\n",
    "        key_candidate = copy.deepcopy(key)\n",
    "        for flip_b in c:\n",
    "            key_candidate[flip_b] = 1 - key_candidate[flip_b]\n",
    "        lfsr = LFSR(key_candidate, [23, 22, 20, 18])\n",
    "        s = [lfsr.getbit() for _ in range(256)]\n",
    "        matches = sum(a == b for a, b in zip(stream[:256], s))\n",
    "        \n",
    "        if matches > int(0.7 * 256):\n",
    "            print(matches / 256.0, key_candidate)"
   ]
  },
  {
   "cell_type": "markdown",
   "id": "82b88488-3ff0-4633-88e2-dcc8ee442ff8",
   "metadata": {},
   "source": [
    "# Crack first LFSR"
   ]
  },
  {
   "cell_type": "code",
   "execution_count": 7,
   "id": "68879788-fbf0-436b-a531-e9da6965bceb",
   "metadata": {},
   "outputs": [],
   "source": [
    "lfsr1 = LFSR([0, 1, 1, 0, 0, 0, 1, 0, 0, 1, 1, 0, 0, 0, 0, 0, 0, 1, 0, 1, 0, 0, 0, 1, 1, 0, 1], [27, 26, 25, 22])\n",
    "lfsr2 = LFSR([0, 1, 1, 0, 1, 0, 1, 1, 0, 1, 1, 0, 1, 0, 1, 0, 0, 0, 1, 0, 1, 0, 1], [23, 22, 20, 18])"
   ]
  },
  {
   "cell_type": "code",
   "execution_count": 8,
   "id": "7d3d9589-80bc-41fc-a8e0-7d588acdc452",
   "metadata": {},
   "outputs": [],
   "source": [
    "lfsr1_stream = [lfsr1.getbit() for _ in range(256)]\n",
    "lfsr2_stream = [lfsr2.getbit() for _ in range(256)]"
   ]
  },
  {
   "cell_type": "code",
   "execution_count": 154,
   "id": "908463b1-f889-460f-9864-664d58fa4186",
   "metadata": {},
   "outputs": [
    {
     "name": "stdout",
     "output_type": "stream",
     "text": [
      "stream[4] = 1\n",
      "stream[7] = 0\n",
      "stream[12] = 1\n",
      "stream[14] = 1\n",
      "stream[17] = 1\n",
      "stream[18] = 0\n",
      "stream[19] = 1\n",
      "stream[20] = 1\n",
      "stream[22] = 0\n",
      "stream[24] = 0\n",
      "stream[26] = 1\n",
      "stream[27] = 1\n",
      "stream[28] = 1\n",
      "stream[30] = 1\n",
      "stream[31] = 1\n",
      "stream[34] = 1\n",
      "stream[35] = 0\n",
      "stream[39] = 0\n",
      "stream[40] = 1\n",
      "stream[41] = 0\n",
      "stream[42] = 0\n",
      "stream[43] = 0\n"
     ]
    }
   ],
   "source": [
    "equation_coeff = []\n",
    "\n",
    "for i, (s, l1s, l2s) in enumerate(zip(stream[:256], lfsr1_stream, lfsr2_stream)):\n",
    "    if s == l1s and l1s != l2s:\n",
    "        print(f\"stream[{i}] = 1\")\n",
    "        equation_coeff.append((i, 1))\n",
    "        \n",
    "    if s == l2s and l1s != l2s:\n",
    "        print(f\"stream[{i}] = 0\")\n",
    "        equation_coeff.append((i, 0))\n",
    "        \n",
    "    if len(equation_coeff) >= 22:\n",
    "        break"
   ]
  },
  {
   "cell_type": "code",
   "execution_count": 155,
   "id": "abd09b73-1766-4540-921f-3cddfcdaadad",
   "metadata": {},
   "outputs": [
    {
     "data": {
      "text/plain": [
       "[(4, 1),\n",
       " (7, 0),\n",
       " (12, 1),\n",
       " (14, 1),\n",
       " (17, 1),\n",
       " (18, 0),\n",
       " (19, 1),\n",
       " (20, 1),\n",
       " (22, 0),\n",
       " (24, 0),\n",
       " (26, 1),\n",
       " (27, 1),\n",
       " (28, 1),\n",
       " (30, 1),\n",
       " (31, 1),\n",
       " (34, 1),\n",
       " (35, 0),\n",
       " (39, 0),\n",
       " (40, 1),\n",
       " (41, 0),\n",
       " (42, 0),\n",
       " (43, 0)]"
      ]
     },
     "execution_count": 155,
     "metadata": {},
     "output_type": "execute_result"
    }
   ],
   "source": [
    "equation_coeff"
   ]
  },
  {
   "cell_type": "code",
   "execution_count": 156,
   "id": "ee162853-250b-47ba-87a8-b552a655126b",
   "metadata": {},
   "outputs": [],
   "source": [
    "P.<x> = PolynomialRing(GF(2))\n",
    "P = x^19 + x^5 + x^2 + x + 1\n",
    "C = companion_matrix(P, format='bottom')"
   ]
  },
  {
   "cell_type": "code",
   "execution_count": 157,
   "id": "9ebbc1a3-dc0f-44f9-bb93-5ff483323973",
   "metadata": {},
   "outputs": [
    {
     "data": {
      "text/plain": [
       "[0 1 0 0 0 0 0 0 0 0 0 0 0 0 0 0 0 0 0]\n",
       "[0 0 1 0 0 0 0 0 0 0 0 0 0 0 0 0 0 0 0]\n",
       "[0 0 0 1 0 0 0 0 0 0 0 0 0 0 0 0 0 0 0]\n",
       "[0 0 0 0 1 0 0 0 0 0 0 0 0 0 0 0 0 0 0]\n",
       "[0 0 0 0 0 1 0 0 0 0 0 0 0 0 0 0 0 0 0]\n",
       "[0 0 0 0 0 0 1 0 0 0 0 0 0 0 0 0 0 0 0]\n",
       "[0 0 0 0 0 0 0 1 0 0 0 0 0 0 0 0 0 0 0]\n",
       "[0 0 0 0 0 0 0 0 1 0 0 0 0 0 0 0 0 0 0]\n",
       "[0 0 0 0 0 0 0 0 0 1 0 0 0 0 0 0 0 0 0]\n",
       "[0 0 0 0 0 0 0 0 0 0 1 0 0 0 0 0 0 0 0]\n",
       "[0 0 0 0 0 0 0 0 0 0 0 1 0 0 0 0 0 0 0]\n",
       "[0 0 0 0 0 0 0 0 0 0 0 0 1 0 0 0 0 0 0]\n",
       "[0 0 0 0 0 0 0 0 0 0 0 0 0 1 0 0 0 0 0]\n",
       "[0 0 0 0 0 0 0 0 0 0 0 0 0 0 1 0 0 0 0]\n",
       "[0 0 0 0 0 0 0 0 0 0 0 0 0 0 0 1 0 0 0]\n",
       "[0 0 0 0 0 0 0 0 0 0 0 0 0 0 0 0 1 0 0]\n",
       "[0 0 0 0 0 0 0 0 0 0 0 0 0 0 0 0 0 1 0]\n",
       "[0 0 0 0 0 0 0 0 0 0 0 0 0 0 0 0 0 0 1]\n",
       "[1 1 1 0 0 1 0 0 0 0 0 0 0 0 0 0 0 0 0]"
      ]
     },
     "execution_count": 157,
     "metadata": {},
     "output_type": "execute_result"
    }
   ],
   "source": [
    "C"
   ]
  },
  {
   "cell_type": "code",
   "execution_count": 231,
   "id": "73470567-9dbb-4515-a71a-440b5bfb8cc2",
   "metadata": {},
   "outputs": [
    {
     "name": "stdout",
     "output_type": "stream",
     "text": [
      "s4 - 1,\n",
      "s7,\n",
      "s12 - 1,\n",
      "s14 - 1,\n",
      "s17 - 1,\n",
      "s18,\n",
      "s0 + s1 + s2 + s5 - 1,\n",
      "s1 + s2 + s3 + s6 - 1,\n",
      "s3 + s4 + s5 + s8,\n",
      "s10 + s5 + s6 + s7,\n",
      "s12 + s7 + s8 + s9 - 1,\n",
      "s10 + s13 + s8 + s9 - 1,\n",
      "s10 + s11 + s14 + s9 - 1,\n",
      "s11 + s12 + s13 + s16 - 1,\n",
      "s12 + s13 + s14 + s17 - 1,\n",
      "s1 + s15 + s16 + s17 + s2 + s3 + s6 - 1,\n",
      "s16 + s17 + s18 + s2 + s3 + s4 + s7,\n",
      "s1 + s11 + s3 + s5,\n",
      "s12 + s2 + s4 + s6 - 1,\n",
      "s13 + s3 + s5 + s7,\n",
      "s14 + s4 + s6 + s8,\n",
      "s15 + s5 + s7 + s9,\n"
     ]
    }
   ],
   "source": [
    "s = var('s', n=19)\n",
    "sv = vector(s)\n",
    "\n",
    "for i, out in equation_coeff:\n",
    "    fv = (C ^ i)[0].change_ring(QQ)\n",
    "    print(fv * sv - out, end=',\\n')"
   ]
  },
  {
   "cell_type": "code",
   "execution_count": 183,
   "id": "6715cd20-8717-4201-a90d-d6aa2a092f81",
   "metadata": {},
   "outputs": [
    {
     "data": {
      "text/plain": [
       "[{s18: 0, s17: 1, s16: 0, s15: 1, s14: 1, s13: 0, s12: 1, s11: 0, s10: 1, s9: 1, s8: 1, s7: 0, s6: 1, s5: 0, s4: 1, s3: 0, s2: 0, s1: 0, s0: 1}]"
      ]
     },
     "execution_count": 183,
     "metadata": {},
     "output_type": "execute_result"
    }
   ],
   "source": [
    "R.<s0, s1, s2, s3, s4, s5, s6, s7, s8, s9, s10, s11, s12, s13, s14, s15, s16, s17, s18> = PolynomialRing(GF(2))\n",
    "J = R.ideal(s4 - 1,\n",
    "            s7,\n",
    "            s12 - 1,\n",
    "            s14 - 1,\n",
    "            s17 - 1,\n",
    "            s18,\n",
    "            s0 + s1 + s2 + s5 - 1,\n",
    "            s1 + s2 + s3 + s6 - 1,\n",
    "            s3 + s4 + s5 + s8,\n",
    "            s10 + s5 + s6 + s7,\n",
    "            s12 + s7 + s8 + s9 - 1,\n",
    "            s10 + s13 + s8 + s9 - 1,\n",
    "            s10 + s11 + s14 + s9 - 1,\n",
    "            s11 + s12 + s13 + s16 - 1,\n",
    "            s12 + s13 + s14 + s17 - 1,\n",
    "            s1 + s15 + s16 + s17 + s2 + s3 + s6 - 1,\n",
    "            s16 + s17 + s18 + s2 + s3 + s4 + s7,\n",
    "            s1 + s11 + s3 + s5,\n",
    "            s12 + s2 + s4 + s6 - 1,\n",
    "            s13 + s3 + s5 + s7,\n",
    "            s14 + s4 + s6 + s8,\n",
    "            s15 + s5 + s7 + s9,\n",
    "           )\n",
    "J.variety()"
   ]
  },
  {
   "cell_type": "code",
   "execution_count": 228,
   "id": "6ba0db13-b987-4a1b-8178-440c9c112654",
   "metadata": {},
   "outputs": [],
   "source": [
    "from Crypto.Cipher import AES\n",
    "from Crypto.Util.Padding import unpad\n",
    "import hashlib"
   ]
  },
  {
   "cell_type": "code",
   "execution_count": 218,
   "id": "f9c545fa-fa93-4552-9806-214fd9582acd",
   "metadata": {},
   "outputs": [],
   "source": [
    "key = [1, 0, 0, 0, 1, 0, 1, 0, 1, 1, 1, 0, 1, 0, 1, 1, 0, 1, 0] + \\\n",
    "      [0, 1, 1, 0, 0, 0, 1, 0, 0, 1, 1, 0, 0, 0, 0, 0, 0, 1, 0, 1, 0, 0, 0, 1, 1, 0, 1] + \\\n",
    "      [0, 1, 1, 0, 1, 0, 1, 1, 0, 1, 1, 0, 1, 0, 1, 0, 0, 0, 1, 0, 1, 0, 1]"
   ]
  },
  {
   "cell_type": "code",
   "execution_count": 220,
   "id": "4cf16f67-1f6c-4308-9466-b4917c51b5fe",
   "metadata": {},
   "outputs": [],
   "source": [
    "key_int = 0\n",
    "for i, b in enumerate(reversed(key)):\n",
    "    key_int += 2 ^ i * b"
   ]
  },
  {
   "cell_type": "code",
   "execution_count": 225,
   "id": "263edd6b-89b8-47b1-ba3e-c9c8f406120d",
   "metadata": {},
   "outputs": [],
   "source": [
    "sha1 = hashlib.sha1()\n",
    "sha1.update(str(key_int).encode('ascii'))\n",
    "key_digest = sha1.digest()[:16]"
   ]
  },
  {
   "cell_type": "code",
   "execution_count": 227,
   "id": "c0b85e32-196f-4f36-bc6b-abbc56b71e68",
   "metadata": {},
   "outputs": [
    {
     "data": {
      "text/plain": [
       "b'FLAG{941ae21eb8823b73973fc67ccbf89ce9fb4cd38c}'"
      ]
     },
     "execution_count": 227,
     "metadata": {},
     "output_type": "execute_result"
    }
   ],
   "source": [
    "cipher = AES.new(key_digest, AES.MODE_CBC, bytes.fromhex('cd2832f408d1d973be28b66b133a0b5f'))\n",
    "unpad(cipher.decrypt(bytes.fromhex('1e3c272c4d9693580659218739e9adace2c5daf98062cf892cf6a9d0fc465671f8cd70a139b384836637c131217643c1')), 16)"
   ]
  }
 ],
 "metadata": {
  "kernelspec": {
   "display_name": "SageMath 9.2",
   "language": "sage",
   "name": "sagemath"
  },
  "language_info": {
   "codemirror_mode": {
    "name": "ipython",
    "version": 3
   },
   "file_extension": ".py",
   "mimetype": "text/x-python",
   "name": "python",
   "nbconvert_exporter": "python",
   "pygments_lexer": "ipython3",
   "version": "3.9.2"
  }
 },
 "nbformat": 4,
 "nbformat_minor": 5
}
