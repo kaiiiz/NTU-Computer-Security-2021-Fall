{
 "cells": [
  {
   "cell_type": "code",
   "execution_count": 74,
   "id": "c1a93a06-35d8-44a0-b452-d94cfc36562b",
   "metadata": {},
   "outputs": [],
   "source": [
    "from pwn import *"
   ]
  },
  {
   "cell_type": "code",
   "execution_count": 132,
   "id": "21811670-5928-470d-8f6b-57b770bf7b72",
   "metadata": {},
   "outputs": [
    {
     "name": "stdout",
     "output_type": "stream",
     "text": [
      "[x] Opening connection to edu-ctf.csie.org on port 42070\n",
      "[x] Opening connection to edu-ctf.csie.org on port 42070: Trying 140.112.31.97\n",
      "[+] Opening connection to edu-ctf.csie.org on port 42070: Done\n",
      "a755e5cbfee8e9580d64499aeeca630cf2c65dd859fe23f6a87331114f7a6083527f712534d0e4d26d56256d1fc9fcd4\n",
      "b'\\xa7U\\xe5\\xcb\\xfe\\xe8\\xe9X\\rdI\\x9a\\xee\\xcac\\x0c\\xf2\\xc6]\\xd8Y\\xfe#\\xf6\\xa8s1\\x11Oz`\\x83R\\x7fq%4\\xd0\\xe4\\xd2mV%m\\x1f\\xc9\\xfc\\xd4'\n"
     ]
    }
   ],
   "source": [
    "r = remote('edu-ctf.csie.org', 42070)\n",
    "cipher = r.recvline()\n",
    "cipher = cipher.split(b\"cipher = \")[-1][:-1].decode()\n",
    "print(cipher)\n",
    "cipher = bytes.fromhex(cipher)\n",
    "print(cipher)"
   ]
  },
  {
   "cell_type": "code",
   "execution_count": 135,
   "id": "28e7c65d-9d0b-40d3-b8fa-d4791aba3f49",
   "metadata": {},
   "outputs": [
    {
     "name": "stdout",
     "output_type": "stream",
     "text": [
      "0\n",
      "b'9'\n",
      "1\n",
      "b'79'\n",
      "2\n",
      "b'479'\n",
      "3\n",
      "b'a479'\n",
      "4\n",
      "b'fa479'\n",
      "5\n",
      "b'ffa479'\n",
      "6\n",
      "b'7ffa479'\n",
      "7\n",
      "b'37ffa479'\n",
      "8\n",
      "b'f37ffa479'\n",
      "9\n",
      "b'9f37ffa479'\n",
      "10\n",
      "b'd9f37ffa479'\n",
      "11\n",
      "b'{d9f37ffa479'\n",
      "12\n",
      "b'G{d9f37ffa479'\n",
      "13\n",
      "b'AG{d9f37ffa479'\n",
      "14\n",
      "b'LAG{d9f37ffa479'\n",
      "15\n",
      "b'FLAG{d9f37ffa479'\n",
      "0\n",
      "b'\\x00'\n",
      "1\n",
      "b'\\x00\\x00'\n",
      "2\n",
      "b'\\x00\\x00\\x00'\n",
      "3\n",
      "b'\\x00\\x00\\x00\\x00'\n",
      "4\n",
      "b'\\x00\\x00\\x00\\x00\\x00'\n",
      "5\n",
      "b'\\x00\\x00\\x00\\x00\\x00\\x00'\n",
      "6\n",
      "b'\\x00\\x00\\x00\\x00\\x00\\x00\\x00'\n",
      "7\n",
      "b'\\x00\\x00\\x00\\x00\\x00\\x00\\x00\\x00'\n",
      "8\n",
      "b'\\x80\\x00\\x00\\x00\\x00\\x00\\x00\\x00\\x00'\n",
      "9\n",
      "b'\\n\\x80\\x00\\x00\\x00\\x00\\x00\\x00\\x00\\x00'\n",
      "10\n",
      "b'}\\n\\x80\\x00\\x00\\x00\\x00\\x00\\x00\\x00\\x00'\n",
      "11\n",
      "b'f}\\n\\x80\\x00\\x00\\x00\\x00\\x00\\x00\\x00\\x00'\n",
      "12\n",
      "b'ff}\\n\\x80\\x00\\x00\\x00\\x00\\x00\\x00\\x00\\x00'\n",
      "13\n",
      "b'7ff}\\n\\x80\\x00\\x00\\x00\\x00\\x00\\x00\\x00\\x00'\n",
      "14\n",
      "b'47ff}\\n\\x80\\x00\\x00\\x00\\x00\\x00\\x00\\x00\\x00'\n",
      "15\n",
      "b'f47ff}\\n\\x80\\x00\\x00\\x00\\x00\\x00\\x00\\x00\\x00'\n"
     ]
    }
   ],
   "source": [
    "def xor(x, y):\n",
    "    return bytes(a ^ b for a, b in zip(x, y))\n",
    "\n",
    "for blk in range((len(cipher) - 16) // 16):\n",
    "    blk_data = cipher[blk * 16 + 16 : (blk + 1) * 16 + 16]\n",
    "    prev_blk_data = cipher[blk * 16 : (blk + 1) * 16]\n",
    "    \n",
    "    ok = b''\n",
    "    for i in range(16): # crack iv's bit\n",
    "        print(i)\n",
    "        for c in range(256): # iterate all possible characters\n",
    "            iv = b'\\x00' * (15 - i) + bytes([c]) + ok\n",
    "            p = iv + blk_data\n",
    "            p = p.hex().encode()\n",
    "            r.sendlineafter(b'cipher = ', p)\n",
    "            q = r.recvline()\n",
    "            if q != b'NOOOOOOOOO\\n':\n",
    "                ok = bytes([c ^ 0x80]) + ok\n",
    "                print(xor(prev_blk_data[-i-1:], ok))\n",
    "                break"
   ]
  },
  {
   "cell_type": "code",
   "execution_count": null,
   "id": "e649077e-d2df-4f84-8e03-8bdddf073e19",
   "metadata": {},
   "outputs": [],
   "source": []
  }
 ],
 "metadata": {
  "kernelspec": {
   "display_name": "Python 3 (ipykernel)",
   "language": "python",
   "name": "python3"
  },
  "language_info": {
   "codemirror_mode": {
    "name": "ipython",
    "version": 3
   },
   "file_extension": ".py",
   "mimetype": "text/x-python",
   "name": "python",
   "nbconvert_exporter": "python",
   "pygments_lexer": "ipython3",
   "version": "3.9.2"
  }
 },
 "nbformat": 4,
 "nbformat_minor": 5
}
